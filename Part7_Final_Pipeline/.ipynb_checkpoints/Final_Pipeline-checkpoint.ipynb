{
 "cells": [
  {
   "cell_type": "markdown",
   "metadata": {},
   "source": [
    "# Energy Dataset Final Pipeline"
   ]
  },
  {
   "cell_type": "code",
   "execution_count": 20,
   "metadata": {
    "collapsed": true
   },
   "outputs": [],
   "source": [
    "import pandas as pd\n",
    "import time\n",
    "import numpy as np\n",
    "import datetime\n",
    "import logging\n",
    "from sklearn.preprocessing import MinMaxScaler\n",
    "from sklearn.ensemble import RandomForestRegressor\n",
    "from sklearn.model_selection import train_test_split\n",
    "from sklearn.pipeline import make_pipeline"
   ]
  },
  {
   "cell_type": "code",
   "execution_count": 21,
   "metadata": {
    "collapsed": true
   },
   "outputs": [],
   "source": [
    "logfilename = 'pipeLine_logging.txt'\n",
    "logging.basicConfig(filename=logfilename, level=logging.DEBUG,\n",
    "                        format='%(asctime)s - %(levelname)s - %(message)s')\n",
    "logging.debug('Program Started')"
   ]
  },
  {
   "cell_type": "code",
   "execution_count": 22,
   "metadata": {},
   "outputs": [],
   "source": [
    "logging.debug('Loading Data into Dataframe')\n",
    "try :  \n",
    "    df_loaded = pd.read_csv(\"../Data_for_EnergyCaseStudy/energydata_complete.csv\")\n",
    "    df = df_loaded\n",
    "    logging.debug('Data Size'+str(df.shape) )\n",
    "    \n",
    "except :\n",
    "    logging.ERROR('Data logging failed')"
   ]
  },
  {
   "cell_type": "code",
   "execution_count": 23,
   "metadata": {
    "collapsed": true
   },
   "outputs": [],
   "source": [
    "logging.debug(\"Tranforming date time\")\n",
    "df['date'] = pd.to_datetime(df['date'], format='%Y-%m-%d %H:%M:%S', utc=True)"
   ]
  },
  {
   "cell_type": "code",
   "execution_count": 24,
   "metadata": {
    "collapsed": true
   },
   "outputs": [],
   "source": [
    "logging.debug('Creating Column NSM, week_status, day_of_week')\n",
    "df['NSM'] = df.date.apply(lambda x: x.hour*3600 + x.minute*60 +x.second)\n",
    "df['day_of_week'] = df.date.apply(lambda x: x.dayofweek)\n",
    "df['week_status'] = df.day_of_week.apply(lambda x: 0 if (x == 5 or x == 6) else 1)"
   ]
  },
  {
   "cell_type": "code",
   "execution_count": 25,
   "metadata": {},
   "outputs": [],
   "source": [
    "shape_bool = df.date.nunique() == df.shape[0]\n",
    "logging.debug('Checking if the date column is unique for each and every row to be: ')\n",
    "logging.debug(shape_bool)"
   ]
  },
  {
   "cell_type": "code",
   "execution_count": 26,
   "metadata": {},
   "outputs": [],
   "source": [
    "all_columns = df.columns.tolist()\n",
    "\n",
    "logging.debug('Detecting Outliers for Each variable')\n",
    "df_describe = df.describe().T\n",
    "\n",
    "logging.debug('Calculating Interquartile Range, Major Outlier and Minor Outlier')\n",
    "df_describe['Interquartile Range'] = 1.5*(df_describe['75%'] - df_describe['25%'])\n",
    "df_describe['Major Outlier'] = (df_describe['75%'] + df_describe['Interquartile Range'])\n",
    "df_describe['Minor Outlier'] = (df_describe['25%'] - df_describe['Interquartile Range'])\n",
    "\n",
    "logging.debug('Creating function to remove outliers')\n",
    "def remove_outlier(df, variable):\n",
    "    major_o = df_describe.loc[variable,'Major Outlier']\n",
    "    minor_o = df_describe.loc[variable,'Minor Outlier']\n",
    "    df = df.drop(df[(df[variable]>major_o) | (df[variable]<minor_o)].index)\n",
    "    return df\n",
    "\n",
    "outlier_column_list = [x for x in all_columns \n",
    "                       if x not in ('date', 'Appliances', 'lights')]\n",
    "\n",
    "logging.debug('Removing Outliers')\n",
    "for column_name in outlier_column_list:\n",
    "    df = remove_outlier(df, column_name)"
   ]
  },
  {
   "cell_type": "code",
   "execution_count": 27,
   "metadata": {},
   "outputs": [],
   "source": [
    "dropped = ((df_loaded.shape[0] - df.shape[0])/df_loaded.shape[0])*100\n",
    "logging.debug('Percentage of Data Dropped: ')\n",
    "logging.debug(dropped)"
   ]
  },
  {
   "cell_type": "code",
   "execution_count": 28,
   "metadata": {
    "collapsed": true
   },
   "outputs": [],
   "source": [
    "logging.debug('Transformation of WeekStatus and Days_of_week columns')\n",
    "week_status = pd.get_dummies(df['week_status'], prefix = 'week_status')\n",
    "day_of_week = pd.get_dummies(df['day_of_week'], prefix = 'day_of_week')\n",
    "\n",
    "logging.debug('Concat dummy variable dataframe to the main dataframe')\n",
    "df = pd.concat((df,week_status),axis=1)\n",
    "df = pd.concat((df,day_of_week),axis=1)\n",
    "\n",
    "logging.debug('Droppin the WeekStatus and Day_of_week column')\n",
    "df = df.drop(['week_status','day_of_week'],axis=1)"
   ]
  },
  {
   "cell_type": "code",
   "execution_count": 29,
   "metadata": {
    "collapsed": true
   },
   "outputs": [],
   "source": [
    "logging.debug('Renaming the column of dummy variables')\n",
    "df = df.rename(columns={'week_status_0': 'Weekend', 'week_status_1': 'Weekday',\n",
    "                   'day_of_week_0': 'Monday', 'day_of_week_1': 'Tuesday', 'day_of_week_2': 'Wednesday',\n",
    "                  'day_of_week_3': 'Thursday', 'day_of_week_4': 'Friday', 'day_of_week_5': 'Saturday',\n",
    "                  'day_of_week_6': 'Sunday'})"
   ]
  },
  {
   "cell_type": "code",
   "execution_count": 30,
   "metadata": {
    "collapsed": true
   },
   "outputs": [],
   "source": [
    "logging.debug('Redefining the Appliances column, adding the consumption of lights and dropping it')\n",
    "df['Appliances'] = df['Appliances'] + df['lights']\n",
    "df = df.drop(['lights'],axis=1)\n",
    "df = df.drop(['date'],axis=1)"
   ]
  },
  {
   "cell_type": "code",
   "execution_count": 45,
   "metadata": {},
   "outputs": [
    {
     "name": "stdout",
     "output_type": "stream",
     "text": [
      "r2_train_rf:  0.91\n",
      "r2_test_rf:  0.47\n",
      "rms_train_rf:  31.23\n",
      "rms_test_rf:  71.95\n",
      "mae_train_rf:  13.65\n",
      "mae_test_rf:  34.26\n",
      "mape_train_rf:  13.31\n",
      "mape_test_rf:  34.19\n"
     ]
    }
   ],
   "source": [
    "logging.debug('Loading libraries for feature selection and prediction')\n",
    "from sklearn.pipeline import Pipeline\n",
    "from sklearn.feature_selection import SelectFromModel\n",
    "from sklearn.feature_selection import RFE\n",
    "from sklearn.ensemble import RandomForestRegressor\n",
    "from math import sqrt\n",
    "from sklearn.metrics import mean_squared_error\n",
    "from sklearn.metrics import r2_score\n",
    "from sklearn.metrics import mean_absolute_error\n",
    "\n",
    "X = df.drop(['Appliances'],axis=1)\n",
    "y = df['Appliances']\n",
    "\n",
    "logging.debug('Splitting for Feature Selection')\n",
    "X_train, X_test, y_train, y_test = train_test_split(X, y, test_size = 0.2)\n",
    "\n",
    "model_rf = RandomForestRegressor(n_estimators=10)\n",
    "\n",
    "logging.debug('Feature selection as part of a pipeline')\n",
    "clf = Pipeline([('feature_selection', RFE(model_rf, n_features_to_select = 5)),\n",
    "                ('classification', RandomForestRegressor())])\n",
    "\n",
    "logging.debug('Fitting the random forest')\n",
    "clf.fit(X_train, y_train)\n",
    "\n",
    "logging.debug('Predicting and Calculating the Metrices for Prediction of Testing Dataset')\n",
    "prediction_test_rf = clf.predict(X_test)\n",
    "r2_test_rf = r2_score(y_test, prediction_test_rf)\n",
    "rms_test_rf = sqrt(mean_squared_error(y_test, prediction_test_rf))\n",
    "mae_test_rf = mean_absolute_error(y_test,prediction_test_rf)\n",
    "mape_test_rf = np.mean(np.abs((y_test - prediction_test_rf) / y_test)) * 100\n",
    "       \n",
    "logging.debug('Predicting and Calculating the Metrices for Prediction of Training Dataset')\n",
    "prediction_train_rf = clf.predict(X_train)\n",
    "r2_train_rf = r2_score(y_train, prediction_train_rf)\n",
    "rms_train_rf = sqrt(mean_squared_error(y_train, prediction_train_rf))\n",
    "mae_train_rf = mean_absolute_error(y_train,prediction_train_rf)\n",
    "mape_train_rf = np.mean(np.abs((y_train - prediction_train_rf) / y_train)) * 100\n",
    "  \n",
    "logging.debug('Printing Metrices')\n",
    "print('r2_train_rf: ', float(\"{0:.2f}\".format(r2_train_rf)))\n",
    "print('r2_test_rf: ', float(\"{0:.2f}\".format(r2_test_rf)))\n",
    "print('rms_train_rf: ', float(\"{0:.2f}\".format(rms_train_rf)))\n",
    "print('rms_test_rf: ', float(\"{0:.2f}\".format(rms_test_rf)))\n",
    "print('mae_train_rf: ', float(\"{0:.2f}\".format(mae_train_rf)))\n",
    "print('mae_test_rf: ', float(\"{0:.2f}\".format(mae_test_rf)))\n",
    "print('mape_train_rf: ', float(\"{0:.2f}\".format(mape_train_rf)))\n",
    "print('mape_test_rf: ', float(\"{0:.2f}\".format(mape_test_rf)))"
   ]
  },
  {
   "cell_type": "code",
   "execution_count": null,
   "metadata": {
    "collapsed": true
   },
   "outputs": [],
   "source": []
  }
 ],
 "metadata": {
  "kernelspec": {
   "display_name": "Python 3",
   "language": "python",
   "name": "python3"
  },
  "language_info": {
   "codemirror_mode": {
    "name": "ipython",
    "version": 3
   },
   "file_extension": ".py",
   "mimetype": "text/x-python",
   "name": "python",
   "nbconvert_exporter": "python",
   "pygments_lexer": "ipython3",
   "version": "3.6.3"
  }
 },
 "nbformat": 4,
 "nbformat_minor": 2
}
