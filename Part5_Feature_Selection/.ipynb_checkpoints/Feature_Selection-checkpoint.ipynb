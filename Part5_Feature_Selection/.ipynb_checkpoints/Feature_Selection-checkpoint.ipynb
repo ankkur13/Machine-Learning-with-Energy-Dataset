{
 "cells": [
  {
   "cell_type": "markdown",
   "metadata": {},
   "source": [
    "# Energy Dataset Feature_Selection"
   ]
  },
  {
   "cell_type": "code",
   "execution_count": 4,
   "metadata": {
    "collapsed": true,
    "scrolled": true
   },
   "outputs": [],
   "source": [
    "import pandas as pd\n",
    "import numpy as np\n",
    "import seaborn as sns\n",
    "import matplotlib.pyplot as plt\n",
    "from sklearn.model_selection import train_test_split\n",
    "%matplotlib inline"
   ]
  },
  {
   "cell_type": "code",
   "execution_count": 5,
   "metadata": {
    "collapsed": true,
    "scrolled": true
   },
   "outputs": [],
   "source": [
    "df_loaded = pd.read_csv(\"../Part3_Feature_Engineering/energydata_complete_transformed.csv\")\n",
    "df = df_loaded\n",
    "X = df.drop(['Appliances'],axis=1)\n",
    "y = df['Appliances']\n",
    "\n",
    "# Splitting for Feature Selection\n",
    "X_train, X_test, y_train, y_test = train_test_split(X, y, test_size = 0.2)\n",
    "\n",
    "# Creating Features Dataframe\n",
    "all_feature = X.columns.tolist()\n",
    "feature_df = pd.DataFrame(index = all_feature)"
   ]
  },
  {
   "cell_type": "markdown",
   "metadata": {},
   "source": [
    "## Recursive Feature Elimination\n",
    "> [Source](https://machinelearningmastery.com/feature-selection-in-python-with-scikit-learn/):\n",
    ">The Recursive Feature Elimination (RFE) method is a feature selection approach. It works by recursively removing attributes and building a model on those attributes that remain. It uses the model accuracy to identify which attributes (and combination of attributes) contribute the most to predicting the target attribute.\n",
    "\n",
    ">This recipe shows the use of RFE to select 3 attributes."
   ]
  },
  {
   "cell_type": "code",
   "execution_count": 7,
   "metadata": {
    "scrolled": true
   },
   "outputs": [
    {
     "data": {
      "text/html": [
       "<div>\n",
       "<style>\n",
       "    .dataframe thead tr:only-child th {\n",
       "        text-align: right;\n",
       "    }\n",
       "\n",
       "    .dataframe thead th {\n",
       "        text-align: left;\n",
       "    }\n",
       "\n",
       "    .dataframe tbody tr th {\n",
       "        vertical-align: top;\n",
       "    }\n",
       "</style>\n",
       "<table border=\"1\" class=\"dataframe\">\n",
       "  <thead>\n",
       "    <tr style=\"text-align: right;\">\n",
       "      <th></th>\n",
       "      <th>RFE_LR_Rank</th>\n",
       "      <th>RFE_Lasso_Rank</th>\n",
       "      <th>RFE_RF_Rank</th>\n",
       "    </tr>\n",
       "  </thead>\n",
       "  <tbody>\n",
       "    <tr>\n",
       "      <th>T1</th>\n",
       "      <td>19</td>\n",
       "      <td>31</td>\n",
       "      <td>20</td>\n",
       "    </tr>\n",
       "    <tr>\n",
       "      <th>RH_1</th>\n",
       "      <td>1</td>\n",
       "      <td>1</td>\n",
       "      <td>11</td>\n",
       "    </tr>\n",
       "    <tr>\n",
       "      <th>T2</th>\n",
       "      <td>2</td>\n",
       "      <td>1</td>\n",
       "      <td>14</td>\n",
       "    </tr>\n",
       "    <tr>\n",
       "      <th>RH_2</th>\n",
       "      <td>1</td>\n",
       "      <td>1</td>\n",
       "      <td>16</td>\n",
       "    </tr>\n",
       "    <tr>\n",
       "      <th>T3</th>\n",
       "      <td>3</td>\n",
       "      <td>2</td>\n",
       "      <td>6</td>\n",
       "    </tr>\n",
       "    <tr>\n",
       "      <th>RH_3</th>\n",
       "      <td>13</td>\n",
       "      <td>8</td>\n",
       "      <td>2</td>\n",
       "    </tr>\n",
       "    <tr>\n",
       "      <th>T4</th>\n",
       "      <td>11</td>\n",
       "      <td>14</td>\n",
       "      <td>5</td>\n",
       "    </tr>\n",
       "    <tr>\n",
       "      <th>RH_4</th>\n",
       "      <td>21</td>\n",
       "      <td>24</td>\n",
       "      <td>3</td>\n",
       "    </tr>\n",
       "    <tr>\n",
       "      <th>T5</th>\n",
       "      <td>12</td>\n",
       "      <td>11</td>\n",
       "      <td>18</td>\n",
       "    </tr>\n",
       "    <tr>\n",
       "      <th>RH_5</th>\n",
       "      <td>25</td>\n",
       "      <td>15</td>\n",
       "      <td>9</td>\n",
       "    </tr>\n",
       "    <tr>\n",
       "      <th>RH_6</th>\n",
       "      <td>29</td>\n",
       "      <td>17</td>\n",
       "      <td>4</td>\n",
       "    </tr>\n",
       "    <tr>\n",
       "      <th>RH_7</th>\n",
       "      <td>22</td>\n",
       "      <td>13</td>\n",
       "      <td>10</td>\n",
       "    </tr>\n",
       "    <tr>\n",
       "      <th>T8</th>\n",
       "      <td>5</td>\n",
       "      <td>4</td>\n",
       "      <td>8</td>\n",
       "    </tr>\n",
       "    <tr>\n",
       "      <th>RH_8</th>\n",
       "      <td>10</td>\n",
       "      <td>5</td>\n",
       "      <td>15</td>\n",
       "    </tr>\n",
       "    <tr>\n",
       "      <th>T9</th>\n",
       "      <td>4</td>\n",
       "      <td>3</td>\n",
       "      <td>12</td>\n",
       "    </tr>\n",
       "    <tr>\n",
       "      <th>RH_9</th>\n",
       "      <td>24</td>\n",
       "      <td>12</td>\n",
       "      <td>17</td>\n",
       "    </tr>\n",
       "    <tr>\n",
       "      <th>T_out</th>\n",
       "      <td>20</td>\n",
       "      <td>30</td>\n",
       "      <td>1</td>\n",
       "    </tr>\n",
       "    <tr>\n",
       "      <th>Press_mm_hg</th>\n",
       "      <td>26</td>\n",
       "      <td>19</td>\n",
       "      <td>1</td>\n",
       "    </tr>\n",
       "    <tr>\n",
       "      <th>RH_out</th>\n",
       "      <td>28</td>\n",
       "      <td>21</td>\n",
       "      <td>13</td>\n",
       "    </tr>\n",
       "    <tr>\n",
       "      <th>Windspeed</th>\n",
       "      <td>16</td>\n",
       "      <td>10</td>\n",
       "      <td>21</td>\n",
       "    </tr>\n",
       "    <tr>\n",
       "      <th>Visibility</th>\n",
       "      <td>27</td>\n",
       "      <td>20</td>\n",
       "      <td>22</td>\n",
       "    </tr>\n",
       "    <tr>\n",
       "      <th>Tdewpoint</th>\n",
       "      <td>18</td>\n",
       "      <td>23</td>\n",
       "      <td>7</td>\n",
       "    </tr>\n",
       "    <tr>\n",
       "      <th>rv2</th>\n",
       "      <td>30</td>\n",
       "      <td>25</td>\n",
       "      <td>19</td>\n",
       "    </tr>\n",
       "    <tr>\n",
       "      <th>NSM</th>\n",
       "      <td>31</td>\n",
       "      <td>22</td>\n",
       "      <td>1</td>\n",
       "    </tr>\n",
       "    <tr>\n",
       "      <th>Weekend</th>\n",
       "      <td>23</td>\n",
       "      <td>26</td>\n",
       "      <td>29</td>\n",
       "    </tr>\n",
       "    <tr>\n",
       "      <th>Weekday</th>\n",
       "      <td>17</td>\n",
       "      <td>27</td>\n",
       "      <td>28</td>\n",
       "    </tr>\n",
       "    <tr>\n",
       "      <th>Monday</th>\n",
       "      <td>1</td>\n",
       "      <td>6</td>\n",
       "      <td>23</td>\n",
       "    </tr>\n",
       "    <tr>\n",
       "      <th>Tuesday</th>\n",
       "      <td>8</td>\n",
       "      <td>7</td>\n",
       "      <td>25</td>\n",
       "    </tr>\n",
       "    <tr>\n",
       "      <th>Wednesday</th>\n",
       "      <td>14</td>\n",
       "      <td>28</td>\n",
       "      <td>27</td>\n",
       "    </tr>\n",
       "    <tr>\n",
       "      <th>Thursday</th>\n",
       "      <td>9</td>\n",
       "      <td>18</td>\n",
       "      <td>31</td>\n",
       "    </tr>\n",
       "    <tr>\n",
       "      <th>Friday</th>\n",
       "      <td>6</td>\n",
       "      <td>9</td>\n",
       "      <td>24</td>\n",
       "    </tr>\n",
       "    <tr>\n",
       "      <th>Saturday</th>\n",
       "      <td>7</td>\n",
       "      <td>16</td>\n",
       "      <td>26</td>\n",
       "    </tr>\n",
       "    <tr>\n",
       "      <th>Sunday</th>\n",
       "      <td>15</td>\n",
       "      <td>29</td>\n",
       "      <td>30</td>\n",
       "    </tr>\n",
       "  </tbody>\n",
       "</table>\n",
       "</div>"
      ],
      "text/plain": [
       "             RFE_LR_Rank  RFE_Lasso_Rank  RFE_RF_Rank\n",
       "T1                    19              31           20\n",
       "RH_1                   1               1           11\n",
       "T2                     2               1           14\n",
       "RH_2                   1               1           16\n",
       "T3                     3               2            6\n",
       "RH_3                  13               8            2\n",
       "T4                    11              14            5\n",
       "RH_4                  21              24            3\n",
       "T5                    12              11           18\n",
       "RH_5                  25              15            9\n",
       "RH_6                  29              17            4\n",
       "RH_7                  22              13           10\n",
       "T8                     5               4            8\n",
       "RH_8                  10               5           15\n",
       "T9                     4               3           12\n",
       "RH_9                  24              12           17\n",
       "T_out                 20              30            1\n",
       "Press_mm_hg           26              19            1\n",
       "RH_out                28              21           13\n",
       "Windspeed             16              10           21\n",
       "Visibility            27              20           22\n",
       "Tdewpoint             18              23            7\n",
       "rv2                   30              25           19\n",
       "NSM                   31              22            1\n",
       "Weekend               23              26           29\n",
       "Weekday               17              27           28\n",
       "Monday                 1               6           23\n",
       "Tuesday                8               7           25\n",
       "Wednesday             14              28           27\n",
       "Thursday               9              18           31\n",
       "Friday                 6               9           24\n",
       "Saturday               7              16           26\n",
       "Sunday                15              29           30"
      ]
     },
     "execution_count": 7,
     "metadata": {},
     "output_type": "execute_result"
    }
   ],
   "source": [
    "# Recursive Feature Elimination\n",
    "from sklearn.feature_selection import RFE\n",
    "from sklearn.linear_model import (LinearRegression, Ridge, Lasso)\n",
    "from sklearn.ensemble import RandomForestRegressor\n",
    "\n",
    "# Create a base classifier used to evaluate a subset of attributes\n",
    "model_lr = LinearRegression()\n",
    "model_lasso = Lasso()\n",
    "model_rf = RandomForestRegressor(n_estimators=50)\n",
    "\n",
    "# Create the RFE model and select 3 attributes\n",
    "rfe_lr = RFE(model_lr, n_features_to_select = 3)\n",
    "rfe_lr = rfe_lr.fit(X, y)\n",
    "\n",
    "rfe_lasso = RFE(model_lasso, n_features_to_select = 3)\n",
    "rfe_lasso = rfe_lasso.fit(X, y)\n",
    "\n",
    "rfe_rf = RFE(model_rf, n_features_to_select = 3)\n",
    "rfe_rf = rfe_rf.fit(X, y)\n",
    "\n",
    "# Summarize the selection of the attributes\n",
    "feature_df['RFE_LR_Rank'] = rfe_lr.ranking_\n",
    "feature_df['RFE_Lasso_Rank'] = rfe_lasso.ranking_\n",
    "feature_df['RFE_RF_Rank'] = rfe_rf.ranking_\n",
    "\n",
    "feature_df"
   ]
  },
  {
   "cell_type": "markdown",
   "metadata": {},
   "source": [
    "## Feature Importance\n",
    ">[Source](https://machinelearningmastery.com/feature-selection-in-python-with-scikit-learn/):\n",
    ">Methods that use ensembles of decision trees (like Random Forest or Extra Trees) can also compute the relative importance of each attribute. These importance values can be used to inform a feature selection process.\n",
    "\n",
    ">This recipe shows the construction of an Extra Trees ensemble and displays the relative feature importance."
   ]
  },
  {
   "cell_type": "code",
   "execution_count": 8,
   "metadata": {
    "scrolled": true
   },
   "outputs": [
    {
     "data": {
      "text/html": [
       "<div>\n",
       "<style>\n",
       "    .dataframe thead tr:only-child th {\n",
       "        text-align: right;\n",
       "    }\n",
       "\n",
       "    .dataframe thead th {\n",
       "        text-align: left;\n",
       "    }\n",
       "\n",
       "    .dataframe tbody tr th {\n",
       "        vertical-align: top;\n",
       "    }\n",
       "</style>\n",
       "<table border=\"1\" class=\"dataframe\">\n",
       "  <thead>\n",
       "    <tr style=\"text-align: right;\">\n",
       "      <th></th>\n",
       "      <th>RFE_LR_Rank</th>\n",
       "      <th>RFE_Lasso_Rank</th>\n",
       "      <th>RFE_RF_Rank</th>\n",
       "      <th>Feature_Imp_ETC</th>\n",
       "    </tr>\n",
       "  </thead>\n",
       "  <tbody>\n",
       "    <tr>\n",
       "      <th>T1</th>\n",
       "      <td>19</td>\n",
       "      <td>31</td>\n",
       "      <td>20</td>\n",
       "      <td>0.036187</td>\n",
       "    </tr>\n",
       "    <tr>\n",
       "      <th>RH_1</th>\n",
       "      <td>1</td>\n",
       "      <td>1</td>\n",
       "      <td>11</td>\n",
       "      <td>0.041077</td>\n",
       "    </tr>\n",
       "    <tr>\n",
       "      <th>T2</th>\n",
       "      <td>2</td>\n",
       "      <td>1</td>\n",
       "      <td>14</td>\n",
       "      <td>0.041253</td>\n",
       "    </tr>\n",
       "    <tr>\n",
       "      <th>RH_2</th>\n",
       "      <td>1</td>\n",
       "      <td>1</td>\n",
       "      <td>16</td>\n",
       "      <td>0.042027</td>\n",
       "    </tr>\n",
       "    <tr>\n",
       "      <th>T3</th>\n",
       "      <td>3</td>\n",
       "      <td>2</td>\n",
       "      <td>6</td>\n",
       "      <td>0.036308</td>\n",
       "    </tr>\n",
       "    <tr>\n",
       "      <th>RH_3</th>\n",
       "      <td>13</td>\n",
       "      <td>8</td>\n",
       "      <td>2</td>\n",
       "      <td>0.039195</td>\n",
       "    </tr>\n",
       "    <tr>\n",
       "      <th>T4</th>\n",
       "      <td>11</td>\n",
       "      <td>14</td>\n",
       "      <td>5</td>\n",
       "      <td>0.035974</td>\n",
       "    </tr>\n",
       "    <tr>\n",
       "      <th>RH_4</th>\n",
       "      <td>21</td>\n",
       "      <td>24</td>\n",
       "      <td>3</td>\n",
       "      <td>0.040497</td>\n",
       "    </tr>\n",
       "    <tr>\n",
       "      <th>T5</th>\n",
       "      <td>12</td>\n",
       "      <td>11</td>\n",
       "      <td>18</td>\n",
       "      <td>0.033217</td>\n",
       "    </tr>\n",
       "    <tr>\n",
       "      <th>RH_5</th>\n",
       "      <td>25</td>\n",
       "      <td>15</td>\n",
       "      <td>9</td>\n",
       "      <td>0.040028</td>\n",
       "    </tr>\n",
       "    <tr>\n",
       "      <th>RH_6</th>\n",
       "      <td>29</td>\n",
       "      <td>17</td>\n",
       "      <td>4</td>\n",
       "      <td>0.042822</td>\n",
       "    </tr>\n",
       "    <tr>\n",
       "      <th>RH_7</th>\n",
       "      <td>22</td>\n",
       "      <td>13</td>\n",
       "      <td>10</td>\n",
       "      <td>0.041788</td>\n",
       "    </tr>\n",
       "    <tr>\n",
       "      <th>T8</th>\n",
       "      <td>5</td>\n",
       "      <td>4</td>\n",
       "      <td>8</td>\n",
       "      <td>0.037749</td>\n",
       "    </tr>\n",
       "    <tr>\n",
       "      <th>RH_8</th>\n",
       "      <td>10</td>\n",
       "      <td>5</td>\n",
       "      <td>15</td>\n",
       "      <td>0.043768</td>\n",
       "    </tr>\n",
       "    <tr>\n",
       "      <th>T9</th>\n",
       "      <td>4</td>\n",
       "      <td>3</td>\n",
       "      <td>12</td>\n",
       "      <td>0.027852</td>\n",
       "    </tr>\n",
       "    <tr>\n",
       "      <th>RH_9</th>\n",
       "      <td>24</td>\n",
       "      <td>12</td>\n",
       "      <td>17</td>\n",
       "      <td>0.043937</td>\n",
       "    </tr>\n",
       "    <tr>\n",
       "      <th>T_out</th>\n",
       "      <td>20</td>\n",
       "      <td>30</td>\n",
       "      <td>1</td>\n",
       "      <td>0.043390</td>\n",
       "    </tr>\n",
       "    <tr>\n",
       "      <th>Press_mm_hg</th>\n",
       "      <td>26</td>\n",
       "      <td>19</td>\n",
       "      <td>1</td>\n",
       "      <td>0.040907</td>\n",
       "    </tr>\n",
       "    <tr>\n",
       "      <th>RH_out</th>\n",
       "      <td>28</td>\n",
       "      <td>21</td>\n",
       "      <td>13</td>\n",
       "      <td>0.043055</td>\n",
       "    </tr>\n",
       "    <tr>\n",
       "      <th>Windspeed</th>\n",
       "      <td>16</td>\n",
       "      <td>10</td>\n",
       "      <td>21</td>\n",
       "      <td>0.034927</td>\n",
       "    </tr>\n",
       "    <tr>\n",
       "      <th>Visibility</th>\n",
       "      <td>27</td>\n",
       "      <td>20</td>\n",
       "      <td>22</td>\n",
       "      <td>0.031805</td>\n",
       "    </tr>\n",
       "    <tr>\n",
       "      <th>Tdewpoint</th>\n",
       "      <td>18</td>\n",
       "      <td>23</td>\n",
       "      <td>7</td>\n",
       "      <td>0.044073</td>\n",
       "    </tr>\n",
       "    <tr>\n",
       "      <th>rv2</th>\n",
       "      <td>30</td>\n",
       "      <td>25</td>\n",
       "      <td>19</td>\n",
       "      <td>0.044856</td>\n",
       "    </tr>\n",
       "    <tr>\n",
       "      <th>NSM</th>\n",
       "      <td>31</td>\n",
       "      <td>22</td>\n",
       "      <td>1</td>\n",
       "      <td>0.066458</td>\n",
       "    </tr>\n",
       "    <tr>\n",
       "      <th>Weekend</th>\n",
       "      <td>23</td>\n",
       "      <td>26</td>\n",
       "      <td>29</td>\n",
       "      <td>0.002379</td>\n",
       "    </tr>\n",
       "    <tr>\n",
       "      <th>Weekday</th>\n",
       "      <td>17</td>\n",
       "      <td>27</td>\n",
       "      <td>28</td>\n",
       "      <td>0.002380</td>\n",
       "    </tr>\n",
       "    <tr>\n",
       "      <th>Monday</th>\n",
       "      <td>1</td>\n",
       "      <td>6</td>\n",
       "      <td>23</td>\n",
       "      <td>0.003478</td>\n",
       "    </tr>\n",
       "    <tr>\n",
       "      <th>Tuesday</th>\n",
       "      <td>8</td>\n",
       "      <td>7</td>\n",
       "      <td>25</td>\n",
       "      <td>0.003573</td>\n",
       "    </tr>\n",
       "    <tr>\n",
       "      <th>Wednesday</th>\n",
       "      <td>14</td>\n",
       "      <td>28</td>\n",
       "      <td>27</td>\n",
       "      <td>0.003772</td>\n",
       "    </tr>\n",
       "    <tr>\n",
       "      <th>Thursday</th>\n",
       "      <td>9</td>\n",
       "      <td>18</td>\n",
       "      <td>31</td>\n",
       "      <td>0.003615</td>\n",
       "    </tr>\n",
       "    <tr>\n",
       "      <th>Friday</th>\n",
       "      <td>6</td>\n",
       "      <td>9</td>\n",
       "      <td>24</td>\n",
       "      <td>0.003206</td>\n",
       "    </tr>\n",
       "    <tr>\n",
       "      <th>Saturday</th>\n",
       "      <td>7</td>\n",
       "      <td>16</td>\n",
       "      <td>26</td>\n",
       "      <td>0.002150</td>\n",
       "    </tr>\n",
       "    <tr>\n",
       "      <th>Sunday</th>\n",
       "      <td>15</td>\n",
       "      <td>29</td>\n",
       "      <td>30</td>\n",
       "      <td>0.002300</td>\n",
       "    </tr>\n",
       "  </tbody>\n",
       "</table>\n",
       "</div>"
      ],
      "text/plain": [
       "             RFE_LR_Rank  RFE_Lasso_Rank  RFE_RF_Rank  Feature_Imp_ETC\n",
       "T1                    19              31           20         0.036187\n",
       "RH_1                   1               1           11         0.041077\n",
       "T2                     2               1           14         0.041253\n",
       "RH_2                   1               1           16         0.042027\n",
       "T3                     3               2            6         0.036308\n",
       "RH_3                  13               8            2         0.039195\n",
       "T4                    11              14            5         0.035974\n",
       "RH_4                  21              24            3         0.040497\n",
       "T5                    12              11           18         0.033217\n",
       "RH_5                  25              15            9         0.040028\n",
       "RH_6                  29              17            4         0.042822\n",
       "RH_7                  22              13           10         0.041788\n",
       "T8                     5               4            8         0.037749\n",
       "RH_8                  10               5           15         0.043768\n",
       "T9                     4               3           12         0.027852\n",
       "RH_9                  24              12           17         0.043937\n",
       "T_out                 20              30            1         0.043390\n",
       "Press_mm_hg           26              19            1         0.040907\n",
       "RH_out                28              21           13         0.043055\n",
       "Windspeed             16              10           21         0.034927\n",
       "Visibility            27              20           22         0.031805\n",
       "Tdewpoint             18              23            7         0.044073\n",
       "rv2                   30              25           19         0.044856\n",
       "NSM                   31              22            1         0.066458\n",
       "Weekend               23              26           29         0.002379\n",
       "Weekday               17              27           28         0.002380\n",
       "Monday                 1               6           23         0.003478\n",
       "Tuesday                8               7           25         0.003573\n",
       "Wednesday             14              28           27         0.003772\n",
       "Thursday               9              18           31         0.003615\n",
       "Friday                 6               9           24         0.003206\n",
       "Saturday               7              16           26         0.002150\n",
       "Sunday                15              29           30         0.002300"
      ]
     },
     "execution_count": 8,
     "metadata": {},
     "output_type": "execute_result"
    }
   ],
   "source": [
    "# Feature Importance\n",
    "from sklearn import metrics\n",
    "from sklearn.ensemble import ExtraTreesClassifier\n",
    "\n",
    "# Fit an Extra Trees model to the data\n",
    "model = ExtraTreesClassifier()\n",
    "model.fit(X, y)\n",
    "\n",
    "# Display the relative importance of each attribute\n",
    "feature_df['Feature_Imp_ETC'] = model.feature_importances_\n",
    "feature_df"
   ]
  },
  {
   "cell_type": "markdown",
   "metadata": {},
   "source": [
    "Giving Rank as per relative importance of ExtraTreesClassifier Feature Importance calculated above:"
   ]
  },
  {
   "cell_type": "code",
   "execution_count": 9,
   "metadata": {
    "scrolled": true
   },
   "outputs": [
    {
     "data": {
      "text/html": [
       "<div>\n",
       "<style>\n",
       "    .dataframe thead tr:only-child th {\n",
       "        text-align: right;\n",
       "    }\n",
       "\n",
       "    .dataframe thead th {\n",
       "        text-align: left;\n",
       "    }\n",
       "\n",
       "    .dataframe tbody tr th {\n",
       "        vertical-align: top;\n",
       "    }\n",
       "</style>\n",
       "<table border=\"1\" class=\"dataframe\">\n",
       "  <thead>\n",
       "    <tr style=\"text-align: right;\">\n",
       "      <th></th>\n",
       "      <th>RFE_LR_Rank</th>\n",
       "      <th>RFE_Lasso_Rank</th>\n",
       "      <th>RFE_RF_Rank</th>\n",
       "      <th>Feature_Imp_ETC</th>\n",
       "      <th>Feature_Imp_ETC_Rank</th>\n",
       "    </tr>\n",
       "  </thead>\n",
       "  <tbody>\n",
       "    <tr>\n",
       "      <th>NSM</th>\n",
       "      <td>31</td>\n",
       "      <td>22</td>\n",
       "      <td>1</td>\n",
       "      <td>0.066458</td>\n",
       "      <td>1</td>\n",
       "    </tr>\n",
       "    <tr>\n",
       "      <th>rv2</th>\n",
       "      <td>30</td>\n",
       "      <td>25</td>\n",
       "      <td>19</td>\n",
       "      <td>0.044856</td>\n",
       "      <td>1</td>\n",
       "    </tr>\n",
       "    <tr>\n",
       "      <th>Tdewpoint</th>\n",
       "      <td>18</td>\n",
       "      <td>23</td>\n",
       "      <td>7</td>\n",
       "      <td>0.044073</td>\n",
       "      <td>1</td>\n",
       "    </tr>\n",
       "    <tr>\n",
       "      <th>RH_9</th>\n",
       "      <td>24</td>\n",
       "      <td>12</td>\n",
       "      <td>17</td>\n",
       "      <td>0.043937</td>\n",
       "      <td>2</td>\n",
       "    </tr>\n",
       "    <tr>\n",
       "      <th>RH_8</th>\n",
       "      <td>10</td>\n",
       "      <td>5</td>\n",
       "      <td>15</td>\n",
       "      <td>0.043768</td>\n",
       "      <td>3</td>\n",
       "    </tr>\n",
       "    <tr>\n",
       "      <th>T_out</th>\n",
       "      <td>20</td>\n",
       "      <td>30</td>\n",
       "      <td>1</td>\n",
       "      <td>0.043390</td>\n",
       "      <td>4</td>\n",
       "    </tr>\n",
       "    <tr>\n",
       "      <th>RH_out</th>\n",
       "      <td>28</td>\n",
       "      <td>21</td>\n",
       "      <td>13</td>\n",
       "      <td>0.043055</td>\n",
       "      <td>5</td>\n",
       "    </tr>\n",
       "    <tr>\n",
       "      <th>RH_6</th>\n",
       "      <td>29</td>\n",
       "      <td>17</td>\n",
       "      <td>4</td>\n",
       "      <td>0.042822</td>\n",
       "      <td>6</td>\n",
       "    </tr>\n",
       "    <tr>\n",
       "      <th>RH_2</th>\n",
       "      <td>1</td>\n",
       "      <td>1</td>\n",
       "      <td>16</td>\n",
       "      <td>0.042027</td>\n",
       "      <td>7</td>\n",
       "    </tr>\n",
       "    <tr>\n",
       "      <th>RH_7</th>\n",
       "      <td>22</td>\n",
       "      <td>13</td>\n",
       "      <td>10</td>\n",
       "      <td>0.041788</td>\n",
       "      <td>8</td>\n",
       "    </tr>\n",
       "    <tr>\n",
       "      <th>T2</th>\n",
       "      <td>2</td>\n",
       "      <td>1</td>\n",
       "      <td>14</td>\n",
       "      <td>0.041253</td>\n",
       "      <td>9</td>\n",
       "    </tr>\n",
       "    <tr>\n",
       "      <th>RH_1</th>\n",
       "      <td>1</td>\n",
       "      <td>1</td>\n",
       "      <td>11</td>\n",
       "      <td>0.041077</td>\n",
       "      <td>10</td>\n",
       "    </tr>\n",
       "    <tr>\n",
       "      <th>Press_mm_hg</th>\n",
       "      <td>26</td>\n",
       "      <td>19</td>\n",
       "      <td>1</td>\n",
       "      <td>0.040907</td>\n",
       "      <td>11</td>\n",
       "    </tr>\n",
       "    <tr>\n",
       "      <th>RH_4</th>\n",
       "      <td>21</td>\n",
       "      <td>24</td>\n",
       "      <td>3</td>\n",
       "      <td>0.040497</td>\n",
       "      <td>12</td>\n",
       "    </tr>\n",
       "    <tr>\n",
       "      <th>RH_5</th>\n",
       "      <td>25</td>\n",
       "      <td>15</td>\n",
       "      <td>9</td>\n",
       "      <td>0.040028</td>\n",
       "      <td>13</td>\n",
       "    </tr>\n",
       "    <tr>\n",
       "      <th>RH_3</th>\n",
       "      <td>13</td>\n",
       "      <td>8</td>\n",
       "      <td>2</td>\n",
       "      <td>0.039195</td>\n",
       "      <td>14</td>\n",
       "    </tr>\n",
       "    <tr>\n",
       "      <th>T8</th>\n",
       "      <td>5</td>\n",
       "      <td>4</td>\n",
       "      <td>8</td>\n",
       "      <td>0.037749</td>\n",
       "      <td>15</td>\n",
       "    </tr>\n",
       "    <tr>\n",
       "      <th>T3</th>\n",
       "      <td>3</td>\n",
       "      <td>2</td>\n",
       "      <td>6</td>\n",
       "      <td>0.036308</td>\n",
       "      <td>16</td>\n",
       "    </tr>\n",
       "    <tr>\n",
       "      <th>T1</th>\n",
       "      <td>19</td>\n",
       "      <td>31</td>\n",
       "      <td>20</td>\n",
       "      <td>0.036187</td>\n",
       "      <td>17</td>\n",
       "    </tr>\n",
       "    <tr>\n",
       "      <th>T4</th>\n",
       "      <td>11</td>\n",
       "      <td>14</td>\n",
       "      <td>5</td>\n",
       "      <td>0.035974</td>\n",
       "      <td>18</td>\n",
       "    </tr>\n",
       "    <tr>\n",
       "      <th>Windspeed</th>\n",
       "      <td>16</td>\n",
       "      <td>10</td>\n",
       "      <td>21</td>\n",
       "      <td>0.034927</td>\n",
       "      <td>19</td>\n",
       "    </tr>\n",
       "    <tr>\n",
       "      <th>T5</th>\n",
       "      <td>12</td>\n",
       "      <td>11</td>\n",
       "      <td>18</td>\n",
       "      <td>0.033217</td>\n",
       "      <td>20</td>\n",
       "    </tr>\n",
       "    <tr>\n",
       "      <th>Visibility</th>\n",
       "      <td>27</td>\n",
       "      <td>20</td>\n",
       "      <td>22</td>\n",
       "      <td>0.031805</td>\n",
       "      <td>21</td>\n",
       "    </tr>\n",
       "    <tr>\n",
       "      <th>T9</th>\n",
       "      <td>4</td>\n",
       "      <td>3</td>\n",
       "      <td>12</td>\n",
       "      <td>0.027852</td>\n",
       "      <td>22</td>\n",
       "    </tr>\n",
       "    <tr>\n",
       "      <th>Wednesday</th>\n",
       "      <td>14</td>\n",
       "      <td>28</td>\n",
       "      <td>27</td>\n",
       "      <td>0.003772</td>\n",
       "      <td>23</td>\n",
       "    </tr>\n",
       "    <tr>\n",
       "      <th>Thursday</th>\n",
       "      <td>9</td>\n",
       "      <td>18</td>\n",
       "      <td>31</td>\n",
       "      <td>0.003615</td>\n",
       "      <td>24</td>\n",
       "    </tr>\n",
       "    <tr>\n",
       "      <th>Tuesday</th>\n",
       "      <td>8</td>\n",
       "      <td>7</td>\n",
       "      <td>25</td>\n",
       "      <td>0.003573</td>\n",
       "      <td>25</td>\n",
       "    </tr>\n",
       "    <tr>\n",
       "      <th>Monday</th>\n",
       "      <td>1</td>\n",
       "      <td>6</td>\n",
       "      <td>23</td>\n",
       "      <td>0.003478</td>\n",
       "      <td>26</td>\n",
       "    </tr>\n",
       "    <tr>\n",
       "      <th>Friday</th>\n",
       "      <td>6</td>\n",
       "      <td>9</td>\n",
       "      <td>24</td>\n",
       "      <td>0.003206</td>\n",
       "      <td>27</td>\n",
       "    </tr>\n",
       "    <tr>\n",
       "      <th>Weekday</th>\n",
       "      <td>17</td>\n",
       "      <td>27</td>\n",
       "      <td>28</td>\n",
       "      <td>0.002380</td>\n",
       "      <td>28</td>\n",
       "    </tr>\n",
       "    <tr>\n",
       "      <th>Weekend</th>\n",
       "      <td>23</td>\n",
       "      <td>26</td>\n",
       "      <td>29</td>\n",
       "      <td>0.002379</td>\n",
       "      <td>29</td>\n",
       "    </tr>\n",
       "    <tr>\n",
       "      <th>Sunday</th>\n",
       "      <td>15</td>\n",
       "      <td>29</td>\n",
       "      <td>30</td>\n",
       "      <td>0.002300</td>\n",
       "      <td>30</td>\n",
       "    </tr>\n",
       "    <tr>\n",
       "      <th>Saturday</th>\n",
       "      <td>7</td>\n",
       "      <td>16</td>\n",
       "      <td>26</td>\n",
       "      <td>0.002150</td>\n",
       "      <td>31</td>\n",
       "    </tr>\n",
       "  </tbody>\n",
       "</table>\n",
       "</div>"
      ],
      "text/plain": [
       "             RFE_LR_Rank  RFE_Lasso_Rank  RFE_RF_Rank  Feature_Imp_ETC  \\\n",
       "NSM                   31              22            1         0.066458   \n",
       "rv2                   30              25           19         0.044856   \n",
       "Tdewpoint             18              23            7         0.044073   \n",
       "RH_9                  24              12           17         0.043937   \n",
       "RH_8                  10               5           15         0.043768   \n",
       "T_out                 20              30            1         0.043390   \n",
       "RH_out                28              21           13         0.043055   \n",
       "RH_6                  29              17            4         0.042822   \n",
       "RH_2                   1               1           16         0.042027   \n",
       "RH_7                  22              13           10         0.041788   \n",
       "T2                     2               1           14         0.041253   \n",
       "RH_1                   1               1           11         0.041077   \n",
       "Press_mm_hg           26              19            1         0.040907   \n",
       "RH_4                  21              24            3         0.040497   \n",
       "RH_5                  25              15            9         0.040028   \n",
       "RH_3                  13               8            2         0.039195   \n",
       "T8                     5               4            8         0.037749   \n",
       "T3                     3               2            6         0.036308   \n",
       "T1                    19              31           20         0.036187   \n",
       "T4                    11              14            5         0.035974   \n",
       "Windspeed             16              10           21         0.034927   \n",
       "T5                    12              11           18         0.033217   \n",
       "Visibility            27              20           22         0.031805   \n",
       "T9                     4               3           12         0.027852   \n",
       "Wednesday             14              28           27         0.003772   \n",
       "Thursday               9              18           31         0.003615   \n",
       "Tuesday                8               7           25         0.003573   \n",
       "Monday                 1               6           23         0.003478   \n",
       "Friday                 6               9           24         0.003206   \n",
       "Weekday               17              27           28         0.002380   \n",
       "Weekend               23              26           29         0.002379   \n",
       "Sunday                15              29           30         0.002300   \n",
       "Saturday               7              16           26         0.002150   \n",
       "\n",
       "             Feature_Imp_ETC_Rank  \n",
       "NSM                             1  \n",
       "rv2                             1  \n",
       "Tdewpoint                       1  \n",
       "RH_9                            2  \n",
       "RH_8                            3  \n",
       "T_out                           4  \n",
       "RH_out                          5  \n",
       "RH_6                            6  \n",
       "RH_2                            7  \n",
       "RH_7                            8  \n",
       "T2                              9  \n",
       "RH_1                           10  \n",
       "Press_mm_hg                    11  \n",
       "RH_4                           12  \n",
       "RH_5                           13  \n",
       "RH_3                           14  \n",
       "T8                             15  \n",
       "T3                             16  \n",
       "T1                             17  \n",
       "T4                             18  \n",
       "Windspeed                      19  \n",
       "T5                             20  \n",
       "Visibility                     21  \n",
       "T9                             22  \n",
       "Wednesday                      23  \n",
       "Thursday                       24  \n",
       "Tuesday                        25  \n",
       "Monday                         26  \n",
       "Friday                         27  \n",
       "Weekday                        28  \n",
       "Weekend                        29  \n",
       "Sunday                         30  \n",
       "Saturday                       31  "
      ]
     },
     "execution_count": 9,
     "metadata": {},
     "output_type": "execute_result"
    }
   ],
   "source": [
    "# Sort the dataframe as per Feature Importance\n",
    "feature_df = feature_df.sort_values('Feature_Imp_ETC', ascending = False)\n",
    "#feature_imp_sort_df['Feature'] = feature_imp_sort_df.index\n",
    "feature_df['Feature_Imp_ETC_Rank'] = [1,1,1,2,3,4,5,6,7,8,9,10,11,12,13,14,15,16,17,18,19,20,21,22,23,24,25,26,\n",
    "                                              27,28,29,30,31]\n",
    "feature_df"
   ]
  },
  {
   "cell_type": "markdown",
   "metadata": {},
   "source": [
    "Calculating mean rank between `RFE_RF_Rank` and\t`Feature_Imp_ETC_Rank`"
   ]
  },
  {
   "cell_type": "code",
   "execution_count": 10,
   "metadata": {
    "collapsed": true,
    "scrolled": true
   },
   "outputs": [],
   "source": [
    "feature_df['Mean_Rank'] = (feature_df['RFE_RF_Rank'] + feature_df['Feature_Imp_ETC_Rank'])/2"
   ]
  },
  {
   "cell_type": "code",
   "execution_count": 11,
   "metadata": {
    "scrolled": false
   },
   "outputs": [
    {
     "data": {
      "image/png": "[encoded data removed]",
      "text/plain": [
       "<matplotlib.figure.Figure at 0x2a839902400>"
      ]
     },
     "metadata": {},
     "output_type": "display_data"
    }
   ],
   "source": [
    "# Sort the dataframe as per Mean Rank\n",
    "feature_df = feature_df.sort_values('Mean_Rank')\n",
    "feature_df['Feature'] = feature_df.index\n",
    "\n",
    "# Plot the ranking of the features\n",
    "sns.factorplot(x='Mean_Rank', y='Feature', data = feature_df, kind=\"bar\", size=14, aspect=1.9, palette='coolwarm');"
   ]
  },
  {
   "cell_type": "code",
   "execution_count": 12,
   "metadata": {
    "scrolled": true
   },
   "outputs": [
    {
     "data": {
      "text/html": [
       "<div>\n",
       "<style>\n",
       "    .dataframe thead tr:only-child th {\n",
       "        text-align: right;\n",
       "    }\n",
       "\n",
       "    .dataframe thead th {\n",
       "        text-align: left;\n",
       "    }\n",
       "\n",
       "    .dataframe tbody tr th {\n",
       "        vertical-align: top;\n",
       "    }\n",
       "</style>\n",
       "<table border=\"1\" class=\"dataframe\">\n",
       "  <thead>\n",
       "    <tr style=\"text-align: right;\">\n",
       "      <th></th>\n",
       "      <th>RFE_LR_Rank</th>\n",
       "      <th>RFE_Lasso_Rank</th>\n",
       "      <th>RFE_RF_Rank</th>\n",
       "      <th>Feature_Imp_ETC</th>\n",
       "      <th>Feature_Imp_ETC_Rank</th>\n",
       "      <th>Mean_Rank</th>\n",
       "      <th>Feature</th>\n",
       "    </tr>\n",
       "  </thead>\n",
       "  <tbody>\n",
       "    <tr>\n",
       "      <th>NSM</th>\n",
       "      <td>31</td>\n",
       "      <td>22</td>\n",
       "      <td>1</td>\n",
       "      <td>0.066458</td>\n",
       "      <td>1</td>\n",
       "      <td>1.0</td>\n",
       "      <td>NSM</td>\n",
       "    </tr>\n",
       "    <tr>\n",
       "      <th>T_out</th>\n",
       "      <td>20</td>\n",
       "      <td>30</td>\n",
       "      <td>1</td>\n",
       "      <td>0.043390</td>\n",
       "      <td>4</td>\n",
       "      <td>2.5</td>\n",
       "      <td>T_out</td>\n",
       "    </tr>\n",
       "    <tr>\n",
       "      <th>Tdewpoint</th>\n",
       "      <td>18</td>\n",
       "      <td>23</td>\n",
       "      <td>7</td>\n",
       "      <td>0.044073</td>\n",
       "      <td>1</td>\n",
       "      <td>4.0</td>\n",
       "      <td>Tdewpoint</td>\n",
       "    </tr>\n",
       "    <tr>\n",
       "      <th>RH_6</th>\n",
       "      <td>29</td>\n",
       "      <td>17</td>\n",
       "      <td>4</td>\n",
       "      <td>0.042822</td>\n",
       "      <td>6</td>\n",
       "      <td>5.0</td>\n",
       "      <td>RH_6</td>\n",
       "    </tr>\n",
       "    <tr>\n",
       "      <th>Press_mm_hg</th>\n",
       "      <td>26</td>\n",
       "      <td>19</td>\n",
       "      <td>1</td>\n",
       "      <td>0.040907</td>\n",
       "      <td>11</td>\n",
       "      <td>6.0</td>\n",
       "      <td>Press_mm_hg</td>\n",
       "    </tr>\n",
       "    <tr>\n",
       "      <th>RH_4</th>\n",
       "      <td>21</td>\n",
       "      <td>24</td>\n",
       "      <td>3</td>\n",
       "      <td>0.040497</td>\n",
       "      <td>12</td>\n",
       "      <td>7.5</td>\n",
       "      <td>RH_4</td>\n",
       "    </tr>\n",
       "    <tr>\n",
       "      <th>RH_3</th>\n",
       "      <td>13</td>\n",
       "      <td>8</td>\n",
       "      <td>2</td>\n",
       "      <td>0.039195</td>\n",
       "      <td>14</td>\n",
       "      <td>8.0</td>\n",
       "      <td>RH_3</td>\n",
       "    </tr>\n",
       "    <tr>\n",
       "      <th>RH_8</th>\n",
       "      <td>10</td>\n",
       "      <td>5</td>\n",
       "      <td>15</td>\n",
       "      <td>0.043768</td>\n",
       "      <td>3</td>\n",
       "      <td>9.0</td>\n",
       "      <td>RH_8</td>\n",
       "    </tr>\n",
       "    <tr>\n",
       "      <th>RH_out</th>\n",
       "      <td>28</td>\n",
       "      <td>21</td>\n",
       "      <td>13</td>\n",
       "      <td>0.043055</td>\n",
       "      <td>5</td>\n",
       "      <td>9.0</td>\n",
       "      <td>RH_out</td>\n",
       "    </tr>\n",
       "    <tr>\n",
       "      <th>RH_7</th>\n",
       "      <td>22</td>\n",
       "      <td>13</td>\n",
       "      <td>10</td>\n",
       "      <td>0.041788</td>\n",
       "      <td>8</td>\n",
       "      <td>9.0</td>\n",
       "      <td>RH_7</td>\n",
       "    </tr>\n",
       "    <tr>\n",
       "      <th>RH_9</th>\n",
       "      <td>24</td>\n",
       "      <td>12</td>\n",
       "      <td>17</td>\n",
       "      <td>0.043937</td>\n",
       "      <td>2</td>\n",
       "      <td>9.5</td>\n",
       "      <td>RH_9</td>\n",
       "    </tr>\n",
       "    <tr>\n",
       "      <th>rv2</th>\n",
       "      <td>30</td>\n",
       "      <td>25</td>\n",
       "      <td>19</td>\n",
       "      <td>0.044856</td>\n",
       "      <td>1</td>\n",
       "      <td>10.0</td>\n",
       "      <td>rv2</td>\n",
       "    </tr>\n",
       "    <tr>\n",
       "      <th>RH_1</th>\n",
       "      <td>1</td>\n",
       "      <td>1</td>\n",
       "      <td>11</td>\n",
       "      <td>0.041077</td>\n",
       "      <td>10</td>\n",
       "      <td>10.5</td>\n",
       "      <td>RH_1</td>\n",
       "    </tr>\n",
       "    <tr>\n",
       "      <th>T3</th>\n",
       "      <td>3</td>\n",
       "      <td>2</td>\n",
       "      <td>6</td>\n",
       "      <td>0.036308</td>\n",
       "      <td>16</td>\n",
       "      <td>11.0</td>\n",
       "      <td>T3</td>\n",
       "    </tr>\n",
       "    <tr>\n",
       "      <th>RH_5</th>\n",
       "      <td>25</td>\n",
       "      <td>15</td>\n",
       "      <td>9</td>\n",
       "      <td>0.040028</td>\n",
       "      <td>13</td>\n",
       "      <td>11.0</td>\n",
       "      <td>RH_5</td>\n",
       "    </tr>\n",
       "    <tr>\n",
       "      <th>T4</th>\n",
       "      <td>11</td>\n",
       "      <td>14</td>\n",
       "      <td>5</td>\n",
       "      <td>0.035974</td>\n",
       "      <td>18</td>\n",
       "      <td>11.5</td>\n",
       "      <td>T4</td>\n",
       "    </tr>\n",
       "    <tr>\n",
       "      <th>T8</th>\n",
       "      <td>5</td>\n",
       "      <td>4</td>\n",
       "      <td>8</td>\n",
       "      <td>0.037749</td>\n",
       "      <td>15</td>\n",
       "      <td>11.5</td>\n",
       "      <td>T8</td>\n",
       "    </tr>\n",
       "    <tr>\n",
       "      <th>T2</th>\n",
       "      <td>2</td>\n",
       "      <td>1</td>\n",
       "      <td>14</td>\n",
       "      <td>0.041253</td>\n",
       "      <td>9</td>\n",
       "      <td>11.5</td>\n",
       "      <td>T2</td>\n",
       "    </tr>\n",
       "    <tr>\n",
       "      <th>RH_2</th>\n",
       "      <td>1</td>\n",
       "      <td>1</td>\n",
       "      <td>16</td>\n",
       "      <td>0.042027</td>\n",
       "      <td>7</td>\n",
       "      <td>11.5</td>\n",
       "      <td>RH_2</td>\n",
       "    </tr>\n",
       "    <tr>\n",
       "      <th>T9</th>\n",
       "      <td>4</td>\n",
       "      <td>3</td>\n",
       "      <td>12</td>\n",
       "      <td>0.027852</td>\n",
       "      <td>22</td>\n",
       "      <td>17.0</td>\n",
       "      <td>T9</td>\n",
       "    </tr>\n",
       "    <tr>\n",
       "      <th>T1</th>\n",
       "      <td>19</td>\n",
       "      <td>31</td>\n",
       "      <td>20</td>\n",
       "      <td>0.036187</td>\n",
       "      <td>17</td>\n",
       "      <td>18.5</td>\n",
       "      <td>T1</td>\n",
       "    </tr>\n",
       "    <tr>\n",
       "      <th>T5</th>\n",
       "      <td>12</td>\n",
       "      <td>11</td>\n",
       "      <td>18</td>\n",
       "      <td>0.033217</td>\n",
       "      <td>20</td>\n",
       "      <td>19.0</td>\n",
       "      <td>T5</td>\n",
       "    </tr>\n",
       "    <tr>\n",
       "      <th>Windspeed</th>\n",
       "      <td>16</td>\n",
       "      <td>10</td>\n",
       "      <td>21</td>\n",
       "      <td>0.034927</td>\n",
       "      <td>19</td>\n",
       "      <td>20.0</td>\n",
       "      <td>Windspeed</td>\n",
       "    </tr>\n",
       "    <tr>\n",
       "      <th>Visibility</th>\n",
       "      <td>27</td>\n",
       "      <td>20</td>\n",
       "      <td>22</td>\n",
       "      <td>0.031805</td>\n",
       "      <td>21</td>\n",
       "      <td>21.5</td>\n",
       "      <td>Visibility</td>\n",
       "    </tr>\n",
       "    <tr>\n",
       "      <th>Monday</th>\n",
       "      <td>1</td>\n",
       "      <td>6</td>\n",
       "      <td>23</td>\n",
       "      <td>0.003478</td>\n",
       "      <td>26</td>\n",
       "      <td>24.5</td>\n",
       "      <td>Monday</td>\n",
       "    </tr>\n",
       "    <tr>\n",
       "      <th>Wednesday</th>\n",
       "      <td>14</td>\n",
       "      <td>28</td>\n",
       "      <td>27</td>\n",
       "      <td>0.003772</td>\n",
       "      <td>23</td>\n",
       "      <td>25.0</td>\n",
       "      <td>Wednesday</td>\n",
       "    </tr>\n",
       "    <tr>\n",
       "      <th>Tuesday</th>\n",
       "      <td>8</td>\n",
       "      <td>7</td>\n",
       "      <td>25</td>\n",
       "      <td>0.003573</td>\n",
       "      <td>25</td>\n",
       "      <td>25.0</td>\n",
       "      <td>Tuesday</td>\n",
       "    </tr>\n",
       "    <tr>\n",
       "      <th>Friday</th>\n",
       "      <td>6</td>\n",
       "      <td>9</td>\n",
       "      <td>24</td>\n",
       "      <td>0.003206</td>\n",
       "      <td>27</td>\n",
       "      <td>25.5</td>\n",
       "      <td>Friday</td>\n",
       "    </tr>\n",
       "    <tr>\n",
       "      <th>Thursday</th>\n",
       "      <td>9</td>\n",
       "      <td>18</td>\n",
       "      <td>31</td>\n",
       "      <td>0.003615</td>\n",
       "      <td>24</td>\n",
       "      <td>27.5</td>\n",
       "      <td>Thursday</td>\n",
       "    </tr>\n",
       "    <tr>\n",
       "      <th>Weekday</th>\n",
       "      <td>17</td>\n",
       "      <td>27</td>\n",
       "      <td>28</td>\n",
       "      <td>0.002380</td>\n",
       "      <td>28</td>\n",
       "      <td>28.0</td>\n",
       "      <td>Weekday</td>\n",
       "    </tr>\n",
       "    <tr>\n",
       "      <th>Saturday</th>\n",
       "      <td>7</td>\n",
       "      <td>16</td>\n",
       "      <td>26</td>\n",
       "      <td>0.002150</td>\n",
       "      <td>31</td>\n",
       "      <td>28.5</td>\n",
       "      <td>Saturday</td>\n",
       "    </tr>\n",
       "    <tr>\n",
       "      <th>Weekend</th>\n",
       "      <td>23</td>\n",
       "      <td>26</td>\n",
       "      <td>29</td>\n",
       "      <td>0.002379</td>\n",
       "      <td>29</td>\n",
       "      <td>29.0</td>\n",
       "      <td>Weekend</td>\n",
       "    </tr>\n",
       "    <tr>\n",
       "      <th>Sunday</th>\n",
       "      <td>15</td>\n",
       "      <td>29</td>\n",
       "      <td>30</td>\n",
       "      <td>0.002300</td>\n",
       "      <td>30</td>\n",
       "      <td>30.0</td>\n",
       "      <td>Sunday</td>\n",
       "    </tr>\n",
       "  </tbody>\n",
       "</table>\n",
       "</div>"
      ],
      "text/plain": [
       "             RFE_LR_Rank  RFE_Lasso_Rank  RFE_RF_Rank  Feature_Imp_ETC  \\\n",
       "NSM                   31              22            1         0.066458   \n",
       "T_out                 20              30            1         0.043390   \n",
       "Tdewpoint             18              23            7         0.044073   \n",
       "RH_6                  29              17            4         0.042822   \n",
       "Press_mm_hg           26              19            1         0.040907   \n",
       "RH_4                  21              24            3         0.040497   \n",
       "RH_3                  13               8            2         0.039195   \n",
       "RH_8                  10               5           15         0.043768   \n",
       "RH_out                28              21           13         0.043055   \n",
       "RH_7                  22              13           10         0.041788   \n",
       "RH_9                  24              12           17         0.043937   \n",
       "rv2                   30              25           19         0.044856   \n",
       "RH_1                   1               1           11         0.041077   \n",
       "T3                     3               2            6         0.036308   \n",
       "RH_5                  25              15            9         0.040028   \n",
       "T4                    11              14            5         0.035974   \n",
       "T8                     5               4            8         0.037749   \n",
       "T2                     2               1           14         0.041253   \n",
       "RH_2                   1               1           16         0.042027   \n",
       "T9                     4               3           12         0.027852   \n",
       "T1                    19              31           20         0.036187   \n",
       "T5                    12              11           18         0.033217   \n",
       "Windspeed             16              10           21         0.034927   \n",
       "Visibility            27              20           22         0.031805   \n",
       "Monday                 1               6           23         0.003478   \n",
       "Wednesday             14              28           27         0.003772   \n",
       "Tuesday                8               7           25         0.003573   \n",
       "Friday                 6               9           24         0.003206   \n",
       "Thursday               9              18           31         0.003615   \n",
       "Weekday               17              27           28         0.002380   \n",
       "Saturday               7              16           26         0.002150   \n",
       "Weekend               23              26           29         0.002379   \n",
       "Sunday                15              29           30         0.002300   \n",
       "\n",
       "             Feature_Imp_ETC_Rank  Mean_Rank      Feature  \n",
       "NSM                             1        1.0          NSM  \n",
       "T_out                           4        2.5        T_out  \n",
       "Tdewpoint                       1        4.0    Tdewpoint  \n",
       "RH_6                            6        5.0         RH_6  \n",
       "Press_mm_hg                    11        6.0  Press_mm_hg  \n",
       "RH_4                           12        7.5         RH_4  \n",
       "RH_3                           14        8.0         RH_3  \n",
       "RH_8                            3        9.0         RH_8  \n",
       "RH_out                          5        9.0       RH_out  \n",
       "RH_7                            8        9.0         RH_7  \n",
       "RH_9                            2        9.5         RH_9  \n",
       "rv2                             1       10.0          rv2  \n",
       "RH_1                           10       10.5         RH_1  \n",
       "T3                             16       11.0           T3  \n",
       "RH_5                           13       11.0         RH_5  \n",
       "T4                             18       11.5           T4  \n",
       "T8                             15       11.5           T8  \n",
       "T2                              9       11.5           T2  \n",
       "RH_2                            7       11.5         RH_2  \n",
       "T9                             22       17.0           T9  \n",
       "T1                             17       18.5           T1  \n",
       "T5                             20       19.0           T5  \n",
       "Windspeed                      19       20.0    Windspeed  \n",
       "Visibility                     21       21.5   Visibility  \n",
       "Monday                         26       24.5       Monday  \n",
       "Wednesday                      23       25.0    Wednesday  \n",
       "Tuesday                        25       25.0      Tuesday  \n",
       "Friday                         27       25.5       Friday  \n",
       "Thursday                       24       27.5     Thursday  \n",
       "Weekday                        28       28.0      Weekday  \n",
       "Saturday                       31       28.5     Saturday  \n",
       "Weekend                        29       29.0      Weekend  \n",
       "Sunday                         30       30.0       Sunday  "
      ]
     },
     "execution_count": 12,
     "metadata": {},
     "output_type": "execute_result"
    }
   ],
   "source": [
    "feature_df"
   ]
  },
  {
   "cell_type": "code",
   "execution_count": 13,
   "metadata": {
    "collapsed": true,
    "scrolled": true
   },
   "outputs": [],
   "source": [
    "feature_ranked_list = feature_df.index"
   ]
  },
  {
   "cell_type": "code",
   "execution_count": 14,
   "metadata": {
    "scrolled": true
   },
   "outputs": [
    {
     "data": {
      "text/plain": [
       "33"
      ]
     },
     "execution_count": 14,
     "metadata": {},
     "output_type": "execute_result"
    }
   ],
   "source": [
    "len(feature_ranked_list)"
   ]
  },
  {
   "cell_type": "markdown",
   "metadata": {},
   "source": [
    "## Forward Search ~ Feature Selection using RFE & Feature Importance Ranks"
   ]
  },
  {
   "cell_type": "code",
   "execution_count": 13,
   "metadata": {
    "collapsed": true,
    "scrolled": true
   },
   "outputs": [],
   "source": [
    "from sklearn.ensemble import RandomForestRegressor\n",
    "from math import sqrt\n",
    "from sklearn.metrics import mean_squared_error\n",
    "from sklearn.metrics import r2_score\n",
    "from sklearn.metrics import mean_absolute_error\n",
    "\n",
    "def calculate_rms_randomforest(X_train, X_test, y_train, y_test, calculate_all=False):\n",
    "    rf = RandomForestRegressor(n_estimators = 10)\n",
    "    rf.fit(X_train, y_train)\n",
    "    \n",
    "    if calculate_all:\n",
    "        # Predicting and Calculating the Metrices for Prediction of Testing Dataset\n",
    "        prediction_test_rf = rf.predict(X_test)\n",
    "        r2_test_rf = r2_score(y_test, prediction_test_rf)\n",
    "        rms_test_rf = sqrt(mean_squared_error(y_test, prediction_test_rf))\n",
    "        mae_test_rf = mean_absolute_error(y_test,prediction_test_rf)\n",
    "        mape_test_rf = np.mean(np.abs((y_test - prediction_test_rf) / y_test)) * 100\n",
    "        \n",
    "        # Predicting and Calculating the Metrices for Prediction of Training Dataset\n",
    "        prediction_train_rf = rf.predict(X_train)\n",
    "        r2_train_rf = r2_score(y_train, prediction_train_rf)\n",
    "        rms_train_rf = sqrt(mean_squared_error(y_train, prediction_train_rf))\n",
    "        mae_train_rf = mean_absolute_error(y_train,prediction_train_rf)\n",
    "        mape_train_rf = np.mean(np.abs((y_train - prediction_train_rf) / y_train)) * 100\n",
    "        \n",
    "        print('r2_train_rf: ', float(\"{0:.2f}\".format(r2_train_rf)))\n",
    "        print('r2_test_rf: ', float(\"{0:.2f}\".format(r2_test_rf)))\n",
    "        print('rms_train_rf: ', float(\"{0:.2f}\".format(rms_train_rf)))\n",
    "        print('rms_test_rf: ', float(\"{0:.2f}\".format(rms_test_rf)))\n",
    "        print('mae_train_rf: ', float(\"{0:.2f}\".format(mae_train_rf)))\n",
    "        print('mae_test_rf: ', float(\"{0:.2f}\".format(mae_test_rf)))\n",
    "        print('mape_train_rf: ', float(\"{0:.2f}\".format(mape_train_rf)))\n",
    "        print('mape_test_rf: ', float(\"{0:.2f}\".format(mape_test_rf)))\n",
    "    \n",
    "    else:\n",
    "        # Predicting and Calculating the Metrices for Prediction of Testing Dataset\n",
    "        prediction_test_rf = rf.predict(X_test)\n",
    "        r2_test_rf = r2_score(y_test, prediction_test_rf)\n",
    "        rms_test_rf = sqrt(mean_squared_error(y_test, prediction_test_rf))       \n",
    "        \n",
    "        # Predicting and Calculating the Metrices for Prediction of Training Dataset\n",
    "        prediction_train_rf = rf.predict(X_train)\n",
    "        r2_train_rf = r2_score(y_train, prediction_train_rf)\n",
    "        rms_train_rf = sqrt(mean_squared_error(y_train, prediction_train_rf))\n",
    "        \n",
    "        r2_train_rf =  float(\"{0:.2f}\".format(r2_train_rf))\n",
    "        r2_test_rf =  float(\"{0:.2f}\".format(r2_test_rf))\n",
    "        rms_train_rf = float(\"{0:.2f}\".format(rms_train_rf))\n",
    "        rms_test_rf = float(\"{0:.2f}\".format(rms_test_rf))\n",
    "        \n",
    "        return rms_train_rf, rms_test_rf, r2_train_rf, r2_test_rf"
   ]
  },
  {
   "cell_type": "code",
   "execution_count": 31,
   "metadata": {
    "collapsed": true,
    "scrolled": true
   },
   "outputs": [],
   "source": [
    "df_forward_X_train = pd.DataFrame()\n",
    "df_forward_X_test = pd.DataFrame()\n",
    "var_count = 0\n",
    "df_forward_rms_var_plot = pd.DataFrame(columns = ['no_of_var', 'RMS_Train', 'RMS_Test', 'R2_Train', 'R2_Test'])"
   ]
  },
  {
   "cell_type": "code",
   "execution_count": 32,
   "metadata": {
    "scrolled": true
   },
   "outputs": [
    {
     "name": "stdout",
     "output_type": "stream",
     "text": [
      "NSM\n",
      "T_out\n",
      "Tdewpoint\n",
      "RH_6\n",
      "Press_mm_hg\n",
      "RH_4\n",
      "RH_3\n",
      "RH_8\n",
      "RH_out\n",
      "RH_7\n",
      "RH_9\n",
      "rv2\n",
      "RH_1\n",
      "T3\n",
      "RH_5\n",
      "T4\n",
      "T8\n",
      "T2\n",
      "RH_2\n",
      "T9\n",
      "T1\n",
      "T5\n",
      "Windspeed\n",
      "Visibility\n",
      "Monday\n",
      "Wednesday\n",
      "Tuesday\n",
      "Friday\n",
      "Thursday\n",
      "Weekday\n",
      "Saturday\n",
      "Weekend\n",
      "Sunday\n"
     ]
    }
   ],
   "source": [
    "for feature in feature_ranked_list:\n",
    "    var_count = var_count + 1\n",
    "    print(feature)\n",
    "    df_forward_X_train = pd.concat([df_forward_X_train, X_train[feature]], axis=1)\n",
    "    df_forward_X_test = pd.concat([df_forward_X_test, X_test[feature]], axis=1)\n",
    "    \n",
    "    rms_returned = calculate_rms_randomforest(df_forward_X_train, df_forward_X_test, y_train, y_test)\n",
    "    rms_returned_list = [[var_count, rms_returned[0], rms_returned[1], rms_returned[2], rms_returned[3]]]\n",
    "    \n",
    "    df_forward_rms_var_plot = df_forward_rms_var_plot.append(pd.DataFrame(\n",
    "        rms_returned_list, columns=['no_of_var', 'RMS_Train', 'RMS_Test', 'R2_Train', 'R2_Test']),ignore_index=True)"
   ]
  },
  {
   "cell_type": "code",
   "execution_count": 33,
   "metadata": {
    "scrolled": true
   },
   "outputs": [
    {
     "data": {
      "text/html": [
       "<div>\n",
       "<style>\n",
       "    .dataframe thead tr:only-child th {\n",
       "        text-align: right;\n",
       "    }\n",
       "\n",
       "    .dataframe thead th {\n",
       "        text-align: left;\n",
       "    }\n",
       "\n",
       "    .dataframe tbody tr th {\n",
       "        vertical-align: top;\n",
       "    }\n",
       "</style>\n",
       "<table border=\"1\" class=\"dataframe\">\n",
       "  <thead>\n",
       "    <tr style=\"text-align: right;\">\n",
       "      <th></th>\n",
       "      <th>no_of_var</th>\n",
       "      <th>RMS_Train</th>\n",
       "      <th>RMS_Test</th>\n",
       "      <th>R2_Train</th>\n",
       "      <th>R2_Test</th>\n",
       "    </tr>\n",
       "  </thead>\n",
       "  <tbody>\n",
       "    <tr>\n",
       "      <th>0</th>\n",
       "      <td>1</td>\n",
       "      <td>92.86</td>\n",
       "      <td>94.04</td>\n",
       "      <td>0.18</td>\n",
       "      <td>0.13</td>\n",
       "    </tr>\n",
       "    <tr>\n",
       "      <th>1</th>\n",
       "      <td>2</td>\n",
       "      <td>48.80</td>\n",
       "      <td>99.38</td>\n",
       "      <td>0.77</td>\n",
       "      <td>0.02</td>\n",
       "    </tr>\n",
       "    <tr>\n",
       "      <th>2</th>\n",
       "      <td>3</td>\n",
       "      <td>35.58</td>\n",
       "      <td>81.61</td>\n",
       "      <td>0.88</td>\n",
       "      <td>0.34</td>\n",
       "    </tr>\n",
       "    <tr>\n",
       "      <th>3</th>\n",
       "      <td>4</td>\n",
       "      <td>33.20</td>\n",
       "      <td>71.38</td>\n",
       "      <td>0.89</td>\n",
       "      <td>0.50</td>\n",
       "    </tr>\n",
       "    <tr>\n",
       "      <th>4</th>\n",
       "      <td>5</td>\n",
       "      <td>30.22</td>\n",
       "      <td>62.74</td>\n",
       "      <td>0.91</td>\n",
       "      <td>0.61</td>\n",
       "    </tr>\n",
       "    <tr>\n",
       "      <th>5</th>\n",
       "      <td>6</td>\n",
       "      <td>29.02</td>\n",
       "      <td>63.96</td>\n",
       "      <td>0.92</td>\n",
       "      <td>0.60</td>\n",
       "    </tr>\n",
       "    <tr>\n",
       "      <th>6</th>\n",
       "      <td>7</td>\n",
       "      <td>29.29</td>\n",
       "      <td>65.22</td>\n",
       "      <td>0.92</td>\n",
       "      <td>0.58</td>\n",
       "    </tr>\n",
       "    <tr>\n",
       "      <th>7</th>\n",
       "      <td>8</td>\n",
       "      <td>29.44</td>\n",
       "      <td>63.92</td>\n",
       "      <td>0.92</td>\n",
       "      <td>0.60</td>\n",
       "    </tr>\n",
       "    <tr>\n",
       "      <th>8</th>\n",
       "      <td>9</td>\n",
       "      <td>29.52</td>\n",
       "      <td>64.10</td>\n",
       "      <td>0.92</td>\n",
       "      <td>0.59</td>\n",
       "    </tr>\n",
       "    <tr>\n",
       "      <th>9</th>\n",
       "      <td>10</td>\n",
       "      <td>29.70</td>\n",
       "      <td>65.01</td>\n",
       "      <td>0.92</td>\n",
       "      <td>0.58</td>\n",
       "    </tr>\n",
       "    <tr>\n",
       "      <th>10</th>\n",
       "      <td>11</td>\n",
       "      <td>28.51</td>\n",
       "      <td>63.84</td>\n",
       "      <td>0.92</td>\n",
       "      <td>0.60</td>\n",
       "    </tr>\n",
       "    <tr>\n",
       "      <th>11</th>\n",
       "      <td>12</td>\n",
       "      <td>29.88</td>\n",
       "      <td>66.13</td>\n",
       "      <td>0.91</td>\n",
       "      <td>0.57</td>\n",
       "    </tr>\n",
       "    <tr>\n",
       "      <th>12</th>\n",
       "      <td>13</td>\n",
       "      <td>29.63</td>\n",
       "      <td>66.65</td>\n",
       "      <td>0.92</td>\n",
       "      <td>0.56</td>\n",
       "    </tr>\n",
       "    <tr>\n",
       "      <th>13</th>\n",
       "      <td>14</td>\n",
       "      <td>30.57</td>\n",
       "      <td>66.30</td>\n",
       "      <td>0.91</td>\n",
       "      <td>0.57</td>\n",
       "    </tr>\n",
       "    <tr>\n",
       "      <th>14</th>\n",
       "      <td>15</td>\n",
       "      <td>30.40</td>\n",
       "      <td>64.88</td>\n",
       "      <td>0.91</td>\n",
       "      <td>0.58</td>\n",
       "    </tr>\n",
       "    <tr>\n",
       "      <th>15</th>\n",
       "      <td>16</td>\n",
       "      <td>29.78</td>\n",
       "      <td>67.45</td>\n",
       "      <td>0.92</td>\n",
       "      <td>0.55</td>\n",
       "    </tr>\n",
       "    <tr>\n",
       "      <th>16</th>\n",
       "      <td>17</td>\n",
       "      <td>29.67</td>\n",
       "      <td>63.77</td>\n",
       "      <td>0.92</td>\n",
       "      <td>0.60</td>\n",
       "    </tr>\n",
       "    <tr>\n",
       "      <th>17</th>\n",
       "      <td>18</td>\n",
       "      <td>30.68</td>\n",
       "      <td>65.51</td>\n",
       "      <td>0.91</td>\n",
       "      <td>0.58</td>\n",
       "    </tr>\n",
       "    <tr>\n",
       "      <th>18</th>\n",
       "      <td>19</td>\n",
       "      <td>30.64</td>\n",
       "      <td>65.47</td>\n",
       "      <td>0.91</td>\n",
       "      <td>0.58</td>\n",
       "    </tr>\n",
       "    <tr>\n",
       "      <th>19</th>\n",
       "      <td>20</td>\n",
       "      <td>29.40</td>\n",
       "      <td>64.18</td>\n",
       "      <td>0.92</td>\n",
       "      <td>0.59</td>\n",
       "    </tr>\n",
       "    <tr>\n",
       "      <th>20</th>\n",
       "      <td>21</td>\n",
       "      <td>29.29</td>\n",
       "      <td>63.93</td>\n",
       "      <td>0.92</td>\n",
       "      <td>0.60</td>\n",
       "    </tr>\n",
       "    <tr>\n",
       "      <th>21</th>\n",
       "      <td>22</td>\n",
       "      <td>29.90</td>\n",
       "      <td>65.06</td>\n",
       "      <td>0.91</td>\n",
       "      <td>0.58</td>\n",
       "    </tr>\n",
       "    <tr>\n",
       "      <th>22</th>\n",
       "      <td>23</td>\n",
       "      <td>29.97</td>\n",
       "      <td>65.24</td>\n",
       "      <td>0.91</td>\n",
       "      <td>0.58</td>\n",
       "    </tr>\n",
       "    <tr>\n",
       "      <th>23</th>\n",
       "      <td>24</td>\n",
       "      <td>29.24</td>\n",
       "      <td>64.63</td>\n",
       "      <td>0.92</td>\n",
       "      <td>0.59</td>\n",
       "    </tr>\n",
       "    <tr>\n",
       "      <th>24</th>\n",
       "      <td>25</td>\n",
       "      <td>28.84</td>\n",
       "      <td>65.08</td>\n",
       "      <td>0.92</td>\n",
       "      <td>0.58</td>\n",
       "    </tr>\n",
       "    <tr>\n",
       "      <th>25</th>\n",
       "      <td>26</td>\n",
       "      <td>29.11</td>\n",
       "      <td>63.50</td>\n",
       "      <td>0.92</td>\n",
       "      <td>0.60</td>\n",
       "    </tr>\n",
       "    <tr>\n",
       "      <th>26</th>\n",
       "      <td>27</td>\n",
       "      <td>29.48</td>\n",
       "      <td>65.15</td>\n",
       "      <td>0.92</td>\n",
       "      <td>0.58</td>\n",
       "    </tr>\n",
       "    <tr>\n",
       "      <th>27</th>\n",
       "      <td>28</td>\n",
       "      <td>29.12</td>\n",
       "      <td>65.03</td>\n",
       "      <td>0.92</td>\n",
       "      <td>0.58</td>\n",
       "    </tr>\n",
       "    <tr>\n",
       "      <th>28</th>\n",
       "      <td>29</td>\n",
       "      <td>29.84</td>\n",
       "      <td>64.57</td>\n",
       "      <td>0.92</td>\n",
       "      <td>0.59</td>\n",
       "    </tr>\n",
       "    <tr>\n",
       "      <th>29</th>\n",
       "      <td>30</td>\n",
       "      <td>29.64</td>\n",
       "      <td>66.30</td>\n",
       "      <td>0.92</td>\n",
       "      <td>0.57</td>\n",
       "    </tr>\n",
       "    <tr>\n",
       "      <th>30</th>\n",
       "      <td>31</td>\n",
       "      <td>29.00</td>\n",
       "      <td>64.44</td>\n",
       "      <td>0.92</td>\n",
       "      <td>0.59</td>\n",
       "    </tr>\n",
       "    <tr>\n",
       "      <th>31</th>\n",
       "      <td>32</td>\n",
       "      <td>29.89</td>\n",
       "      <td>64.63</td>\n",
       "      <td>0.91</td>\n",
       "      <td>0.59</td>\n",
       "    </tr>\n",
       "    <tr>\n",
       "      <th>32</th>\n",
       "      <td>33</td>\n",
       "      <td>29.60</td>\n",
       "      <td>66.30</td>\n",
       "      <td>0.92</td>\n",
       "      <td>0.57</td>\n",
       "    </tr>\n",
       "  </tbody>\n",
       "</table>\n",
       "</div>"
      ],
      "text/plain": [
       "   no_of_var  RMS_Train  RMS_Test  R2_Train  R2_Test\n",
       "0          1      92.86     94.04      0.18     0.13\n",
       "1          2      48.80     99.38      0.77     0.02\n",
       "2          3      35.58     81.61      0.88     0.34\n",
       "3          4      33.20     71.38      0.89     0.50\n",
       "4          5      30.22     62.74      0.91     0.61\n",
       "5          6      29.02     63.96      0.92     0.60\n",
       "6          7      29.29     65.22      0.92     0.58\n",
       "7          8      29.44     63.92      0.92     0.60\n",
       "8          9      29.52     64.10      0.92     0.59\n",
       "9         10      29.70     65.01      0.92     0.58\n",
       "10        11      28.51     63.84      0.92     0.60\n",
       "11        12      29.88     66.13      0.91     0.57\n",
       "12        13      29.63     66.65      0.92     0.56\n",
       "13        14      30.57     66.30      0.91     0.57\n",
       "14        15      30.40     64.88      0.91     0.58\n",
       "15        16      29.78     67.45      0.92     0.55\n",
       "16        17      29.67     63.77      0.92     0.60\n",
       "17        18      30.68     65.51      0.91     0.58\n",
       "18        19      30.64     65.47      0.91     0.58\n",
       "19        20      29.40     64.18      0.92     0.59\n",
       "20        21      29.29     63.93      0.92     0.60\n",
       "21        22      29.90     65.06      0.91     0.58\n",
       "22        23      29.97     65.24      0.91     0.58\n",
       "23        24      29.24     64.63      0.92     0.59\n",
       "24        25      28.84     65.08      0.92     0.58\n",
       "25        26      29.11     63.50      0.92     0.60\n",
       "26        27      29.48     65.15      0.92     0.58\n",
       "27        28      29.12     65.03      0.92     0.58\n",
       "28        29      29.84     64.57      0.92     0.59\n",
       "29        30      29.64     66.30      0.92     0.57\n",
       "30        31      29.00     64.44      0.92     0.59\n",
       "31        32      29.89     64.63      0.91     0.59\n",
       "32        33      29.60     66.30      0.92     0.57"
      ]
     },
     "execution_count": 33,
     "metadata": {},
     "output_type": "execute_result"
    }
   ],
   "source": [
    "df_forward_rms_var_plot"
   ]
  },
  {
   "cell_type": "code",
   "execution_count": 35,
   "metadata": {
    "scrolled": true
   },
   "outputs": [
    {
     "data": {
      "image/png": "[encoded data removed]",
      "text/plain": [
       "<matplotlib.figure.Figure at 0x2a83b6fd5c0>"
      ]
     },
     "metadata": {},
     "output_type": "display_data"
    }
   ],
   "source": [
    "fig, (ax1, ax2) = plt.subplots(figsize=(14,10), ncols=2)\n",
    "sns.pointplot(x='no_of_var', y='RMS_Train', data=df_forward_rms_var_plot, ax=ax1, color='blue', label='Train', linestyle='-')\n",
    "sns.pointplot(x='no_of_var', y='RMS_Test', data=df_forward_rms_var_plot, ax=ax1, color='red', label='Test', linestyle='-')\n",
    "sns.pointplot(x='no_of_var', y='R2_Train', data=df_forward_rms_var_plot, ax=ax2, color='blue', label='Train', linestyle='-')\n",
    "sns.pointplot(x='no_of_var', y='R2_Test', data=df_forward_rms_var_plot, ax=ax2, color='red', label='Test', linestyle='-')\n",
    "ax1.set_ylabel(\"RMS\")\n",
    "ax2.set_ylabel(\"RSquared\");"
   ]
  },
  {
   "cell_type": "code",
   "execution_count": 36,
   "metadata": {
    "scrolled": true
   },
   "outputs": [
    {
     "name": "stdout",
     "output_type": "stream",
     "text": [
      "r2_train_rf:  0.91\n",
      "r2_test_rf:  0.5\n",
      "rms_train_rf:  31.34\n",
      "rms_test_rf:  71.14\n",
      "mae_train_rf:  14.6\n",
      "mae_test_rf:  36.02\n",
      "mape_train_rf:  15.39\n",
      "mape_test_rf:  38.64\n"
     ]
    }
   ],
   "source": [
    "df_forward_X_train_new = df_forward_X_train.iloc[:,0:4]\n",
    "df_forward_X_test_new = df_forward_X_test.iloc[:,0:4]\n",
    "calculate_rms_randomforest(df_forward_X_train_new, df_forward_X_test_new, y_train, y_test, calculate_all=True)"
   ]
  },
  {
   "cell_type": "code",
   "execution_count": 37,
   "metadata": {
    "scrolled": true
   },
   "outputs": [
    {
     "name": "stdout",
     "output_type": "stream",
     "text": [
      "r2_train_rf:  0.92\n",
      "r2_test_rf:  0.61\n",
      "rms_train_rf:  29.53\n",
      "rms_test_rf:  63.23\n",
      "mae_train_rf:  12.9\n",
      "mae_test_rf:  30.85\n",
      "mape_train_rf:  13.02\n",
      "mape_test_rf:  31.94\n"
     ]
    }
   ],
   "source": [
    "df_forward_X_train_new = df_forward_X_train.iloc[:,0:5]\n",
    "df_forward_X_test_new = df_forward_X_test.iloc[:,0:5]\n",
    "calculate_rms_randomforest(df_forward_X_train_new, df_forward_X_test_new, y_train, y_test, calculate_all=True)"
   ]
  },
  {
   "cell_type": "code",
   "execution_count": 38,
   "metadata": {
    "scrolled": true
   },
   "outputs": [
    {
     "name": "stdout",
     "output_type": "stream",
     "text": [
      "r2_train_rf:  0.92\n",
      "r2_test_rf:  0.59\n",
      "rms_train_rf:  29.7\n",
      "rms_test_rf:  64.63\n",
      "mae_train_rf:  12.95\n",
      "mae_test_rf:  31.22\n",
      "mape_train_rf:  12.98\n",
      "mape_test_rf:  31.67\n"
     ]
    }
   ],
   "source": [
    "df_forward_X_train_new = df_forward_X_train.iloc[:,0:6]\n",
    "df_forward_X_test_new = df_forward_X_test.iloc[:,0:6]\n",
    "calculate_rms_randomforest(df_forward_X_train_new, df_forward_X_test_new, y_train, y_test, calculate_all=True)"
   ]
  },
  {
   "cell_type": "code",
   "execution_count": 39,
   "metadata": {
    "scrolled": true
   },
   "outputs": [
    {
     "name": "stdout",
     "output_type": "stream",
     "text": [
      "r2_train_rf:  0.91\n",
      "r2_test_rf:  0.57\n",
      "rms_train_rf:  30.21\n",
      "rms_test_rf:  65.85\n",
      "mae_train_rf:  12.9\n",
      "mae_test_rf:  31.79\n",
      "mape_train_rf:  12.93\n",
      "mape_test_rf:  32.94\n"
     ]
    }
   ],
   "source": [
    "df_forward_X_train_new = df_forward_X_train.iloc[:,0:7]\n",
    "df_forward_X_test_new = df_forward_X_test.iloc[:,0:7]\n",
    "calculate_rms_randomforest(df_forward_X_train_new, df_forward_X_test_new, y_train, y_test, calculate_all=True)"
   ]
  },
  {
   "cell_type": "code",
   "execution_count": 40,
   "metadata": {
    "scrolled": true
   },
   "outputs": [
    {
     "name": "stdout",
     "output_type": "stream",
     "text": [
      "r2_train_rf:  0.91\n",
      "r2_test_rf:  0.59\n",
      "rms_train_rf:  29.89\n",
      "rms_test_rf:  64.03\n",
      "mae_train_rf:  12.76\n",
      "mae_test_rf:  30.69\n",
      "mape_train_rf:  12.36\n",
      "mape_test_rf:  30.73\n"
     ]
    }
   ],
   "source": [
    "df_forward_X_train_new = df_forward_X_train.iloc[:,0:8]\n",
    "df_forward_X_test_new = df_forward_X_test.iloc[:,0:8]\n",
    "calculate_rms_randomforest(df_forward_X_train_new, df_forward_X_test_new, y_train, y_test, calculate_all=True)"
   ]
  },
  {
   "cell_type": "code",
   "execution_count": 41,
   "metadata": {
    "scrolled": false
   },
   "outputs": [
    {
     "name": "stdout",
     "output_type": "stream",
     "text": [
      "r2_train_rf:  0.92\n",
      "r2_test_rf:  0.57\n",
      "rms_train_rf:  29.74\n",
      "rms_test_rf:  65.86\n",
      "mae_train_rf:  12.89\n",
      "mae_test_rf:  31.31\n",
      "mape_train_rf:  12.74\n",
      "mape_test_rf:  31.68\n"
     ]
    }
   ],
   "source": [
    "df_forward_X_train_new = df_forward_X_train.iloc[:,0:9]\n",
    "df_forward_X_test_new = df_forward_X_test.iloc[:,0:9]\n",
    "calculate_rms_randomforest(df_forward_X_train_new, df_forward_X_test_new, y_train, y_test, calculate_all=True)"
   ]
  },
  {
   "cell_type": "code",
   "execution_count": 42,
   "metadata": {
    "scrolled": true
   },
   "outputs": [
    {
     "name": "stdout",
     "output_type": "stream",
     "text": [
      "r2_train_rf:  0.92\n",
      "r2_test_rf:  0.58\n",
      "rms_train_rf:  29.58\n",
      "rms_test_rf:  65.15\n",
      "mae_train_rf:  12.79\n",
      "mae_test_rf:  31.01\n",
      "mape_train_rf:  12.62\n",
      "mape_test_rf:  30.82\n"
     ]
    }
   ],
   "source": [
    "df_forward_X_train_new = df_forward_X_train.iloc[:,0:10]\n",
    "df_forward_X_test_new = df_forward_X_test.iloc[:,0:10]\n",
    "calculate_rms_randomforest(df_forward_X_train_new, df_forward_X_test_new, y_train, y_test, calculate_all=True)"
   ]
  },
  {
   "cell_type": "code",
   "execution_count": 43,
   "metadata": {
    "scrolled": true
   },
   "outputs": [
    {
     "name": "stdout",
     "output_type": "stream",
     "text": [
      "r2_train_rf:  0.92\n",
      "r2_test_rf:  0.58\n",
      "rms_train_rf:  29.23\n",
      "rms_test_rf:  64.99\n",
      "mae_train_rf:  12.87\n",
      "mae_test_rf:  31.01\n",
      "mape_train_rf:  12.9\n",
      "mape_test_rf:  31.64\n"
     ]
    }
   ],
   "source": [
    "df_forward_X_train_new = df_forward_X_train.iloc[:,0:11]\n",
    "df_forward_X_test_new = df_forward_X_test.iloc[:,0:11]\n",
    "calculate_rms_randomforest(df_forward_X_train_new, df_forward_X_test_new, y_train, y_test, calculate_all=True)"
   ]
  },
  {
   "cell_type": "markdown",
   "metadata": {},
   "source": [
    "## Forward / Backward / Exhaustive Search using pValue (statsmodels Package)"
   ]
  },
  {
   "cell_type": "code",
   "execution_count": 8,
   "metadata": {},
   "outputs": [
    {
     "name": "stderr",
     "output_type": "stream",
     "text": [
      "C:\\Users\\eklav\\Anaconda3\\lib\\site-packages\\statsmodels\\compat\\pandas.py:56: FutureWarning: The pandas.core.datetools module is deprecated and will be removed in a future version. Please use the pandas.tseries module instead.\n",
      "  from pandas.core import datetools\n"
     ]
    }
   ],
   "source": [
    "import statsmodels.api as sm\n",
    "\n",
    "def stepwise_selection(X, y, feature_list=[], threshold_in=0.01, threshold_out = 0.05, verbose=True, search=0):\n",
    "    '''\n",
    "    Forward Backward feature selection using p-value from statsmodels.api.OLS\n",
    "    Arguments:\n",
    "        X - pandas.DataFrame with candidate features\n",
    "        y - list with target feature\n",
    "        feature_list - list of features to start with (column names of X)\n",
    "        threshold_in - include a feature if p-value < threshold_in\n",
    "        threshold_out - exclude a feature if p-value > threshold_out\n",
    "        verbose - Boolean: To print the sequence of inclusions and exclusions\n",
    "        search - takes 0 (Exhaustive) or 1(Forward) or 2(Backward) as parameter\n",
    "    Returns: List of Selected Features \n",
    "    \n",
    "    Note: Avoid infinite looping setting threshold_in < threshold_out to \n",
    "    '''\n",
    "    selected_feature_list = list(feature_list)\n",
    "    changed = True\n",
    "\n",
    "    # Exhuastive Search\n",
    "    if search==0:\n",
    "        while changed:\n",
    "\n",
    "            changed = False\n",
    "\n",
    "            # Forward Step\n",
    "            excluded_features = list(set(X.columns) - set(selected_feature_list))\n",
    "            new_pvalue = pd.Series(index = excluded_features)\n",
    "\n",
    "            for new_column in excluded_features:\n",
    "                model = sm.OLS(y, sm.add_constant(pd.DataFrame(X[selected_feature_list + [new_column]]))).fit()\n",
    "                new_pvalue[new_column] = model.pvalues[new_column]\n",
    "\n",
    "            best_pvalue = new_pvalue.min()\n",
    "\n",
    "            if best_pvalue < threshold_in:\n",
    "                best_feature = new_pvalue.argmin()\n",
    "                selected_feature_list.append(best_feature)\n",
    "\n",
    "                changed = True\n",
    "                \n",
    "                if verbose:\n",
    "                    print('Adding {:30} with p-value {:.6}'.format(best_feature, best_pvalue))\n",
    "\n",
    "            # Backward Step\n",
    "            model = sm.OLS(y, sm.add_constant(pd.DataFrame(X[selected_feature_list]))).fit()\n",
    "\n",
    "            # Using all Coefficient except Intercept\n",
    "            pvalues_back = model.pvalues.iloc[1:]\n",
    "\n",
    "            # NaN if pvalues_back is empty\n",
    "            worst_pval = pvalues_back.max() \n",
    "            if worst_pval > threshold_out:\n",
    "                changed = True\n",
    "                worst_feature = pvalues_back.argmax()\n",
    "                selected_feature_list.remove(worst_feature)\n",
    "                if verbose:\n",
    "                    print('Dropping {:30} with p-value {:.6}'.format(worst_feature, worst_pval))\n",
    "            \n",
    "            if not changed:\n",
    "                break\n",
    "\n",
    "        return selected_feature_list\n",
    "\n",
    "\n",
    "    # Forward Search\n",
    "    if search==1:\n",
    "        while changed:\n",
    "\n",
    "            changed = False\n",
    "\n",
    "            # Forward Step\n",
    "            excluded_features = list(set(X.columns) - set(selected_feature_list))\n",
    "            new_pvalue = pd.Series(index = excluded_features)\n",
    "\n",
    "            for new_column in excluded_features:\n",
    "                model = sm.OLS(y, sm.add_constant(pd.DataFrame(X[selected_feature_list + [new_column]]))).fit()\n",
    "                new_pvalue[new_column] = model.pvalues[new_column]\n",
    "\n",
    "            best_pvalue = new_pvalue.min()\n",
    "\n",
    "            if best_pvalue < threshold_in:\n",
    "                best_feature = new_pvalue.argmin()\n",
    "                selected_feature_list.append(best_feature)\n",
    "\n",
    "                changed = True\n",
    "                \n",
    "                if verbose:\n",
    "                    print('Adding {:30} with p-value {:.6}'.format(best_feature, best_pvalue))\n",
    "\n",
    "        return selected_feature_list\n",
    "\n",
    "\n",
    "    # Backward Search\n",
    "    if search==2:\n",
    "\n",
    "        all_feature_list = list(X.columns)\n",
    "        \n",
    "        while changed:\n",
    "\n",
    "            changed = False\n",
    "            \n",
    "            # Backward Step\n",
    "            model = sm.OLS(y, sm.add_constant(pd.DataFrame(X[all_feature_list]))).fit()\n",
    "\n",
    "            # Using all Coefficient except Intercept\n",
    "            pvalues_back = model.pvalues.iloc[1:]\n",
    "\n",
    "            # NaN if pvalues_back is empty\n",
    "            worst_pval = pvalues_back.max() \n",
    "            if worst_pval > threshold_out:\n",
    "                changed = True\n",
    "                worst_feature = pvalues_back.argmax()\n",
    "                all_feature_list.remove(worst_feature)\n",
    "                if verbose:\n",
    "                    print('Dropping {:30} with p-value {:.6}'.format(worst_feature, worst_pval))\n",
    "            \n",
    "            if not changed:\n",
    "                break\n",
    "\n",
    "        return all_feature_list"
   ]
  },
  {
   "cell_type": "markdown",
   "metadata": {},
   "source": [
    "### Exhaustive Search using pValue"
   ]
  },
  {
   "cell_type": "code",
   "execution_count": 10,
   "metadata": {},
   "outputs": [
    {
     "name": "stdout",
     "output_type": "stream",
     "text": [
      "Adding NSM                            with p-value 4.18164e-222\n",
      "Adding Monday                         with p-value 1.68364e-24\n",
      "Adding RH_out                         with p-value 2.42348e-22\n",
      "Adding RH_1                           with p-value 3.30255e-32\n",
      "Adding RH_7                           with p-value 3.10234e-78\n",
      "Adding RH_2                           with p-value 1.35209e-61\n",
      "Dropping RH_out                         with p-value 0.0737589\n",
      "Adding RH_8                           with p-value 1.53215e-18\n",
      "Adding RH_3                           with p-value 7.71344e-18\n",
      "Adding T3                             with p-value 2.35461e-12\n",
      "Adding T9                             with p-value 1.21911e-95\n",
      "Adding T2                             with p-value 7.179e-30\n",
      "Adding T8                             with p-value 2.05484e-23\n",
      "Adding RH_5                           with p-value 5.48692e-12\n",
      "Adding Windspeed                      with p-value 2.6096e-11\n",
      "Adding Friday                         with p-value 1.25762e-10\n",
      "Adding Saturday                       with p-value 5.8943e-09\n",
      "Adding T4                             with p-value 7.52149e-12\n",
      "Adding RH_out                         with p-value 2.35368e-09\n",
      "Adding T5                             with p-value 4.35032e-05\n",
      "Adding RH_4                           with p-value 0.000224197\n",
      "Adding Visibility                     with p-value 0.00690687\n",
      "Adding Tuesday                        with p-value 0.00714686\n",
      "Resulting Features for Exhaustive Search:\n",
      "['NSM', 'Monday', 'RH_1', 'RH_7', 'RH_2', 'RH_8', 'RH_3', 'T3', 'T9', 'T2', 'T8', 'RH_5', 'Windspeed', 'Friday', 'Saturday', 'T4', 'RH_out', 'T5', 'RH_4', 'Visibility', 'Tuesday']\n"
     ]
    }
   ],
   "source": [
    "selected_features = stepwise_selection(X, y, search=0)\n",
    "print('Resulting Features for Exhaustive Search:')\n",
    "print(selected_features)"
   ]
  },
  {
   "cell_type": "code",
   "execution_count": 14,
   "metadata": {
    "scrolled": true
   },
   "outputs": [
    {
     "name": "stdout",
     "output_type": "stream",
     "text": [
      "r2_train_rf:  0.92\n",
      "r2_test_rf:  0.58\n",
      "rms_train_rf:  28.94\n",
      "rms_test_rf:  63.21\n",
      "mae_train_rf:  12.57\n",
      "mae_test_rf:  29.69\n",
      "mape_train_rf:  12.32\n",
      "mape_test_rf:  29.46\n"
     ]
    }
   ],
   "source": [
    "df_exhaust_X_train = X_train[selected_features]\n",
    "df_exhaust_X_test = X_test[selected_features]\n",
    "calculate_rms_randomforest(df_exhaust_X_train, df_exhaust_X_test, y_train, y_test, calculate_all=True)"
   ]
  },
  {
   "cell_type": "markdown",
   "metadata": {},
   "source": [
    "### Forward Search using pValue"
   ]
  },
  {
   "cell_type": "code",
   "execution_count": 15,
   "metadata": {},
   "outputs": [
    {
     "name": "stdout",
     "output_type": "stream",
     "text": [
      "Adding NSM                            with p-value 4.18164e-222\n",
      "Adding Monday                         with p-value 1.68364e-24\n",
      "Adding RH_out                         with p-value 2.42348e-22\n",
      "Adding RH_1                           with p-value 3.30255e-32\n",
      "Adding RH_7                           with p-value 3.10234e-78\n",
      "Adding RH_2                           with p-value 1.35209e-61\n",
      "Adding RH_8                           with p-value 1.01954e-22\n",
      "Adding Windspeed                      with p-value 2.64572e-19\n",
      "Adding RH_3                           with p-value 3.17346e-13\n",
      "Adding T3                             with p-value 1.31375e-23\n",
      "Adding T9                             with p-value 6.74748e-82\n",
      "Adding T2                             with p-value 9.93534e-29\n",
      "Adding T8                             with p-value 1.37699e-24\n",
      "Adding RH_5                           with p-value 3.94118e-12\n",
      "Adding Friday                         with p-value 6.48707e-10\n",
      "Adding Saturday                       with p-value 5.82544e-10\n",
      "Adding T4                             with p-value 1.30243e-13\n",
      "Adding T5                             with p-value 4.35032e-05\n",
      "Adding RH_4                           with p-value 0.000224197\n",
      "Adding Visibility                     with p-value 0.00690687\n",
      "Adding Tuesday                        with p-value 0.00714686\n",
      "Resulting Features for Forward Search:\n",
      "['NSM', 'Monday', 'RH_out', 'RH_1', 'RH_7', 'RH_2', 'RH_8', 'Windspeed', 'RH_3', 'T3', 'T9', 'T2', 'T8', 'RH_5', 'Friday', 'Saturday', 'T4', 'T5', 'RH_4', 'Visibility', 'Tuesday']\n"
     ]
    }
   ],
   "source": [
    "selected_features = stepwise_selection(X, y, search=1)\n",
    "print('Resulting Features for Forward Search:')\n",
    "print(selected_features)"
   ]
  },
  {
   "cell_type": "code",
   "execution_count": 16,
   "metadata": {
    "scrolled": true
   },
   "outputs": [
    {
     "name": "stdout",
     "output_type": "stream",
     "text": [
      "r2_train_rf:  0.92\n",
      "r2_test_rf:  0.57\n",
      "rms_train_rf:  29.15\n",
      "rms_test_rf:  63.88\n",
      "mae_train_rf:  12.62\n",
      "mae_test_rf:  30.15\n",
      "mape_train_rf:  12.31\n",
      "mape_test_rf:  29.85\n"
     ]
    }
   ],
   "source": [
    "df_forward_X_train = X_train[selected_features]\n",
    "df_forward_X_test = X_test[selected_features]\n",
    "calculate_rms_randomforest(df_forward_X_train, df_forward_X_test, y_train, y_test, calculate_all=True)"
   ]
  },
  {
   "cell_type": "markdown",
   "metadata": {},
   "source": [
    "### Backward Search using pValue"
   ]
  },
  {
   "cell_type": "code",
   "execution_count": 17,
   "metadata": {},
   "outputs": [
    {
     "name": "stdout",
     "output_type": "stream",
     "text": [
      "Dropping RH_out                         with p-value 0.997195\n",
      "Dropping rv2                            with p-value 0.986137\n",
      "Dropping Tuesday                        with p-value 0.549997\n",
      "Dropping Thursday                       with p-value 0.34801\n",
      "Dropping RH_6                           with p-value 0.176767\n",
      "Dropping RH_9                           with p-value 0.0994515\n",
      "Resulting Features for Backward Search:\n",
      "['T1', 'RH_1', 'T2', 'RH_2', 'T3', 'RH_3', 'T4', 'RH_4', 'T5', 'RH_5', 'RH_7', 'T8', 'RH_8', 'T9', 'T_out', 'Press_mm_hg', 'Windspeed', 'Visibility', 'Tdewpoint', 'NSM', 'Weekend', 'Weekday', 'Monday', 'Wednesday', 'Friday', 'Saturday', 'Sunday']\n"
     ]
    }
   ],
   "source": [
    "selected_features = stepwise_selection(X, y, search=2)\n",
    "print('Resulting Features for Backward Search:')\n",
    "print(selected_features)"
   ]
  },
  {
   "cell_type": "code",
   "execution_count": 18,
   "metadata": {
    "scrolled": true
   },
   "outputs": [
    {
     "name": "stdout",
     "output_type": "stream",
     "text": [
      "r2_train_rf:  0.92\n",
      "r2_test_rf:  0.6\n",
      "rms_train_rf:  28.44\n",
      "rms_test_rf:  61.9\n",
      "mae_train_rf:  12.43\n",
      "mae_test_rf:  29.11\n",
      "mape_train_rf:  12.08\n",
      "mape_test_rf:  28.75\n"
     ]
    }
   ],
   "source": [
    "df_backward_X_train = X_train[selected_features]\n",
    "df_backward_X_test = X_test[selected_features]\n",
    "calculate_rms_randomforest(df_backward_X_train, df_backward_X_test, y_train, y_test, calculate_all=True)"
   ]
  },
  {
   "cell_type": "markdown",
   "metadata": {},
   "source": [
    "### Defining Hyperparameters\n",
    "Upon multiple feature search, the feature search using `Forward Search ~ Feature Selection using RFE & Feature Importance Ranks` gives beat results with top 5 features selected. Selecting:\n",
    "* **NSM**, Number of seconds from midnight\n",
    "* **T_out**, Temperature outside (from Chièvres weather station)\n",
    "* **Tdewpoint**, Dew point temp (from Chièvres weather station)\n",
    "* **RH_6**, Humidity outside the building (north side)\n",
    "* **Press_mm_hg**, Pressure (from Chièvres weather station)"
   ]
  },
  {
   "cell_type": "code",
   "execution_count": 22,
   "metadata": {
    "collapsed": true
   },
   "outputs": [],
   "source": [
    "#feature_df.index\n",
    "final_selected_cols = ['Appliances', 'NSM', 'T_out', 'Tdewpoint', 'RH_6', 'Press_mm_hg']"
   ]
  },
  {
   "cell_type": "code",
   "execution_count": 25,
   "metadata": {},
   "outputs": [],
   "source": [
    "#Exporting new dataset with selected columns\n",
    "df_upload = df[final_selected_cols]\n",
    "df_upload.to_csv('energydata_complete_hyperpara.csv', index=False)"
   ]
  },
  {
   "cell_type": "markdown",
   "metadata": {},
   "source": [
    "## Exploring Other Packages to Compare and Contrast Feature Selection\n",
    "### Using BORUTA Library ~ Feature Selection"
   ]
  },
  {
   "cell_type": "code",
   "execution_count": 45,
   "metadata": {
    "scrolled": true
   },
   "outputs": [
    {
     "name": "stdout",
     "output_type": "stream",
     "text": [
      "Collecting boruta\n",
      "  Downloading Boruta-0.1.5.tar.gz (55kB)\n",
      "Requirement already satisfied: numpy>=1.10.4 in c:\\users\\eklav\\anaconda3\\lib\\site-packages (from boruta)\n",
      "Requirement already satisfied: scikit-learn>=0.17.1 in c:\\users\\eklav\\anaconda3\\lib\\site-packages (from boruta)\n",
      "Requirement already satisfied: scipy>=0.17.0 in c:\\users\\eklav\\anaconda3\\lib\\site-packages (from boruta)\n",
      "Building wheels for collected packages: boruta\n",
      "  Running setup.py bdist_wheel for boruta: started\n",
      "  Running setup.py bdist_wheel for boruta: finished with status 'done'\n",
      "  Stored in directory: C:\\Users\\eklav\\AppData\\Local\\pip\\Cache\\wheels\\bf\\38\\c9\\b27434caffce15e41d07e32f050a9b56d1c47a755adcb7313f\n",
      "Successfully built boruta\n",
      "Installing collected packages: boruta\n",
      "Successfully installed boruta-0.1.5\n"
     ]
    }
   ],
   "source": [
    "!pip install boruta"
   ]
  },
  {
   "cell_type": "code",
   "execution_count": 46,
   "metadata": {
    "collapsed": true,
    "scrolled": true
   },
   "outputs": [],
   "source": [
    "from sklearn.ensemble import RandomForestClassifier\n",
    "from boruta import BorutaPy"
   ]
  },
  {
   "cell_type": "code",
   "execution_count": 48,
   "metadata": {
    "scrolled": true
   },
   "outputs": [
    {
     "name": "stdout",
     "output_type": "stream",
     "text": [
      "Iteration: \t1 / 100\n",
      "Confirmed: \t0\n",
      "Tentative: \t33\n",
      "Rejected: \t0\n",
      "Iteration: \t2 / 100\n",
      "Confirmed: \t0\n",
      "Tentative: \t33\n",
      "Rejected: \t0\n",
      "Iteration: \t3 / 100\n",
      "Confirmed: \t0\n",
      "Tentative: \t33\n",
      "Rejected: \t0\n",
      "Iteration: \t4 / 100\n",
      "Confirmed: \t0\n",
      "Tentative: \t33\n",
      "Rejected: \t0\n",
      "Iteration: \t5 / 100\n",
      "Confirmed: \t0\n",
      "Tentative: \t33\n",
      "Rejected: \t0\n",
      "Iteration: \t6 / 100\n",
      "Confirmed: \t0\n",
      "Tentative: \t33\n",
      "Rejected: \t0\n",
      "Iteration: \t7 / 100\n",
      "Confirmed: \t0\n",
      "Tentative: \t33\n",
      "Rejected: \t0\n",
      "Iteration: \t8 / 100\n",
      "Confirmed: \t10\n",
      "Tentative: \t6\n",
      "Rejected: \t17\n"
     ]
    },
    {
     "name": "stderr",
     "output_type": "stream",
     "text": [
      "C:\\Users\\eklav\\Anaconda3\\lib\\site-packages\\boruta\\boruta_py.py:418: RuntimeWarning: invalid value encountered in greater\n",
      "  hits = np.where(cur_imp[0] > imp_sha_max)[0]\n"
     ]
    },
    {
     "name": "stdout",
     "output_type": "stream",
     "text": [
      "Iteration: \t9 / 100\n",
      "Confirmed: \t10\n",
      "Tentative: \t6\n",
      "Rejected: \t17\n"
     ]
    },
    {
     "name": "stderr",
     "output_type": "stream",
     "text": [
      "C:\\Users\\eklav\\Anaconda3\\lib\\site-packages\\boruta\\boruta_py.py:418: RuntimeWarning: invalid value encountered in greater\n",
      "  hits = np.where(cur_imp[0] > imp_sha_max)[0]\n"
     ]
    },
    {
     "name": "stdout",
     "output_type": "stream",
     "text": [
      "Iteration: \t10 / 100\n",
      "Confirmed: \t10\n",
      "Tentative: \t6\n",
      "Rejected: \t17\n"
     ]
    },
    {
     "name": "stderr",
     "output_type": "stream",
     "text": [
      "C:\\Users\\eklav\\Anaconda3\\lib\\site-packages\\boruta\\boruta_py.py:418: RuntimeWarning: invalid value encountered in greater\n",
      "  hits = np.where(cur_imp[0] > imp_sha_max)[0]\n"
     ]
    },
    {
     "name": "stdout",
     "output_type": "stream",
     "text": [
      "Iteration: \t11 / 100\n",
      "Confirmed: \t10\n",
      "Tentative: \t6\n",
      "Rejected: \t17\n"
     ]
    },
    {
     "name": "stderr",
     "output_type": "stream",
     "text": [
      "C:\\Users\\eklav\\Anaconda3\\lib\\site-packages\\boruta\\boruta_py.py:418: RuntimeWarning: invalid value encountered in greater\n",
      "  hits = np.where(cur_imp[0] > imp_sha_max)[0]\n"
     ]
    },
    {
     "name": "stdout",
     "output_type": "stream",
     "text": [
      "Iteration: \t12 / 100\n",
      "Confirmed: \t11\n",
      "Tentative: \t5\n",
      "Rejected: \t17\n"
     ]
    },
    {
     "name": "stderr",
     "output_type": "stream",
     "text": [
      "C:\\Users\\eklav\\Anaconda3\\lib\\site-packages\\boruta\\boruta_py.py:418: RuntimeWarning: invalid value encountered in greater\n",
      "  hits = np.where(cur_imp[0] > imp_sha_max)[0]\n"
     ]
    },
    {
     "name": "stdout",
     "output_type": "stream",
     "text": [
      "Iteration: \t13 / 100\n",
      "Confirmed: \t11\n",
      "Tentative: \t4\n",
      "Rejected: \t18\n"
     ]
    },
    {
     "name": "stderr",
     "output_type": "stream",
     "text": [
      "C:\\Users\\eklav\\Anaconda3\\lib\\site-packages\\boruta\\boruta_py.py:418: RuntimeWarning: invalid value encountered in greater\n",
      "  hits = np.where(cur_imp[0] > imp_sha_max)[0]\n"
     ]
    },
    {
     "name": "stdout",
     "output_type": "stream",
     "text": [
      "Iteration: \t14 / 100\n",
      "Confirmed: \t11\n",
      "Tentative: \t4\n",
      "Rejected: \t18\n"
     ]
    },
    {
     "name": "stderr",
     "output_type": "stream",
     "text": [
      "C:\\Users\\eklav\\Anaconda3\\lib\\site-packages\\boruta\\boruta_py.py:418: RuntimeWarning: invalid value encountered in greater\n",
      "  hits = np.where(cur_imp[0] > imp_sha_max)[0]\n"
     ]
    },
    {
     "name": "stdout",
     "output_type": "stream",
     "text": [
      "Iteration: \t15 / 100\n",
      "Confirmed: \t11\n",
      "Tentative: \t4\n",
      "Rejected: \t18\n"
     ]
    },
    {
     "name": "stderr",
     "output_type": "stream",
     "text": [
      "C:\\Users\\eklav\\Anaconda3\\lib\\site-packages\\boruta\\boruta_py.py:418: RuntimeWarning: invalid value encountered in greater\n",
      "  hits = np.where(cur_imp[0] > imp_sha_max)[0]\n"
     ]
    },
    {
     "name": "stdout",
     "output_type": "stream",
     "text": [
      "Iteration: \t16 / 100\n",
      "Confirmed: \t12\n",
      "Tentative: \t3\n",
      "Rejected: \t18\n"
     ]
    },
    {
     "name": "stderr",
     "output_type": "stream",
     "text": [
      "C:\\Users\\eklav\\Anaconda3\\lib\\site-packages\\boruta\\boruta_py.py:418: RuntimeWarning: invalid value encountered in greater\n",
      "  hits = np.where(cur_imp[0] > imp_sha_max)[0]\n"
     ]
    },
    {
     "name": "stdout",
     "output_type": "stream",
     "text": [
      "Iteration: \t17 / 100\n",
      "Confirmed: \t12\n",
      "Tentative: \t3\n",
      "Rejected: \t18\n"
     ]
    },
    {
     "name": "stderr",
     "output_type": "stream",
     "text": [
      "C:\\Users\\eklav\\Anaconda3\\lib\\site-packages\\boruta\\boruta_py.py:418: RuntimeWarning: invalid value encountered in greater\n",
      "  hits = np.where(cur_imp[0] > imp_sha_max)[0]\n"
     ]
    },
    {
     "name": "stdout",
     "output_type": "stream",
     "text": [
      "Iteration: \t18 / 100\n",
      "Confirmed: \t12\n",
      "Tentative: \t3\n",
      "Rejected: \t18\n"
     ]
    },
    {
     "name": "stderr",
     "output_type": "stream",
     "text": [
      "C:\\Users\\eklav\\Anaconda3\\lib\\site-packages\\boruta\\boruta_py.py:418: RuntimeWarning: invalid value encountered in greater\n",
      "  hits = np.where(cur_imp[0] > imp_sha_max)[0]\n"
     ]
    },
    {
     "name": "stdout",
     "output_type": "stream",
     "text": [
      "Iteration: \t19 / 100\n",
      "Confirmed: \t13\n",
      "Tentative: \t2\n",
      "Rejected: \t18\n"
     ]
    },
    {
     "name": "stderr",
     "output_type": "stream",
     "text": [
      "C:\\Users\\eklav\\Anaconda3\\lib\\site-packages\\boruta\\boruta_py.py:418: RuntimeWarning: invalid value encountered in greater\n",
      "  hits = np.where(cur_imp[0] > imp_sha_max)[0]\n"
     ]
    },
    {
     "name": "stdout",
     "output_type": "stream",
     "text": [
      "Iteration: \t20 / 100\n",
      "Confirmed: \t13\n",
      "Tentative: \t2\n",
      "Rejected: \t18\n"
     ]
    },
    {
     "name": "stderr",
     "output_type": "stream",
     "text": [
      "C:\\Users\\eklav\\Anaconda3\\lib\\site-packages\\boruta\\boruta_py.py:418: RuntimeWarning: invalid value encountered in greater\n",
      "  hits = np.where(cur_imp[0] > imp_sha_max)[0]\n"
     ]
    },
    {
     "name": "stdout",
     "output_type": "stream",
     "text": [
      "Iteration: \t21 / 100\n",
      "Confirmed: \t13\n",
      "Tentative: \t2\n",
      "Rejected: \t18\n"
     ]
    },
    {
     "name": "stderr",
     "output_type": "stream",
     "text": [
      "C:\\Users\\eklav\\Anaconda3\\lib\\site-packages\\boruta\\boruta_py.py:418: RuntimeWarning: invalid value encountered in greater\n",
      "  hits = np.where(cur_imp[0] > imp_sha_max)[0]\n"
     ]
    },
    {
     "name": "stdout",
     "output_type": "stream",
     "text": [
      "Iteration: \t22 / 100\n",
      "Confirmed: \t13\n",
      "Tentative: \t2\n",
      "Rejected: \t18\n"
     ]
    },
    {
     "name": "stderr",
     "output_type": "stream",
     "text": [
      "C:\\Users\\eklav\\Anaconda3\\lib\\site-packages\\boruta\\boruta_py.py:418: RuntimeWarning: invalid value encountered in greater\n",
      "  hits = np.where(cur_imp[0] > imp_sha_max)[0]\n"
     ]
    },
    {
     "name": "stdout",
     "output_type": "stream",
     "text": [
      "Iteration: \t23 / 100\n",
      "Confirmed: \t13\n",
      "Tentative: \t2\n",
      "Rejected: \t18\n"
     ]
    },
    {
     "name": "stderr",
     "output_type": "stream",
     "text": [
      "C:\\Users\\eklav\\Anaconda3\\lib\\site-packages\\boruta\\boruta_py.py:418: RuntimeWarning: invalid value encountered in greater\n",
      "  hits = np.where(cur_imp[0] > imp_sha_max)[0]\n"
     ]
    },
    {
     "name": "stdout",
     "output_type": "stream",
     "text": [
      "Iteration: \t24 / 100\n",
      "Confirmed: \t13\n",
      "Tentative: \t2\n",
      "Rejected: \t18\n"
     ]
    },
    {
     "name": "stderr",
     "output_type": "stream",
     "text": [
      "C:\\Users\\eklav\\Anaconda3\\lib\\site-packages\\boruta\\boruta_py.py:418: RuntimeWarning: invalid value encountered in greater\n",
      "  hits = np.where(cur_imp[0] > imp_sha_max)[0]\n"
     ]
    },
    {
     "name": "stdout",
     "output_type": "stream",
     "text": [
      "Iteration: \t25 / 100\n",
      "Confirmed: \t13\n",
      "Tentative: \t2\n",
      "Rejected: \t18\n"
     ]
    },
    {
     "name": "stderr",
     "output_type": "stream",
     "text": [
      "C:\\Users\\eklav\\Anaconda3\\lib\\site-packages\\boruta\\boruta_py.py:418: RuntimeWarning: invalid value encountered in greater\n",
      "  hits = np.where(cur_imp[0] > imp_sha_max)[0]\n"
     ]
    },
    {
     "name": "stdout",
     "output_type": "stream",
     "text": [
      "Iteration: \t26 / 100\n",
      "Confirmed: \t13\n",
      "Tentative: \t2\n",
      "Rejected: \t18\n"
     ]
    },
    {
     "name": "stderr",
     "output_type": "stream",
     "text": [
      "C:\\Users\\eklav\\Anaconda3\\lib\\site-packages\\boruta\\boruta_py.py:418: RuntimeWarning: invalid value encountered in greater\n",
      "  hits = np.where(cur_imp[0] > imp_sha_max)[0]\n"
     ]
    },
    {
     "name": "stdout",
     "output_type": "stream",
     "text": [
      "Iteration: \t27 / 100\n",
      "Confirmed: \t13\n",
      "Tentative: \t2\n",
      "Rejected: \t18\n"
     ]
    },
    {
     "name": "stderr",
     "output_type": "stream",
     "text": [
      "C:\\Users\\eklav\\Anaconda3\\lib\\site-packages\\boruta\\boruta_py.py:418: RuntimeWarning: invalid value encountered in greater\n",
      "  hits = np.where(cur_imp[0] > imp_sha_max)[0]\n"
     ]
    },
    {
     "name": "stdout",
     "output_type": "stream",
     "text": [
      "Iteration: \t28 / 100\n",
      "Confirmed: \t13\n",
      "Tentative: \t2\n",
      "Rejected: \t18\n"
     ]
    },
    {
     "name": "stderr",
     "output_type": "stream",
     "text": [
      "C:\\Users\\eklav\\Anaconda3\\lib\\site-packages\\boruta\\boruta_py.py:418: RuntimeWarning: invalid value encountered in greater\n",
      "  hits = np.where(cur_imp[0] > imp_sha_max)[0]\n"
     ]
    },
    {
     "name": "stdout",
     "output_type": "stream",
     "text": [
      "Iteration: \t29 / 100\n",
      "Confirmed: \t14\n",
      "Tentative: \t1\n",
      "Rejected: \t18\n"
     ]
    },
    {
     "name": "stderr",
     "output_type": "stream",
     "text": [
      "C:\\Users\\eklav\\Anaconda3\\lib\\site-packages\\boruta\\boruta_py.py:418: RuntimeWarning: invalid value encountered in greater\n",
      "  hits = np.where(cur_imp[0] > imp_sha_max)[0]\n"
     ]
    },
    {
     "name": "stdout",
     "output_type": "stream",
     "text": [
      "Iteration: \t30 / 100\n",
      "Confirmed: \t14\n",
      "Tentative: \t1\n",
      "Rejected: \t18\n"
     ]
    },
    {
     "name": "stderr",
     "output_type": "stream",
     "text": [
      "C:\\Users\\eklav\\Anaconda3\\lib\\site-packages\\boruta\\boruta_py.py:418: RuntimeWarning: invalid value encountered in greater\n",
      "  hits = np.where(cur_imp[0] > imp_sha_max)[0]\n"
     ]
    },
    {
     "name": "stdout",
     "output_type": "stream",
     "text": [
      "Iteration: \t31 / 100\n",
      "Confirmed: \t14\n",
      "Tentative: \t1\n",
      "Rejected: \t18\n"
     ]
    },
    {
     "name": "stderr",
     "output_type": "stream",
     "text": [
      "C:\\Users\\eklav\\Anaconda3\\lib\\site-packages\\boruta\\boruta_py.py:418: RuntimeWarning: invalid value encountered in greater\n",
      "  hits = np.where(cur_imp[0] > imp_sha_max)[0]\n"
     ]
    },
    {
     "name": "stdout",
     "output_type": "stream",
     "text": [
      "Iteration: \t32 / 100\n",
      "Confirmed: \t14\n",
      "Tentative: \t1\n",
      "Rejected: \t18\n"
     ]
    },
    {
     "name": "stderr",
     "output_type": "stream",
     "text": [
      "C:\\Users\\eklav\\Anaconda3\\lib\\site-packages\\boruta\\boruta_py.py:418: RuntimeWarning: invalid value encountered in greater\n",
      "  hits = np.where(cur_imp[0] > imp_sha_max)[0]\n"
     ]
    },
    {
     "name": "stdout",
     "output_type": "stream",
     "text": [
      "Iteration: \t33 / 100\n",
      "Confirmed: \t14\n",
      "Tentative: \t1\n",
      "Rejected: \t18\n"
     ]
    },
    {
     "name": "stderr",
     "output_type": "stream",
     "text": [
      "C:\\Users\\eklav\\Anaconda3\\lib\\site-packages\\boruta\\boruta_py.py:418: RuntimeWarning: invalid value encountered in greater\n",
      "  hits = np.where(cur_imp[0] > imp_sha_max)[0]\n"
     ]
    },
    {
     "name": "stdout",
     "output_type": "stream",
     "text": [
      "Iteration: \t34 / 100\n",
      "Confirmed: \t14\n",
      "Tentative: \t1\n",
      "Rejected: \t18\n"
     ]
    },
    {
     "name": "stderr",
     "output_type": "stream",
     "text": [
      "C:\\Users\\eklav\\Anaconda3\\lib\\site-packages\\boruta\\boruta_py.py:418: RuntimeWarning: invalid value encountered in greater\n",
      "  hits = np.where(cur_imp[0] > imp_sha_max)[0]\n"
     ]
    },
    {
     "name": "stdout",
     "output_type": "stream",
     "text": [
      "Iteration: \t35 / 100\n",
      "Confirmed: \t14\n",
      "Tentative: \t1\n",
      "Rejected: \t18\n"
     ]
    },
    {
     "name": "stderr",
     "output_type": "stream",
     "text": [
      "C:\\Users\\eklav\\Anaconda3\\lib\\site-packages\\boruta\\boruta_py.py:418: RuntimeWarning: invalid value encountered in greater\n",
      "  hits = np.where(cur_imp[0] > imp_sha_max)[0]\n"
     ]
    },
    {
     "name": "stdout",
     "output_type": "stream",
     "text": [
      "Iteration: \t36 / 100\n",
      "Confirmed: \t14\n",
      "Tentative: \t1\n",
      "Rejected: \t18\n"
     ]
    },
    {
     "name": "stderr",
     "output_type": "stream",
     "text": [
      "C:\\Users\\eklav\\Anaconda3\\lib\\site-packages\\boruta\\boruta_py.py:418: RuntimeWarning: invalid value encountered in greater\n",
      "  hits = np.where(cur_imp[0] > imp_sha_max)[0]\n"
     ]
    },
    {
     "name": "stdout",
     "output_type": "stream",
     "text": [
      "Iteration: \t37 / 100\n",
      "Confirmed: \t14\n",
      "Tentative: \t1\n",
      "Rejected: \t18\n"
     ]
    },
    {
     "name": "stderr",
     "output_type": "stream",
     "text": [
      "C:\\Users\\eklav\\Anaconda3\\lib\\site-packages\\boruta\\boruta_py.py:418: RuntimeWarning: invalid value encountered in greater\n",
      "  hits = np.where(cur_imp[0] > imp_sha_max)[0]\n"
     ]
    },
    {
     "name": "stdout",
     "output_type": "stream",
     "text": [
      "Iteration: \t38 / 100\n",
      "Confirmed: \t14\n",
      "Tentative: \t1\n",
      "Rejected: \t18\n"
     ]
    },
    {
     "name": "stderr",
     "output_type": "stream",
     "text": [
      "C:\\Users\\eklav\\Anaconda3\\lib\\site-packages\\boruta\\boruta_py.py:418: RuntimeWarning: invalid value encountered in greater\n",
      "  hits = np.where(cur_imp[0] > imp_sha_max)[0]\n"
     ]
    },
    {
     "name": "stdout",
     "output_type": "stream",
     "text": [
      "Iteration: \t39 / 100\n",
      "Confirmed: \t14\n",
      "Tentative: \t1\n",
      "Rejected: \t18\n"
     ]
    },
    {
     "name": "stderr",
     "output_type": "stream",
     "text": [
      "C:\\Users\\eklav\\Anaconda3\\lib\\site-packages\\boruta\\boruta_py.py:418: RuntimeWarning: invalid value encountered in greater\n",
      "  hits = np.where(cur_imp[0] > imp_sha_max)[0]\n"
     ]
    },
    {
     "name": "stdout",
     "output_type": "stream",
     "text": [
      "Iteration: \t40 / 100\n",
      "Confirmed: \t14\n",
      "Tentative: \t1\n",
      "Rejected: \t18\n"
     ]
    },
    {
     "name": "stderr",
     "output_type": "stream",
     "text": [
      "C:\\Users\\eklav\\Anaconda3\\lib\\site-packages\\boruta\\boruta_py.py:418: RuntimeWarning: invalid value encountered in greater\n",
      "  hits = np.where(cur_imp[0] > imp_sha_max)[0]\n"
     ]
    },
    {
     "name": "stdout",
     "output_type": "stream",
     "text": [
      "Iteration: \t41 / 100\n",
      "Confirmed: \t14\n",
      "Tentative: \t1\n",
      "Rejected: \t18\n"
     ]
    },
    {
     "name": "stderr",
     "output_type": "stream",
     "text": [
      "C:\\Users\\eklav\\Anaconda3\\lib\\site-packages\\boruta\\boruta_py.py:418: RuntimeWarning: invalid value encountered in greater\n",
      "  hits = np.where(cur_imp[0] > imp_sha_max)[0]\n"
     ]
    },
    {
     "name": "stdout",
     "output_type": "stream",
     "text": [
      "Iteration: \t42 / 100\n",
      "Confirmed: \t14\n",
      "Tentative: \t1\n",
      "Rejected: \t18\n"
     ]
    },
    {
     "name": "stderr",
     "output_type": "stream",
     "text": [
      "C:\\Users\\eklav\\Anaconda3\\lib\\site-packages\\boruta\\boruta_py.py:418: RuntimeWarning: invalid value encountered in greater\n",
      "  hits = np.where(cur_imp[0] > imp_sha_max)[0]\n"
     ]
    },
    {
     "name": "stdout",
     "output_type": "stream",
     "text": [
      "Iteration: \t43 / 100\n",
      "Confirmed: \t14\n",
      "Tentative: \t1\n",
      "Rejected: \t18\n"
     ]
    },
    {
     "name": "stderr",
     "output_type": "stream",
     "text": [
      "C:\\Users\\eklav\\Anaconda3\\lib\\site-packages\\boruta\\boruta_py.py:418: RuntimeWarning: invalid value encountered in greater\n",
      "  hits = np.where(cur_imp[0] > imp_sha_max)[0]\n"
     ]
    },
    {
     "name": "stdout",
     "output_type": "stream",
     "text": [
      "Iteration: \t44 / 100\n",
      "Confirmed: \t14\n",
      "Tentative: \t1\n",
      "Rejected: \t18\n"
     ]
    },
    {
     "name": "stderr",
     "output_type": "stream",
     "text": [
      "C:\\Users\\eklav\\Anaconda3\\lib\\site-packages\\boruta\\boruta_py.py:418: RuntimeWarning: invalid value encountered in greater\n",
      "  hits = np.where(cur_imp[0] > imp_sha_max)[0]\n"
     ]
    },
    {
     "name": "stdout",
     "output_type": "stream",
     "text": [
      "Iteration: \t45 / 100\n",
      "Confirmed: \t14\n",
      "Tentative: \t1\n",
      "Rejected: \t18\n"
     ]
    },
    {
     "name": "stderr",
     "output_type": "stream",
     "text": [
      "C:\\Users\\eklav\\Anaconda3\\lib\\site-packages\\boruta\\boruta_py.py:418: RuntimeWarning: invalid value encountered in greater\n",
      "  hits = np.where(cur_imp[0] > imp_sha_max)[0]\n"
     ]
    },
    {
     "name": "stdout",
     "output_type": "stream",
     "text": [
      "Iteration: \t46 / 100\n",
      "Confirmed: \t14\n",
      "Tentative: \t1\n",
      "Rejected: \t18\n"
     ]
    },
    {
     "name": "stderr",
     "output_type": "stream",
     "text": [
      "C:\\Users\\eklav\\Anaconda3\\lib\\site-packages\\boruta\\boruta_py.py:418: RuntimeWarning: invalid value encountered in greater\n",
      "  hits = np.where(cur_imp[0] > imp_sha_max)[0]\n"
     ]
    },
    {
     "name": "stdout",
     "output_type": "stream",
     "text": [
      "Iteration: \t47 / 100\n",
      "Confirmed: \t14\n",
      "Tentative: \t1\n",
      "Rejected: \t18\n"
     ]
    },
    {
     "name": "stderr",
     "output_type": "stream",
     "text": [
      "C:\\Users\\eklav\\Anaconda3\\lib\\site-packages\\boruta\\boruta_py.py:418: RuntimeWarning: invalid value encountered in greater\n",
      "  hits = np.where(cur_imp[0] > imp_sha_max)[0]\n"
     ]
    },
    {
     "name": "stdout",
     "output_type": "stream",
     "text": [
      "Iteration: \t48 / 100\n",
      "Confirmed: \t14\n",
      "Tentative: \t1\n",
      "Rejected: \t18\n"
     ]
    },
    {
     "name": "stderr",
     "output_type": "stream",
     "text": [
      "C:\\Users\\eklav\\Anaconda3\\lib\\site-packages\\boruta\\boruta_py.py:418: RuntimeWarning: invalid value encountered in greater\n",
      "  hits = np.where(cur_imp[0] > imp_sha_max)[0]\n"
     ]
    },
    {
     "name": "stdout",
     "output_type": "stream",
     "text": [
      "Iteration: \t49 / 100\n",
      "Confirmed: \t14\n",
      "Tentative: \t1\n",
      "Rejected: \t18\n"
     ]
    },
    {
     "name": "stderr",
     "output_type": "stream",
     "text": [
      "C:\\Users\\eklav\\Anaconda3\\lib\\site-packages\\boruta\\boruta_py.py:418: RuntimeWarning: invalid value encountered in greater\n",
      "  hits = np.where(cur_imp[0] > imp_sha_max)[0]\n"
     ]
    },
    {
     "name": "stdout",
     "output_type": "stream",
     "text": [
      "Iteration: \t50 / 100\n",
      "Confirmed: \t14\n",
      "Tentative: \t1\n",
      "Rejected: \t18\n"
     ]
    },
    {
     "name": "stderr",
     "output_type": "stream",
     "text": [
      "C:\\Users\\eklav\\Anaconda3\\lib\\site-packages\\boruta\\boruta_py.py:418: RuntimeWarning: invalid value encountered in greater\n",
      "  hits = np.where(cur_imp[0] > imp_sha_max)[0]\n"
     ]
    },
    {
     "name": "stdout",
     "output_type": "stream",
     "text": [
      "Iteration: \t51 / 100\n",
      "Confirmed: \t14\n",
      "Tentative: \t1\n",
      "Rejected: \t18\n"
     ]
    },
    {
     "name": "stderr",
     "output_type": "stream",
     "text": [
      "C:\\Users\\eklav\\Anaconda3\\lib\\site-packages\\boruta\\boruta_py.py:418: RuntimeWarning: invalid value encountered in greater\n",
      "  hits = np.where(cur_imp[0] > imp_sha_max)[0]\n"
     ]
    },
    {
     "name": "stdout",
     "output_type": "stream",
     "text": [
      "Iteration: \t52 / 100\n",
      "Confirmed: \t14\n",
      "Tentative: \t1\n",
      "Rejected: \t18\n"
     ]
    },
    {
     "name": "stderr",
     "output_type": "stream",
     "text": [
      "C:\\Users\\eklav\\Anaconda3\\lib\\site-packages\\boruta\\boruta_py.py:418: RuntimeWarning: invalid value encountered in greater\n",
      "  hits = np.where(cur_imp[0] > imp_sha_max)[0]\n"
     ]
    },
    {
     "name": "stdout",
     "output_type": "stream",
     "text": [
      "Iteration: \t53 / 100\n",
      "Confirmed: \t14\n",
      "Tentative: \t1\n",
      "Rejected: \t18\n"
     ]
    },
    {
     "name": "stderr",
     "output_type": "stream",
     "text": [
      "C:\\Users\\eklav\\Anaconda3\\lib\\site-packages\\boruta\\boruta_py.py:418: RuntimeWarning: invalid value encountered in greater\n",
      "  hits = np.where(cur_imp[0] > imp_sha_max)[0]\n"
     ]
    },
    {
     "name": "stdout",
     "output_type": "stream",
     "text": [
      "Iteration: \t54 / 100\n",
      "Confirmed: \t14\n",
      "Tentative: \t1\n",
      "Rejected: \t18\n"
     ]
    },
    {
     "name": "stderr",
     "output_type": "stream",
     "text": [
      "C:\\Users\\eklav\\Anaconda3\\lib\\site-packages\\boruta\\boruta_py.py:418: RuntimeWarning: invalid value encountered in greater\n",
      "  hits = np.where(cur_imp[0] > imp_sha_max)[0]\n"
     ]
    },
    {
     "name": "stdout",
     "output_type": "stream",
     "text": [
      "Iteration: \t55 / 100\n",
      "Confirmed: \t14\n",
      "Tentative: \t1\n",
      "Rejected: \t18\n"
     ]
    },
    {
     "name": "stderr",
     "output_type": "stream",
     "text": [
      "C:\\Users\\eklav\\Anaconda3\\lib\\site-packages\\boruta\\boruta_py.py:418: RuntimeWarning: invalid value encountered in greater\n",
      "  hits = np.where(cur_imp[0] > imp_sha_max)[0]\n"
     ]
    },
    {
     "name": "stdout",
     "output_type": "stream",
     "text": [
      "Iteration: \t56 / 100\n",
      "Confirmed: \t14\n",
      "Tentative: \t1\n",
      "Rejected: \t18\n"
     ]
    },
    {
     "name": "stderr",
     "output_type": "stream",
     "text": [
      "C:\\Users\\eklav\\Anaconda3\\lib\\site-packages\\boruta\\boruta_py.py:418: RuntimeWarning: invalid value encountered in greater\n",
      "  hits = np.where(cur_imp[0] > imp_sha_max)[0]\n"
     ]
    },
    {
     "name": "stdout",
     "output_type": "stream",
     "text": [
      "Iteration: \t57 / 100\n",
      "Confirmed: \t14\n",
      "Tentative: \t1\n",
      "Rejected: \t18\n"
     ]
    },
    {
     "name": "stderr",
     "output_type": "stream",
     "text": [
      "C:\\Users\\eklav\\Anaconda3\\lib\\site-packages\\boruta\\boruta_py.py:418: RuntimeWarning: invalid value encountered in greater\n",
      "  hits = np.where(cur_imp[0] > imp_sha_max)[0]\n"
     ]
    },
    {
     "name": "stdout",
     "output_type": "stream",
     "text": [
      "Iteration: \t58 / 100\n",
      "Confirmed: \t14\n",
      "Tentative: \t1\n",
      "Rejected: \t18\n"
     ]
    },
    {
     "name": "stderr",
     "output_type": "stream",
     "text": [
      "C:\\Users\\eklav\\Anaconda3\\lib\\site-packages\\boruta\\boruta_py.py:418: RuntimeWarning: invalid value encountered in greater\n",
      "  hits = np.where(cur_imp[0] > imp_sha_max)[0]\n"
     ]
    },
    {
     "name": "stdout",
     "output_type": "stream",
     "text": [
      "Iteration: \t59 / 100\n",
      "Confirmed: \t14\n",
      "Tentative: \t1\n",
      "Rejected: \t18\n"
     ]
    },
    {
     "name": "stderr",
     "output_type": "stream",
     "text": [
      "C:\\Users\\eklav\\Anaconda3\\lib\\site-packages\\boruta\\boruta_py.py:418: RuntimeWarning: invalid value encountered in greater\n",
      "  hits = np.where(cur_imp[0] > imp_sha_max)[0]\n"
     ]
    },
    {
     "name": "stdout",
     "output_type": "stream",
     "text": [
      "Iteration: \t60 / 100\n",
      "Confirmed: \t14\n",
      "Tentative: \t1\n",
      "Rejected: \t18\n"
     ]
    },
    {
     "name": "stderr",
     "output_type": "stream",
     "text": [
      "C:\\Users\\eklav\\Anaconda3\\lib\\site-packages\\boruta\\boruta_py.py:418: RuntimeWarning: invalid value encountered in greater\n",
      "  hits = np.where(cur_imp[0] > imp_sha_max)[0]\n"
     ]
    },
    {
     "name": "stdout",
     "output_type": "stream",
     "text": [
      "Iteration: \t61 / 100\n",
      "Confirmed: \t14\n",
      "Tentative: \t1\n",
      "Rejected: \t18\n"
     ]
    },
    {
     "name": "stderr",
     "output_type": "stream",
     "text": [
      "C:\\Users\\eklav\\Anaconda3\\lib\\site-packages\\boruta\\boruta_py.py:418: RuntimeWarning: invalid value encountered in greater\n",
      "  hits = np.where(cur_imp[0] > imp_sha_max)[0]\n"
     ]
    },
    {
     "name": "stdout",
     "output_type": "stream",
     "text": [
      "Iteration: \t62 / 100\n",
      "Confirmed: \t14\n",
      "Tentative: \t1\n",
      "Rejected: \t18\n"
     ]
    },
    {
     "name": "stderr",
     "output_type": "stream",
     "text": [
      "C:\\Users\\eklav\\Anaconda3\\lib\\site-packages\\boruta\\boruta_py.py:418: RuntimeWarning: invalid value encountered in greater\n",
      "  hits = np.where(cur_imp[0] > imp_sha_max)[0]\n"
     ]
    },
    {
     "name": "stdout",
     "output_type": "stream",
     "text": [
      "Iteration: \t63 / 100\n",
      "Confirmed: \t14\n",
      "Tentative: \t1\n",
      "Rejected: \t18\n"
     ]
    },
    {
     "name": "stderr",
     "output_type": "stream",
     "text": [
      "C:\\Users\\eklav\\Anaconda3\\lib\\site-packages\\boruta\\boruta_py.py:418: RuntimeWarning: invalid value encountered in greater\n",
      "  hits = np.where(cur_imp[0] > imp_sha_max)[0]\n"
     ]
    },
    {
     "name": "stdout",
     "output_type": "stream",
     "text": [
      "Iteration: \t64 / 100\n",
      "Confirmed: \t14\n",
      "Tentative: \t1\n",
      "Rejected: \t18\n"
     ]
    },
    {
     "name": "stderr",
     "output_type": "stream",
     "text": [
      "C:\\Users\\eklav\\Anaconda3\\lib\\site-packages\\boruta\\boruta_py.py:418: RuntimeWarning: invalid value encountered in greater\n",
      "  hits = np.where(cur_imp[0] > imp_sha_max)[0]\n"
     ]
    },
    {
     "name": "stdout",
     "output_type": "stream",
     "text": [
      "Iteration: \t65 / 100\n",
      "Confirmed: \t14\n",
      "Tentative: \t1\n",
      "Rejected: \t18\n"
     ]
    },
    {
     "name": "stderr",
     "output_type": "stream",
     "text": [
      "C:\\Users\\eklav\\Anaconda3\\lib\\site-packages\\boruta\\boruta_py.py:418: RuntimeWarning: invalid value encountered in greater\n",
      "  hits = np.where(cur_imp[0] > imp_sha_max)[0]\n"
     ]
    },
    {
     "name": "stdout",
     "output_type": "stream",
     "text": [
      "Iteration: \t66 / 100\n",
      "Confirmed: \t14\n",
      "Tentative: \t1\n",
      "Rejected: \t18\n"
     ]
    },
    {
     "name": "stderr",
     "output_type": "stream",
     "text": [
      "C:\\Users\\eklav\\Anaconda3\\lib\\site-packages\\boruta\\boruta_py.py:418: RuntimeWarning: invalid value encountered in greater\n",
      "  hits = np.where(cur_imp[0] > imp_sha_max)[0]\n"
     ]
    },
    {
     "name": "stdout",
     "output_type": "stream",
     "text": [
      "Iteration: \t67 / 100\n",
      "Confirmed: \t14\n",
      "Tentative: \t1\n",
      "Rejected: \t18\n"
     ]
    },
    {
     "name": "stderr",
     "output_type": "stream",
     "text": [
      "C:\\Users\\eklav\\Anaconda3\\lib\\site-packages\\boruta\\boruta_py.py:418: RuntimeWarning: invalid value encountered in greater\n",
      "  hits = np.where(cur_imp[0] > imp_sha_max)[0]\n"
     ]
    },
    {
     "name": "stdout",
     "output_type": "stream",
     "text": [
      "Iteration: \t68 / 100\n",
      "Confirmed: \t14\n",
      "Tentative: \t1\n",
      "Rejected: \t18\n"
     ]
    },
    {
     "name": "stderr",
     "output_type": "stream",
     "text": [
      "C:\\Users\\eklav\\Anaconda3\\lib\\site-packages\\boruta\\boruta_py.py:418: RuntimeWarning: invalid value encountered in greater\n",
      "  hits = np.where(cur_imp[0] > imp_sha_max)[0]\n"
     ]
    },
    {
     "name": "stdout",
     "output_type": "stream",
     "text": [
      "Iteration: \t69 / 100\n",
      "Confirmed: \t14\n",
      "Tentative: \t1\n",
      "Rejected: \t18\n"
     ]
    },
    {
     "name": "stderr",
     "output_type": "stream",
     "text": [
      "C:\\Users\\eklav\\Anaconda3\\lib\\site-packages\\boruta\\boruta_py.py:418: RuntimeWarning: invalid value encountered in greater\n",
      "  hits = np.where(cur_imp[0] > imp_sha_max)[0]\n"
     ]
    },
    {
     "name": "stdout",
     "output_type": "stream",
     "text": [
      "Iteration: \t70 / 100\n",
      "Confirmed: \t14\n",
      "Tentative: \t1\n",
      "Rejected: \t18\n"
     ]
    },
    {
     "name": "stderr",
     "output_type": "stream",
     "text": [
      "C:\\Users\\eklav\\Anaconda3\\lib\\site-packages\\boruta\\boruta_py.py:418: RuntimeWarning: invalid value encountered in greater\n",
      "  hits = np.where(cur_imp[0] > imp_sha_max)[0]\n"
     ]
    },
    {
     "name": "stdout",
     "output_type": "stream",
     "text": [
      "Iteration: \t71 / 100\n",
      "Confirmed: \t14\n",
      "Tentative: \t1\n",
      "Rejected: \t18\n"
     ]
    },
    {
     "name": "stderr",
     "output_type": "stream",
     "text": [
      "C:\\Users\\eklav\\Anaconda3\\lib\\site-packages\\boruta\\boruta_py.py:418: RuntimeWarning: invalid value encountered in greater\n",
      "  hits = np.where(cur_imp[0] > imp_sha_max)[0]\n"
     ]
    },
    {
     "name": "stdout",
     "output_type": "stream",
     "text": [
      "Iteration: \t72 / 100\n",
      "Confirmed: \t14\n",
      "Tentative: \t1\n",
      "Rejected: \t18\n"
     ]
    },
    {
     "name": "stderr",
     "output_type": "stream",
     "text": [
      "C:\\Users\\eklav\\Anaconda3\\lib\\site-packages\\boruta\\boruta_py.py:418: RuntimeWarning: invalid value encountered in greater\n",
      "  hits = np.where(cur_imp[0] > imp_sha_max)[0]\n"
     ]
    },
    {
     "name": "stdout",
     "output_type": "stream",
     "text": [
      "Iteration: \t73 / 100\n",
      "Confirmed: \t14\n",
      "Tentative: \t1\n",
      "Rejected: \t18\n"
     ]
    },
    {
     "name": "stderr",
     "output_type": "stream",
     "text": [
      "C:\\Users\\eklav\\Anaconda3\\lib\\site-packages\\boruta\\boruta_py.py:418: RuntimeWarning: invalid value encountered in greater\n",
      "  hits = np.where(cur_imp[0] > imp_sha_max)[0]\n"
     ]
    },
    {
     "name": "stdout",
     "output_type": "stream",
     "text": [
      "Iteration: \t74 / 100\n",
      "Confirmed: \t14\n",
      "Tentative: \t1\n",
      "Rejected: \t18\n"
     ]
    },
    {
     "name": "stderr",
     "output_type": "stream",
     "text": [
      "C:\\Users\\eklav\\Anaconda3\\lib\\site-packages\\boruta\\boruta_py.py:418: RuntimeWarning: invalid value encountered in greater\n",
      "  hits = np.where(cur_imp[0] > imp_sha_max)[0]\n"
     ]
    },
    {
     "name": "stdout",
     "output_type": "stream",
     "text": [
      "Iteration: \t75 / 100\n",
      "Confirmed: \t14\n",
      "Tentative: \t1\n",
      "Rejected: \t18\n"
     ]
    },
    {
     "name": "stderr",
     "output_type": "stream",
     "text": [
      "C:\\Users\\eklav\\Anaconda3\\lib\\site-packages\\boruta\\boruta_py.py:418: RuntimeWarning: invalid value encountered in greater\n",
      "  hits = np.where(cur_imp[0] > imp_sha_max)[0]\n"
     ]
    },
    {
     "name": "stdout",
     "output_type": "stream",
     "text": [
      "Iteration: \t76 / 100\n",
      "Confirmed: \t14\n",
      "Tentative: \t1\n",
      "Rejected: \t18\n"
     ]
    },
    {
     "name": "stderr",
     "output_type": "stream",
     "text": [
      "C:\\Users\\eklav\\Anaconda3\\lib\\site-packages\\boruta\\boruta_py.py:418: RuntimeWarning: invalid value encountered in greater\n",
      "  hits = np.where(cur_imp[0] > imp_sha_max)[0]\n"
     ]
    },
    {
     "name": "stdout",
     "output_type": "stream",
     "text": [
      "Iteration: \t77 / 100\n",
      "Confirmed: \t14\n",
      "Tentative: \t1\n",
      "Rejected: \t18\n"
     ]
    },
    {
     "name": "stderr",
     "output_type": "stream",
     "text": [
      "C:\\Users\\eklav\\Anaconda3\\lib\\site-packages\\boruta\\boruta_py.py:418: RuntimeWarning: invalid value encountered in greater\n",
      "  hits = np.where(cur_imp[0] > imp_sha_max)[0]\n"
     ]
    },
    {
     "name": "stdout",
     "output_type": "stream",
     "text": [
      "Iteration: \t78 / 100\n",
      "Confirmed: \t14\n",
      "Tentative: \t1\n",
      "Rejected: \t18\n"
     ]
    },
    {
     "name": "stderr",
     "output_type": "stream",
     "text": [
      "C:\\Users\\eklav\\Anaconda3\\lib\\site-packages\\boruta\\boruta_py.py:418: RuntimeWarning: invalid value encountered in greater\n",
      "  hits = np.where(cur_imp[0] > imp_sha_max)[0]\n"
     ]
    },
    {
     "name": "stdout",
     "output_type": "stream",
     "text": [
      "Iteration: \t79 / 100\n",
      "Confirmed: \t14\n",
      "Tentative: \t1\n",
      "Rejected: \t18\n"
     ]
    },
    {
     "name": "stderr",
     "output_type": "stream",
     "text": [
      "C:\\Users\\eklav\\Anaconda3\\lib\\site-packages\\boruta\\boruta_py.py:418: RuntimeWarning: invalid value encountered in greater\n",
      "  hits = np.where(cur_imp[0] > imp_sha_max)[0]\n"
     ]
    },
    {
     "name": "stdout",
     "output_type": "stream",
     "text": [
      "Iteration: \t80 / 100\n",
      "Confirmed: \t14\n",
      "Tentative: \t1\n",
      "Rejected: \t18\n"
     ]
    },
    {
     "name": "stderr",
     "output_type": "stream",
     "text": [
      "C:\\Users\\eklav\\Anaconda3\\lib\\site-packages\\boruta\\boruta_py.py:418: RuntimeWarning: invalid value encountered in greater\n",
      "  hits = np.where(cur_imp[0] > imp_sha_max)[0]\n"
     ]
    },
    {
     "name": "stdout",
     "output_type": "stream",
     "text": [
      "Iteration: \t81 / 100\n",
      "Confirmed: \t14\n",
      "Tentative: \t1\n",
      "Rejected: \t18\n"
     ]
    },
    {
     "name": "stderr",
     "output_type": "stream",
     "text": [
      "C:\\Users\\eklav\\Anaconda3\\lib\\site-packages\\boruta\\boruta_py.py:418: RuntimeWarning: invalid value encountered in greater\n",
      "  hits = np.where(cur_imp[0] > imp_sha_max)[0]\n"
     ]
    },
    {
     "name": "stdout",
     "output_type": "stream",
     "text": [
      "Iteration: \t82 / 100\n",
      "Confirmed: \t14\n",
      "Tentative: \t1\n",
      "Rejected: \t18\n"
     ]
    },
    {
     "name": "stderr",
     "output_type": "stream",
     "text": [
      "C:\\Users\\eklav\\Anaconda3\\lib\\site-packages\\boruta\\boruta_py.py:418: RuntimeWarning: invalid value encountered in greater\n",
      "  hits = np.where(cur_imp[0] > imp_sha_max)[0]\n"
     ]
    },
    {
     "name": "stdout",
     "output_type": "stream",
     "text": [
      "Iteration: \t83 / 100\n",
      "Confirmed: \t14\n",
      "Tentative: \t1\n",
      "Rejected: \t18\n"
     ]
    },
    {
     "name": "stderr",
     "output_type": "stream",
     "text": [
      "C:\\Users\\eklav\\Anaconda3\\lib\\site-packages\\boruta\\boruta_py.py:418: RuntimeWarning: invalid value encountered in greater\n",
      "  hits = np.where(cur_imp[0] > imp_sha_max)[0]\n"
     ]
    },
    {
     "name": "stdout",
     "output_type": "stream",
     "text": [
      "Iteration: \t84 / 100\n",
      "Confirmed: \t14\n",
      "Tentative: \t1\n",
      "Rejected: \t18\n"
     ]
    },
    {
     "name": "stderr",
     "output_type": "stream",
     "text": [
      "C:\\Users\\eklav\\Anaconda3\\lib\\site-packages\\boruta\\boruta_py.py:418: RuntimeWarning: invalid value encountered in greater\n",
      "  hits = np.where(cur_imp[0] > imp_sha_max)[0]\n"
     ]
    },
    {
     "name": "stdout",
     "output_type": "stream",
     "text": [
      "Iteration: \t85 / 100\n",
      "Confirmed: \t14\n",
      "Tentative: \t1\n",
      "Rejected: \t18\n"
     ]
    },
    {
     "name": "stderr",
     "output_type": "stream",
     "text": [
      "C:\\Users\\eklav\\Anaconda3\\lib\\site-packages\\boruta\\boruta_py.py:418: RuntimeWarning: invalid value encountered in greater\n",
      "  hits = np.where(cur_imp[0] > imp_sha_max)[0]\n"
     ]
    },
    {
     "name": "stdout",
     "output_type": "stream",
     "text": [
      "Iteration: \t86 / 100\n",
      "Confirmed: \t14\n",
      "Tentative: \t1\n",
      "Rejected: \t18\n"
     ]
    },
    {
     "name": "stderr",
     "output_type": "stream",
     "text": [
      "C:\\Users\\eklav\\Anaconda3\\lib\\site-packages\\boruta\\boruta_py.py:418: RuntimeWarning: invalid value encountered in greater\n",
      "  hits = np.where(cur_imp[0] > imp_sha_max)[0]\n"
     ]
    },
    {
     "name": "stdout",
     "output_type": "stream",
     "text": [
      "Iteration: \t87 / 100\n",
      "Confirmed: \t14\n",
      "Tentative: \t1\n",
      "Rejected: \t18\n"
     ]
    },
    {
     "name": "stderr",
     "output_type": "stream",
     "text": [
      "C:\\Users\\eklav\\Anaconda3\\lib\\site-packages\\boruta\\boruta_py.py:418: RuntimeWarning: invalid value encountered in greater\n",
      "  hits = np.where(cur_imp[0] > imp_sha_max)[0]\n"
     ]
    },
    {
     "name": "stdout",
     "output_type": "stream",
     "text": [
      "Iteration: \t88 / 100\n",
      "Confirmed: \t14\n",
      "Tentative: \t1\n",
      "Rejected: \t18\n"
     ]
    },
    {
     "name": "stderr",
     "output_type": "stream",
     "text": [
      "C:\\Users\\eklav\\Anaconda3\\lib\\site-packages\\boruta\\boruta_py.py:418: RuntimeWarning: invalid value encountered in greater\n",
      "  hits = np.where(cur_imp[0] > imp_sha_max)[0]\n"
     ]
    },
    {
     "name": "stdout",
     "output_type": "stream",
     "text": [
      "Iteration: \t89 / 100\n",
      "Confirmed: \t14\n",
      "Tentative: \t1\n",
      "Rejected: \t18\n"
     ]
    },
    {
     "name": "stderr",
     "output_type": "stream",
     "text": [
      "C:\\Users\\eklav\\Anaconda3\\lib\\site-packages\\boruta\\boruta_py.py:418: RuntimeWarning: invalid value encountered in greater\n",
      "  hits = np.where(cur_imp[0] > imp_sha_max)[0]\n"
     ]
    },
    {
     "name": "stdout",
     "output_type": "stream",
     "text": [
      "Iteration: \t90 / 100\n",
      "Confirmed: \t14\n",
      "Tentative: \t1\n",
      "Rejected: \t18\n"
     ]
    },
    {
     "name": "stderr",
     "output_type": "stream",
     "text": [
      "C:\\Users\\eklav\\Anaconda3\\lib\\site-packages\\boruta\\boruta_py.py:418: RuntimeWarning: invalid value encountered in greater\n",
      "  hits = np.where(cur_imp[0] > imp_sha_max)[0]\n"
     ]
    },
    {
     "name": "stdout",
     "output_type": "stream",
     "text": [
      "Iteration: \t91 / 100\n",
      "Confirmed: \t14\n",
      "Tentative: \t1\n",
      "Rejected: \t18\n"
     ]
    },
    {
     "name": "stderr",
     "output_type": "stream",
     "text": [
      "C:\\Users\\eklav\\Anaconda3\\lib\\site-packages\\boruta\\boruta_py.py:418: RuntimeWarning: invalid value encountered in greater\n",
      "  hits = np.where(cur_imp[0] > imp_sha_max)[0]\n"
     ]
    },
    {
     "name": "stdout",
     "output_type": "stream",
     "text": [
      "Iteration: \t92 / 100\n",
      "Confirmed: \t14\n",
      "Tentative: \t1\n",
      "Rejected: \t18\n"
     ]
    },
    {
     "name": "stderr",
     "output_type": "stream",
     "text": [
      "C:\\Users\\eklav\\Anaconda3\\lib\\site-packages\\boruta\\boruta_py.py:418: RuntimeWarning: invalid value encountered in greater\n",
      "  hits = np.where(cur_imp[0] > imp_sha_max)[0]\n"
     ]
    },
    {
     "name": "stdout",
     "output_type": "stream",
     "text": [
      "Iteration: \t93 / 100\n",
      "Confirmed: \t14\n",
      "Tentative: \t1\n",
      "Rejected: \t18\n"
     ]
    },
    {
     "name": "stderr",
     "output_type": "stream",
     "text": [
      "C:\\Users\\eklav\\Anaconda3\\lib\\site-packages\\boruta\\boruta_py.py:418: RuntimeWarning: invalid value encountered in greater\n",
      "  hits = np.where(cur_imp[0] > imp_sha_max)[0]\n"
     ]
    },
    {
     "name": "stdout",
     "output_type": "stream",
     "text": [
      "Iteration: \t94 / 100\n",
      "Confirmed: \t14\n",
      "Tentative: \t1\n",
      "Rejected: \t18\n"
     ]
    },
    {
     "name": "stderr",
     "output_type": "stream",
     "text": [
      "C:\\Users\\eklav\\Anaconda3\\lib\\site-packages\\boruta\\boruta_py.py:418: RuntimeWarning: invalid value encountered in greater\n",
      "  hits = np.where(cur_imp[0] > imp_sha_max)[0]\n"
     ]
    },
    {
     "name": "stdout",
     "output_type": "stream",
     "text": [
      "Iteration: \t95 / 100\n",
      "Confirmed: \t14\n",
      "Tentative: \t1\n",
      "Rejected: \t18\n"
     ]
    },
    {
     "name": "stderr",
     "output_type": "stream",
     "text": [
      "C:\\Users\\eklav\\Anaconda3\\lib\\site-packages\\boruta\\boruta_py.py:418: RuntimeWarning: invalid value encountered in greater\n",
      "  hits = np.where(cur_imp[0] > imp_sha_max)[0]\n"
     ]
    },
    {
     "name": "stdout",
     "output_type": "stream",
     "text": [
      "Iteration: \t96 / 100\n",
      "Confirmed: \t14\n",
      "Tentative: \t1\n",
      "Rejected: \t18\n"
     ]
    },
    {
     "name": "stderr",
     "output_type": "stream",
     "text": [
      "C:\\Users\\eklav\\Anaconda3\\lib\\site-packages\\boruta\\boruta_py.py:418: RuntimeWarning: invalid value encountered in greater\n",
      "  hits = np.where(cur_imp[0] > imp_sha_max)[0]\n"
     ]
    },
    {
     "name": "stdout",
     "output_type": "stream",
     "text": [
      "Iteration: \t97 / 100\n",
      "Confirmed: \t14\n",
      "Tentative: \t1\n",
      "Rejected: \t18\n"
     ]
    },
    {
     "name": "stderr",
     "output_type": "stream",
     "text": [
      "C:\\Users\\eklav\\Anaconda3\\lib\\site-packages\\boruta\\boruta_py.py:418: RuntimeWarning: invalid value encountered in greater\n",
      "  hits = np.where(cur_imp[0] > imp_sha_max)[0]\n"
     ]
    },
    {
     "name": "stdout",
     "output_type": "stream",
     "text": [
      "Iteration: \t98 / 100\n",
      "Confirmed: \t14\n",
      "Tentative: \t1\n",
      "Rejected: \t18\n"
     ]
    },
    {
     "name": "stderr",
     "output_type": "stream",
     "text": [
      "C:\\Users\\eklav\\Anaconda3\\lib\\site-packages\\boruta\\boruta_py.py:418: RuntimeWarning: invalid value encountered in greater\n",
      "  hits = np.where(cur_imp[0] > imp_sha_max)[0]\n"
     ]
    },
    {
     "name": "stdout",
     "output_type": "stream",
     "text": [
      "Iteration: \t99 / 100\n",
      "Confirmed: \t14\n",
      "Tentative: \t1\n",
      "Rejected: \t18\n",
      "\n",
      "\n",
      "BorutaPy finished running.\n",
      "\n",
      "Iteration: \t100 / 100\n",
      "Confirmed: \t14\n",
      "Tentative: \t0\n",
      "Rejected: \t18\n"
     ]
    },
    {
     "data": {
      "text/html": [
       "<div>\n",
       "<style>\n",
       "    .dataframe thead tr:only-child th {\n",
       "        text-align: right;\n",
       "    }\n",
       "\n",
       "    .dataframe thead th {\n",
       "        text-align: left;\n",
       "    }\n",
       "\n",
       "    .dataframe tbody tr th {\n",
       "        vertical-align: top;\n",
       "    }\n",
       "</style>\n",
       "<table border=\"1\" class=\"dataframe\">\n",
       "  <thead>\n",
       "    <tr style=\"text-align: right;\">\n",
       "      <th></th>\n",
       "      <th>RFE_LR_Rank</th>\n",
       "      <th>RFE_Lasso_Rank</th>\n",
       "      <th>RFE_RF_Rank</th>\n",
       "      <th>Feature_Imp_ETC</th>\n",
       "      <th>Feature_Imp_ETC_Rank</th>\n",
       "      <th>Mean_Rank</th>\n",
       "      <th>Feature</th>\n",
       "      <th>Boruta_Rank</th>\n",
       "    </tr>\n",
       "  </thead>\n",
       "  <tbody>\n",
       "    <tr>\n",
       "      <th>NSM</th>\n",
       "      <td>31</td>\n",
       "      <td>22</td>\n",
       "      <td>1</td>\n",
       "      <td>0.066458</td>\n",
       "      <td>1</td>\n",
       "      <td>1.0</td>\n",
       "      <td>NSM</td>\n",
       "      <td>7</td>\n",
       "    </tr>\n",
       "    <tr>\n",
       "      <th>T_out</th>\n",
       "      <td>20</td>\n",
       "      <td>30</td>\n",
       "      <td>1</td>\n",
       "      <td>0.043390</td>\n",
       "      <td>4</td>\n",
       "      <td>2.5</td>\n",
       "      <td>T_out</td>\n",
       "      <td>1</td>\n",
       "    </tr>\n",
       "    <tr>\n",
       "      <th>Tdewpoint</th>\n",
       "      <td>18</td>\n",
       "      <td>23</td>\n",
       "      <td>7</td>\n",
       "      <td>0.044073</td>\n",
       "      <td>1</td>\n",
       "      <td>4.0</td>\n",
       "      <td>Tdewpoint</td>\n",
       "      <td>1</td>\n",
       "    </tr>\n",
       "    <tr>\n",
       "      <th>RH_6</th>\n",
       "      <td>29</td>\n",
       "      <td>17</td>\n",
       "      <td>4</td>\n",
       "      <td>0.042822</td>\n",
       "      <td>6</td>\n",
       "      <td>5.0</td>\n",
       "      <td>RH_6</td>\n",
       "      <td>2</td>\n",
       "    </tr>\n",
       "    <tr>\n",
       "      <th>Press_mm_hg</th>\n",
       "      <td>26</td>\n",
       "      <td>19</td>\n",
       "      <td>1</td>\n",
       "      <td>0.040907</td>\n",
       "      <td>11</td>\n",
       "      <td>6.0</td>\n",
       "      <td>Press_mm_hg</td>\n",
       "      <td>6</td>\n",
       "    </tr>\n",
       "    <tr>\n",
       "      <th>RH_4</th>\n",
       "      <td>21</td>\n",
       "      <td>24</td>\n",
       "      <td>3</td>\n",
       "      <td>0.040497</td>\n",
       "      <td>12</td>\n",
       "      <td>7.5</td>\n",
       "      <td>RH_4</td>\n",
       "      <td>1</td>\n",
       "    </tr>\n",
       "    <tr>\n",
       "      <th>RH_3</th>\n",
       "      <td>13</td>\n",
       "      <td>8</td>\n",
       "      <td>2</td>\n",
       "      <td>0.039195</td>\n",
       "      <td>14</td>\n",
       "      <td>8.0</td>\n",
       "      <td>RH_3</td>\n",
       "      <td>5</td>\n",
       "    </tr>\n",
       "    <tr>\n",
       "      <th>RH_8</th>\n",
       "      <td>10</td>\n",
       "      <td>5</td>\n",
       "      <td>15</td>\n",
       "      <td>0.043768</td>\n",
       "      <td>3</td>\n",
       "      <td>9.0</td>\n",
       "      <td>RH_8</td>\n",
       "      <td>4</td>\n",
       "    </tr>\n",
       "    <tr>\n",
       "      <th>RH_out</th>\n",
       "      <td>28</td>\n",
       "      <td>21</td>\n",
       "      <td>13</td>\n",
       "      <td>0.043055</td>\n",
       "      <td>5</td>\n",
       "      <td>9.0</td>\n",
       "      <td>RH_out</td>\n",
       "      <td>8</td>\n",
       "    </tr>\n",
       "    <tr>\n",
       "      <th>RH_7</th>\n",
       "      <td>22</td>\n",
       "      <td>13</td>\n",
       "      <td>10</td>\n",
       "      <td>0.041788</td>\n",
       "      <td>8</td>\n",
       "      <td>9.0</td>\n",
       "      <td>RH_7</td>\n",
       "      <td>1</td>\n",
       "    </tr>\n",
       "    <tr>\n",
       "      <th>RH_9</th>\n",
       "      <td>24</td>\n",
       "      <td>12</td>\n",
       "      <td>17</td>\n",
       "      <td>0.043937</td>\n",
       "      <td>2</td>\n",
       "      <td>9.5</td>\n",
       "      <td>RH_9</td>\n",
       "      <td>1</td>\n",
       "    </tr>\n",
       "    <tr>\n",
       "      <th>rv2</th>\n",
       "      <td>30</td>\n",
       "      <td>25</td>\n",
       "      <td>19</td>\n",
       "      <td>0.044856</td>\n",
       "      <td>1</td>\n",
       "      <td>10.0</td>\n",
       "      <td>rv2</td>\n",
       "      <td>1</td>\n",
       "    </tr>\n",
       "    <tr>\n",
       "      <th>RH_1</th>\n",
       "      <td>1</td>\n",
       "      <td>1</td>\n",
       "      <td>11</td>\n",
       "      <td>0.041077</td>\n",
       "      <td>10</td>\n",
       "      <td>10.5</td>\n",
       "      <td>RH_1</td>\n",
       "      <td>1</td>\n",
       "    </tr>\n",
       "    <tr>\n",
       "      <th>T3</th>\n",
       "      <td>3</td>\n",
       "      <td>2</td>\n",
       "      <td>6</td>\n",
       "      <td>0.036308</td>\n",
       "      <td>16</td>\n",
       "      <td>11.0</td>\n",
       "      <td>T3</td>\n",
       "      <td>1</td>\n",
       "    </tr>\n",
       "    <tr>\n",
       "      <th>RH_5</th>\n",
       "      <td>25</td>\n",
       "      <td>15</td>\n",
       "      <td>9</td>\n",
       "      <td>0.040028</td>\n",
       "      <td>13</td>\n",
       "      <td>11.0</td>\n",
       "      <td>RH_5</td>\n",
       "      <td>9</td>\n",
       "    </tr>\n",
       "    <tr>\n",
       "      <th>T4</th>\n",
       "      <td>11</td>\n",
       "      <td>14</td>\n",
       "      <td>5</td>\n",
       "      <td>0.035974</td>\n",
       "      <td>18</td>\n",
       "      <td>11.5</td>\n",
       "      <td>T4</td>\n",
       "      <td>1</td>\n",
       "    </tr>\n",
       "    <tr>\n",
       "      <th>T8</th>\n",
       "      <td>5</td>\n",
       "      <td>4</td>\n",
       "      <td>8</td>\n",
       "      <td>0.037749</td>\n",
       "      <td>15</td>\n",
       "      <td>11.5</td>\n",
       "      <td>T8</td>\n",
       "      <td>1</td>\n",
       "    </tr>\n",
       "    <tr>\n",
       "      <th>T2</th>\n",
       "      <td>2</td>\n",
       "      <td>1</td>\n",
       "      <td>14</td>\n",
       "      <td>0.041253</td>\n",
       "      <td>9</td>\n",
       "      <td>11.5</td>\n",
       "      <td>T2</td>\n",
       "      <td>1</td>\n",
       "    </tr>\n",
       "    <tr>\n",
       "      <th>RH_2</th>\n",
       "      <td>1</td>\n",
       "      <td>1</td>\n",
       "      <td>16</td>\n",
       "      <td>0.042027</td>\n",
       "      <td>7</td>\n",
       "      <td>11.5</td>\n",
       "      <td>RH_2</td>\n",
       "      <td>1</td>\n",
       "    </tr>\n",
       "    <tr>\n",
       "      <th>T9</th>\n",
       "      <td>4</td>\n",
       "      <td>3</td>\n",
       "      <td>12</td>\n",
       "      <td>0.027852</td>\n",
       "      <td>22</td>\n",
       "      <td>17.0</td>\n",
       "      <td>T9</td>\n",
       "      <td>10</td>\n",
       "    </tr>\n",
       "    <tr>\n",
       "      <th>T1</th>\n",
       "      <td>19</td>\n",
       "      <td>31</td>\n",
       "      <td>20</td>\n",
       "      <td>0.036187</td>\n",
       "      <td>17</td>\n",
       "      <td>18.5</td>\n",
       "      <td>T1</td>\n",
       "      <td>11</td>\n",
       "    </tr>\n",
       "    <tr>\n",
       "      <th>T5</th>\n",
       "      <td>12</td>\n",
       "      <td>11</td>\n",
       "      <td>18</td>\n",
       "      <td>0.033217</td>\n",
       "      <td>20</td>\n",
       "      <td>19.0</td>\n",
       "      <td>T5</td>\n",
       "      <td>1</td>\n",
       "    </tr>\n",
       "    <tr>\n",
       "      <th>Windspeed</th>\n",
       "      <td>16</td>\n",
       "      <td>10</td>\n",
       "      <td>21</td>\n",
       "      <td>0.034927</td>\n",
       "      <td>19</td>\n",
       "      <td>20.0</td>\n",
       "      <td>Windspeed</td>\n",
       "      <td>3</td>\n",
       "    </tr>\n",
       "    <tr>\n",
       "      <th>Visibility</th>\n",
       "      <td>27</td>\n",
       "      <td>20</td>\n",
       "      <td>22</td>\n",
       "      <td>0.031805</td>\n",
       "      <td>21</td>\n",
       "      <td>21.5</td>\n",
       "      <td>Visibility</td>\n",
       "      <td>1</td>\n",
       "    </tr>\n",
       "    <tr>\n",
       "      <th>Monday</th>\n",
       "      <td>1</td>\n",
       "      <td>6</td>\n",
       "      <td>23</td>\n",
       "      <td>0.003478</td>\n",
       "      <td>26</td>\n",
       "      <td>24.5</td>\n",
       "      <td>Monday</td>\n",
       "      <td>15</td>\n",
       "    </tr>\n",
       "    <tr>\n",
       "      <th>Wednesday</th>\n",
       "      <td>14</td>\n",
       "      <td>28</td>\n",
       "      <td>27</td>\n",
       "      <td>0.003772</td>\n",
       "      <td>23</td>\n",
       "      <td>25.0</td>\n",
       "      <td>Wednesday</td>\n",
       "      <td>13</td>\n",
       "    </tr>\n",
       "    <tr>\n",
       "      <th>Tuesday</th>\n",
       "      <td>8</td>\n",
       "      <td>7</td>\n",
       "      <td>25</td>\n",
       "      <td>0.003573</td>\n",
       "      <td>25</td>\n",
       "      <td>25.0</td>\n",
       "      <td>Tuesday</td>\n",
       "      <td>17</td>\n",
       "    </tr>\n",
       "    <tr>\n",
       "      <th>Friday</th>\n",
       "      <td>6</td>\n",
       "      <td>9</td>\n",
       "      <td>24</td>\n",
       "      <td>0.003206</td>\n",
       "      <td>27</td>\n",
       "      <td>25.5</td>\n",
       "      <td>Friday</td>\n",
       "      <td>14</td>\n",
       "    </tr>\n",
       "    <tr>\n",
       "      <th>Thursday</th>\n",
       "      <td>9</td>\n",
       "      <td>18</td>\n",
       "      <td>31</td>\n",
       "      <td>0.003615</td>\n",
       "      <td>24</td>\n",
       "      <td>27.5</td>\n",
       "      <td>Thursday</td>\n",
       "      <td>12</td>\n",
       "    </tr>\n",
       "    <tr>\n",
       "      <th>Weekday</th>\n",
       "      <td>17</td>\n",
       "      <td>27</td>\n",
       "      <td>28</td>\n",
       "      <td>0.002380</td>\n",
       "      <td>28</td>\n",
       "      <td>28.0</td>\n",
       "      <td>Weekday</td>\n",
       "      <td>17</td>\n",
       "    </tr>\n",
       "    <tr>\n",
       "      <th>Saturday</th>\n",
       "      <td>7</td>\n",
       "      <td>16</td>\n",
       "      <td>26</td>\n",
       "      <td>0.002150</td>\n",
       "      <td>31</td>\n",
       "      <td>28.5</td>\n",
       "      <td>Saturday</td>\n",
       "      <td>17</td>\n",
       "    </tr>\n",
       "    <tr>\n",
       "      <th>Weekend</th>\n",
       "      <td>23</td>\n",
       "      <td>26</td>\n",
       "      <td>29</td>\n",
       "      <td>0.002379</td>\n",
       "      <td>29</td>\n",
       "      <td>29.0</td>\n",
       "      <td>Weekend</td>\n",
       "      <td>20</td>\n",
       "    </tr>\n",
       "    <tr>\n",
       "      <th>Sunday</th>\n",
       "      <td>15</td>\n",
       "      <td>29</td>\n",
       "      <td>30</td>\n",
       "      <td>0.002300</td>\n",
       "      <td>30</td>\n",
       "      <td>30.0</td>\n",
       "      <td>Sunday</td>\n",
       "      <td>19</td>\n",
       "    </tr>\n",
       "  </tbody>\n",
       "</table>\n",
       "</div>"
      ],
      "text/plain": [
       "             RFE_LR_Rank  RFE_Lasso_Rank  RFE_RF_Rank  Feature_Imp_ETC  \\\n",
       "NSM                   31              22            1         0.066458   \n",
       "T_out                 20              30            1         0.043390   \n",
       "Tdewpoint             18              23            7         0.044073   \n",
       "RH_6                  29              17            4         0.042822   \n",
       "Press_mm_hg           26              19            1         0.040907   \n",
       "RH_4                  21              24            3         0.040497   \n",
       "RH_3                  13               8            2         0.039195   \n",
       "RH_8                  10               5           15         0.043768   \n",
       "RH_out                28              21           13         0.043055   \n",
       "RH_7                  22              13           10         0.041788   \n",
       "RH_9                  24              12           17         0.043937   \n",
       "rv2                   30              25           19         0.044856   \n",
       "RH_1                   1               1           11         0.041077   \n",
       "T3                     3               2            6         0.036308   \n",
       "RH_5                  25              15            9         0.040028   \n",
       "T4                    11              14            5         0.035974   \n",
       "T8                     5               4            8         0.037749   \n",
       "T2                     2               1           14         0.041253   \n",
       "RH_2                   1               1           16         0.042027   \n",
       "T9                     4               3           12         0.027852   \n",
       "T1                    19              31           20         0.036187   \n",
       "T5                    12              11           18         0.033217   \n",
       "Windspeed             16              10           21         0.034927   \n",
       "Visibility            27              20           22         0.031805   \n",
       "Monday                 1               6           23         0.003478   \n",
       "Wednesday             14              28           27         0.003772   \n",
       "Tuesday                8               7           25         0.003573   \n",
       "Friday                 6               9           24         0.003206   \n",
       "Thursday               9              18           31         0.003615   \n",
       "Weekday               17              27           28         0.002380   \n",
       "Saturday               7              16           26         0.002150   \n",
       "Weekend               23              26           29         0.002379   \n",
       "Sunday                15              29           30         0.002300   \n",
       "\n",
       "             Feature_Imp_ETC_Rank  Mean_Rank      Feature  Boruta_Rank  \n",
       "NSM                             1        1.0          NSM            7  \n",
       "T_out                           4        2.5        T_out            1  \n",
       "Tdewpoint                       1        4.0    Tdewpoint            1  \n",
       "RH_6                            6        5.0         RH_6            2  \n",
       "Press_mm_hg                    11        6.0  Press_mm_hg            6  \n",
       "RH_4                           12        7.5         RH_4            1  \n",
       "RH_3                           14        8.0         RH_3            5  \n",
       "RH_8                            3        9.0         RH_8            4  \n",
       "RH_out                          5        9.0       RH_out            8  \n",
       "RH_7                            8        9.0         RH_7            1  \n",
       "RH_9                            2        9.5         RH_9            1  \n",
       "rv2                             1       10.0          rv2            1  \n",
       "RH_1                           10       10.5         RH_1            1  \n",
       "T3                             16       11.0           T3            1  \n",
       "RH_5                           13       11.0         RH_5            9  \n",
       "T4                             18       11.5           T4            1  \n",
       "T8                             15       11.5           T8            1  \n",
       "T2                              9       11.5           T2            1  \n",
       "RH_2                            7       11.5         RH_2            1  \n",
       "T9                             22       17.0           T9           10  \n",
       "T1                             17       18.5           T1           11  \n",
       "T5                             20       19.0           T5            1  \n",
       "Windspeed                      19       20.0    Windspeed            3  \n",
       "Visibility                     21       21.5   Visibility            1  \n",
       "Monday                         26       24.5       Monday           15  \n",
       "Wednesday                      23       25.0    Wednesday           13  \n",
       "Tuesday                        25       25.0      Tuesday           17  \n",
       "Friday                         27       25.5       Friday           14  \n",
       "Thursday                       24       27.5     Thursday           12  \n",
       "Weekday                        28       28.0      Weekday           17  \n",
       "Saturday                       31       28.5     Saturday           17  \n",
       "Weekend                        29       29.0      Weekend           20  \n",
       "Sunday                         30       30.0       Sunday           19  "
      ]
     },
     "execution_count": 48,
     "metadata": {},
     "output_type": "execute_result"
    }
   ],
   "source": [
    "# Change X and y to its values\n",
    "X_boruta = X.values\n",
    "y_boruta = y.values\n",
    "\n",
    "# Define random forest classifier, with utilising all cores and sampling in proportion to y labels\n",
    "rfc = RandomForestClassifier(n_jobs=-1)\n",
    " \n",
    "# Define Boruta feature selection method\n",
    "feature_selector = BorutaPy(rfc, n_estimators='auto', verbose=2)\n",
    " \n",
    "# Find all relevant features\n",
    "feature_selector.fit(X_boruta, y_boruta)\n",
    " \n",
    "# Check ranking of features\n",
    "feature_df['Boruta_Rank'] = feature_selector.ranking_\n",
    "feature_df"
   ]
  },
  {
   "cell_type": "code",
   "execution_count": 49,
   "metadata": {
    "scrolled": true
   },
   "outputs": [
    {
     "data": {
      "image/png": "[encoded data removed]",
      "text/plain": [
       "<matplotlib.figure.Figure at 0x2a83b6c5748>"
      ]
     },
     "metadata": {},
     "output_type": "display_data"
    }
   ],
   "source": [
    "# Sort the dataframe as per Mean Rank\n",
    "feature_df = feature_df.sort_values('Boruta_Rank')\n",
    "\n",
    "# Plot the ranking of the features\n",
    "sns.factorplot(x='Boruta_Rank', y='Feature', data = feature_df, kind=\"bar\", size=14, aspect=1.9, palette='coolwarm');"
   ]
  },
  {
   "cell_type": "markdown",
   "metadata": {},
   "source": [
    "## Using TPOT Library ~ AutoML Method\n",
    "> [Source](https://automl.info/tpot/): The goal of TPOT is to automate the building of ML pipelines by combining a flexible expression tree representation of pipelines with stochastic search algorithms such as genetic programming. TPOT makes use of the Python-based scikit-learn library as its ML menu."
   ]
  },
  {
   "cell_type": "code",
   "execution_count": 50,
   "metadata": {
    "scrolled": true
   },
   "outputs": [
    {
     "name": "stdout",
     "output_type": "stream",
     "text": [
      "Collecting tpot\n",
      "  Downloading TPOT-0.9.2.tar.gz (888kB)\n",
      "Requirement already satisfied: numpy>=1.12.1 in c:\\users\\eklav\\anaconda3\\lib\\site-packages (from tpot)\n",
      "Requirement already satisfied: scipy>=0.19.0 in c:\\users\\eklav\\anaconda3\\lib\\site-packages (from tpot)\n",
      "Requirement already satisfied: scikit-learn>=0.18.1 in c:\\users\\eklav\\anaconda3\\lib\\site-packages (from tpot)\n",
      "Collecting deap>=1.0 (from tpot)\n",
      "  Downloading deap-1.2.2.tar.gz (936kB)\n",
      "Collecting update_checker>=0.16 (from tpot)\n",
      "  Downloading update_checker-0.16-py2.py3-none-any.whl\n",
      "Requirement already satisfied: tqdm>=4.11.2 in c:\\users\\eklav\\anaconda3\\lib\\site-packages (from tpot)\n",
      "Collecting stopit>=1.1.1 (from tpot)\n",
      "  Downloading stopit-1.1.2.tar.gz\n",
      "Requirement already satisfied: pandas>=0.20.2 in c:\\users\\eklav\\anaconda3\\lib\\site-packages (from tpot)\n",
      "Requirement already satisfied: requests>=2.3.0 in c:\\users\\eklav\\anaconda3\\lib\\site-packages (from update_checker>=0.16->tpot)\n",
      "Requirement already satisfied: python-dateutil>=2 in c:\\users\\eklav\\anaconda3\\lib\\site-packages (from pandas>=0.20.2->tpot)\n",
      "Requirement already satisfied: pytz>=2011k in c:\\users\\eklav\\anaconda3\\lib\\site-packages (from pandas>=0.20.2->tpot)\n",
      "Requirement already satisfied: chardet<3.1.0,>=3.0.2 in c:\\users\\eklav\\anaconda3\\lib\\site-packages (from requests>=2.3.0->update_checker>=0.16->tpot)\n",
      "Requirement already satisfied: idna<2.7,>=2.5 in c:\\users\\eklav\\anaconda3\\lib\\site-packages (from requests>=2.3.0->update_checker>=0.16->tpot)\n",
      "Requirement already satisfied: urllib3<1.23,>=1.21.1 in c:\\users\\eklav\\anaconda3\\lib\\site-packages (from requests>=2.3.0->update_checker>=0.16->tpot)\n",
      "Requirement already satisfied: certifi>=2017.4.17 in c:\\users\\eklav\\anaconda3\\lib\\site-packages (from requests>=2.3.0->update_checker>=0.16->tpot)\n",
      "Requirement already satisfied: six>=1.5 in c:\\users\\eklav\\anaconda3\\lib\\site-packages (from python-dateutil>=2->pandas>=0.20.2->tpot)\n",
      "Building wheels for collected packages: tpot, deap, stopit\n",
      "  Running setup.py bdist_wheel for tpot: started\n",
      "  Running setup.py bdist_wheel for tpot: finished with status 'done'\n",
      "  Stored in directory: C:\\Users\\eklav\\AppData\\Local\\pip\\Cache\\wheels\\d2\\54\\33\\7549c05095a6a38d3de610f88f2d075e56617ff887dce6d54e\n",
      "  Running setup.py bdist_wheel for deap: started\n",
      "  Running setup.py bdist_wheel for deap: finished with status 'done'\n",
      "  Stored in directory: C:\\Users\\eklav\\AppData\\Local\\pip\\Cache\\wheels\\82\\aa\\67\\2c93e17c84646c86099fda53ee0b3329372dcf94dd8789fd13\n",
      "  Running setup.py bdist_wheel for stopit: started\n",
      "  Running setup.py bdist_wheel for stopit: finished with status 'done'\n",
      "  Stored in directory: C:\\Users\\eklav\\AppData\\Local\\pip\\Cache\\wheels\\95\\fc\\6b\\0289a3bce1635be994845f61cbaa91a7ac93dfc453229f0442\n",
      "Successfully built tpot deap stopit\n",
      "Installing collected packages: deap, update-checker, stopit, tpot\n",
      "Successfully installed deap-1.2.2 stopit-1.1.2 tpot-0.9.2 update-checker-0.16\n"
     ]
    }
   ],
   "source": [
    "!pip install tpot"
   ]
  },
  {
   "cell_type": "code",
   "execution_count": null,
   "metadata": {
    "collapsed": true
   },
   "outputs": [],
   "source": [
    "from tpot import TPOTRegressor\n",
    "#from sklearn.datasets import load_digits\n",
    "import numpy as np\n",
    "\n",
    "X = df[selected_cols]\n",
    "y = df['Appliances']\n",
    "\n",
    "# Taking very small dataset due computational power constraints\n",
    "X_tpot_train, X_tpot_test, y_tpot_train, y_tpot_test = train_test_split(X, y, train_size=0.05, test_size=0.025)\n",
    "\n",
    "tpot = TPOTClassifier(generations=10, population_size=100, verbosity=2, \n",
    "                      n_jobs=-1,warm_start=True, periodic_checkpoint_folder=\"./optCode/\")\n",
    "\n",
    "tpot.fit(X_tpot_train, y_tpot_train)\n",
    "print(tpot.score(X_tpot_test, y_tpot_test))\n",
    "tpot.export('tpot_mnist_pipeline.py')"
   ]
  }
 ],
 "metadata": {
  "kernelspec": {
   "display_name": "Python 3",
   "language": "python",
   "name": "python3"
  },
  "language_info": {
   "codemirror_mode": {
    "name": "ipython",
    "version": 3
   },
   "file_extension": ".py",
   "mimetype": "text/x-python",
   "name": "python",
   "nbconvert_exporter": "python",
   "pygments_lexer": "ipython3",
   "version": "3.6.3"
  }
 },
 "nbformat": 4,
 "nbformat_minor": 2
}
