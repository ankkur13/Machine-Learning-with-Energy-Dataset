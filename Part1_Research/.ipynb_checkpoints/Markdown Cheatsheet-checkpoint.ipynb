{
 "cells": [
  {
   "cell_type": "markdown",
   "metadata": {},
   "source": [
    "# Typography \n"
   ]
  },
  {
   "cell_type": "markdown",
   "metadata": {},
   "source": [
    "# Table of Contents\n",
    "  * [Chapter 1: Headings](#chapter-1)\n",
    "  * [Chapter 2: Horizontal Rules](#chapter-2)\n",
    "  * [Chapter 3: Body Copy](#chapter-3)\n",
    "  * [Chapter 4: Emphasis](#chapter-4)\n",
    "  * [Chapter 5: Blockquotes](#chapter-5)\n",
    "  * [Chapter 6: Lists](#chapter-6)\n",
    "  * [Chapter 7: Tables](#chapter-7)\n",
    "  * [Chapter 8: Links](#chapter-8)\n",
    "  * [Chapter 9: Images](#chapter-9)"
   ]
  },
  {
   "cell_type": "markdown",
   "metadata": {},
   "source": [
    "## Headings <a id=\"chapter-1\"></a>"
   ]
  },
  {
   "cell_type": "markdown",
   "metadata": {},
   "source": [
    "Headings from `h1` through `h6` are constructed with a `#` for each level:"
   ]
  },
  {
   "cell_type": "markdown",
   "metadata": {},
   "source": [
    "``` markdown\n",
    "# h1 Heading\n",
    "## h2 Heading\n",
    "### h3 Heading\n",
    "#### h4 Heading\n",
    "##### h5 Heading\n",
    "###### h6 Heading\n",
    "```"
   ]
  },
  {
   "cell_type": "markdown",
   "metadata": {},
   "source": [
    "Renders to:"
   ]
  },
  {
   "cell_type": "markdown",
   "metadata": {},
   "source": [
    "# h1 Heading\n",
    "## h2 Heading\n",
    "### h3 Heading\n",
    "#### h4 Heading\n",
    "##### h5 Heading\n",
    "###### h6 Heading"
   ]
  },
  {
   "cell_type": "markdown",
   "metadata": {},
   "source": [
    "<br>\n",
    "<br>\n",
    "<br>"
   ]
  },
  {
   "cell_type": "markdown",
   "metadata": {},
   "source": [
    "## Horizontal Rules <a id=\"chapter-2\"></a>"
   ]
  },
  {
   "cell_type": "markdown",
   "metadata": {},
   "source": [
    "The HTML `<hr>` element is for creating a \"thematic break\" between paragraph-level elements. In markdown, you can create a `<hr>` with any of the following:"
   ]
  },
  {
   "cell_type": "markdown",
   "metadata": {},
   "source": [
    "* `___`: three consecutive underscores\n",
    "* `---`: three consecutive dashes\n",
    "* `***`: three consecutive asterisks"
   ]
  },
  {
   "cell_type": "markdown",
   "metadata": {},
   "source": [
    "Renders to:"
   ]
  },
  {
   "cell_type": "markdown",
   "metadata": {},
   "source": [
    "___\n",
    "\n",
    "---\n",
    "\n",
    "***"
   ]
  },
  {
   "cell_type": "markdown",
   "metadata": {},
   "source": [
    "<br>\n",
    "<br>\n",
    "<br>"
   ]
  },
  {
   "cell_type": "markdown",
   "metadata": {},
   "source": [
    "## Body Copy <a id=\"chapter-3\"></a>"
   ]
  },
  {
   "cell_type": "markdown",
   "metadata": {},
   "source": [
    "Body copy written as normal, plain text will be wrapped with `<p></p>` tags in the rendered HTML.\n",
    "\n",
    "So this body copy:"
   ]
  },
  {
   "cell_type": "markdown",
   "metadata": {},
   "source": [
    "``` markdown\n",
    "Lorem ipsum dolor sit amet, graecis denique ei vel, at duo primis mandamus. Et legere ocurreret pri, animal tacimates complectitur ad cum. Cu eum inermis inimicus efficiendi. Labore officiis his ex, soluta officiis concludaturque ei qui, vide sensibus vim ad.\n",
    "```"
   ]
  },
  {
   "cell_type": "markdown",
   "metadata": {},
   "source": [
    "Renders to:"
   ]
  },
  {
   "cell_type": "markdown",
   "metadata": {},
   "source": [
    "``` html\n",
    "<p>Lorem ipsum dolor sit amet, graecis denique ei vel, at duo primis mandamus. Et legere ocurreret pri, animal tacimates complectitur ad cum. Cu eum inermis inimicus efficiendi. Labore officiis his ex, soluta officiis concludaturque ei qui, vide sensibus vim ad.</p>\n",
    "```"
   ]
  },
  {
   "cell_type": "markdown",
   "metadata": {},
   "source": [
    "<br>\n",
    "<br>\n",
    "<br>"
   ]
  },
  {
   "cell_type": "markdown",
   "metadata": {},
   "source": [
    "## Emphasis <a id=\"chapter-4\"></a>"
   ]
  },
  {
   "cell_type": "markdown",
   "metadata": {},
   "source": [
    "### Bold"
   ]
  },
  {
   "cell_type": "markdown",
   "metadata": {},
   "source": [
    "For emphasizing a snippet of text with a heavier font-weight.\n",
    "\n",
    "The following snippet of text is **rendered as bold text**."
   ]
  },
  {
   "cell_type": "markdown",
   "metadata": {},
   "source": [
    "``` markdown\n",
    "**rendered as bold text**\n",
    "```"
   ]
  },
  {
   "cell_type": "markdown",
   "metadata": {},
   "source": [
    "Renders to:"
   ]
  },
  {
   "cell_type": "markdown",
   "metadata": {},
   "source": [
    "**rendered as bold text**"
   ]
  },
  {
   "cell_type": "markdown",
   "metadata": {},
   "source": [
    "and this HTML"
   ]
  },
  {
   "cell_type": "markdown",
   "metadata": {},
   "source": [
    "``` html\n",
    "<strong>rendered as bold text</strong>\n",
    "```"
   ]
  },
  {
   "cell_type": "markdown",
   "metadata": {},
   "source": [
    "### Italics"
   ]
  },
  {
   "cell_type": "markdown",
   "metadata": {},
   "source": [
    "For emphasizing a snippet of text with italics.\n",
    "\n",
    "The following snippet of text is _rendered as italicized text_."
   ]
  },
  {
   "cell_type": "markdown",
   "metadata": {},
   "source": [
    "``` markdown\n",
    "_rendered as italicized text_\n",
    "```"
   ]
  },
  {
   "cell_type": "markdown",
   "metadata": {},
   "source": [
    "renders to:\n"
   ]
  },
  {
   "cell_type": "markdown",
   "metadata": {},
   "source": [
    "_rendered as italicized text_"
   ]
  },
  {
   "cell_type": "markdown",
   "metadata": {},
   "source": [
    "and this HTML:"
   ]
  },
  {
   "cell_type": "markdown",
   "metadata": {},
   "source": [
    "``` html\n",
    "<em>rendered as italicized text</em>\n",
    "```"
   ]
  },
  {
   "cell_type": "markdown",
   "metadata": {},
   "source": [
    "### Strikethrough"
   ]
  },
  {
   "cell_type": "markdown",
   "metadata": {},
   "source": [
    "In GFM you can do strickthroughs. "
   ]
  },
  {
   "cell_type": "markdown",
   "metadata": {},
   "source": [
    "``` markdown\n",
    "~~Strike through this text.~~\n",
    "```"
   ]
  },
  {
   "cell_type": "markdown",
   "metadata": {},
   "source": [
    "Which renders to:"
   ]
  },
  {
   "cell_type": "markdown",
   "metadata": {},
   "source": [
    "~~Strike through this text.~~"
   ]
  },
  {
   "cell_type": "markdown",
   "metadata": {},
   "source": [
    "<br>\n",
    "<br>\n",
    "<br>"
   ]
  },
  {
   "cell_type": "markdown",
   "metadata": {},
   "source": [
    "## Blockquotes <a id=\"chapter-5\"></a>"
   ]
  },
  {
   "cell_type": "markdown",
   "metadata": {},
   "source": [
    "For quoting blocks of content from another source within your document.\n",
    "\n",
    "Add `>` before any text you want to quote. "
   ]
  },
  {
   "cell_type": "markdown",
   "metadata": {},
   "source": [
    "``` markdown\n",
    "Add `>` before any text you want to quote. \n",
    "```"
   ]
  },
  {
   "cell_type": "markdown",
   "metadata": {},
   "source": [
    "Renders to:"
   ]
  },
  {
   "cell_type": "markdown",
   "metadata": {},
   "source": [
    "> Lorem ipsum dolor sit amet, consectetur adipiscing elit. Integer posuere erat a ante."
   ]
  },
  {
   "cell_type": "markdown",
   "metadata": {},
   "source": [
    "and this HTML:"
   ]
  },
  {
   "cell_type": "markdown",
   "metadata": {},
   "source": [
    "``` html\n",
    "<blockquote>\n",
    "  <p>Lorem ipsum dolor sit amet, consectetur adipiscing elit. Integer posuere erat a ante.</p>\n",
    "</blockquote>\n",
    "```"
   ]
  },
  {
   "cell_type": "markdown",
   "metadata": {},
   "source": [
    "Blockquotes can also be nested:"
   ]
  },
  {
   "cell_type": "markdown",
   "metadata": {},
   "source": [
    "``` markdown\n",
    "> Donec massa lacus, ultricies a ullamcorper in, fermentum sed augue. \n",
    "Nunc augue augue, aliquam non hendrerit ac, commodo vel nisi. \n",
    ">> Sed adipiscing elit vitae augue consectetur a gravida nunc vehicula. Donec auctor \n",
    "odio non est accumsan facilisis. Aliquam id turpis in dolor tincidunt mollis ac eu diam.\n",
    ">>> Donec massa lacus, ultricies a ullamcorper in, fermentum sed augue. \n",
    "Nunc augue augue, aliquam non hendrerit ac, commodo vel nisi. \n",
    "```"
   ]
  },
  {
   "cell_type": "markdown",
   "metadata": {},
   "source": [
    "Renders to:"
   ]
  },
  {
   "cell_type": "markdown",
   "metadata": {},
   "source": [
    "> Donec massa lacus, ultricies a ullamcorper in, fermentum sed augue. \n",
    "Nunc augue augue, aliquam non hendrerit ac, commodo vel nisi. \n",
    ">> Sed adipiscing elit vitae augue consectetur a gravida nunc vehicula. Donec auctor \n",
    "odio non est accumsan facilisis. Aliquam id turpis in dolor tincidunt mollis ac eu diam.\n",
    ">>> Donec massa lacus, ultricies a ullamcorper in, fermentum sed augue. \n",
    "Nunc augue augue, aliquam non hendrerit ac, commodo vel nisi. "
   ]
  },
  {
   "cell_type": "markdown",
   "metadata": {},
   "source": [
    "<br>\n",
    "<br>\n",
    "<br>\n"
   ]
  },
  {
   "cell_type": "markdown",
   "metadata": {},
   "source": [
    "## Lists <a id=\"chapter-6\"></a>"
   ]
  },
  {
   "cell_type": "markdown",
   "metadata": {},
   "source": [
    "### Unordered"
   ]
  },
  {
   "cell_type": "markdown",
   "metadata": {},
   "source": [
    "A list of items in which the order of the items does not explicitly matter.\n",
    "\n",
    "You may use any of the following symbols to denote bullets for each list item:"
   ]
  },
  {
   "cell_type": "markdown",
   "metadata": {},
   "source": [
    "```markdown\n",
    "* valid bullet\n",
    "- valid bullet\n",
    "+ valid bullet\n",
    "```"
   ]
  },
  {
   "cell_type": "markdown",
   "metadata": {},
   "source": [
    "For example"
   ]
  },
  {
   "cell_type": "markdown",
   "metadata": {},
   "source": [
    "``` markdown\n",
    "+ Lorem ipsum dolor sit amet\n",
    "+ Consectetur adipiscing elit\n",
    "+ Integer molestie lorem at massa\n",
    "+ Facilisis in pretium nisl aliquet\n",
    "+ Nulla volutpat aliquam velit\n",
    "  - Phasellus iaculis neque\n",
    "  - Purus sodales ultricies\n",
    "  - Vestibulum laoreet porttitor sem\n",
    "  - Ac tristique libero volutpat at\n",
    "+ Faucibus porta lacus fringilla vel\n",
    "+ Aenean sit amet erat nunc\n",
    "+ Eget porttitor lorem\n",
    "```"
   ]
  },
  {
   "cell_type": "markdown",
   "metadata": {},
   "source": [
    "Renders to:"
   ]
  },
  {
   "cell_type": "markdown",
   "metadata": {},
   "source": [
    "+ Lorem ipsum dolor sit amet\n",
    "+ Consectetur adipiscing elit\n",
    "+ Integer molestie lorem at massa\n",
    "+ Facilisis in pretium nisl aliquet\n",
    "+ Nulla volutpat aliquam velit\n",
    "  - Phasellus iaculis neque\n",
    "  - Purus sodales ultricies\n",
    "  - Vestibulum laoreet porttitor sem\n",
    "  - Ac tristique libero volutpat at\n",
    "+ Faucibus porta lacus fringilla vel\n",
    "+ Aenean sit amet erat nunc\n",
    "+ Eget porttitor lorem"
   ]
  },
  {
   "cell_type": "markdown",
   "metadata": {},
   "source": [
    "And this HTML"
   ]
  },
  {
   "cell_type": "markdown",
   "metadata": {},
   "source": [
    "``` html\n",
    "<ul>\n",
    "  <li>Lorem ipsum dolor sit amet</li>\n",
    "  <li>Consectetur adipiscing elit</li>\n",
    "  <li>Integer molestie lorem at massa</li>\n",
    "  <li>Facilisis in pretium nisl aliquet</li>\n",
    "  <li>Nulla volutpat aliquam velit\n",
    "    <ul>\n",
    "      <li>Phasellus iaculis neque</li>\n",
    "      <li>Purus sodales ultricies</li>\n",
    "      <li>Vestibulum laoreet porttitor sem</li>\n",
    "      <li>Ac tristique libero volutpat at</li>\n",
    "    </ul>\n",
    "  </li>\n",
    "  <li>Faucibus porta lacus fringilla vel</li>\n",
    "  <li>Aenean sit amet erat nunc</li>\n",
    "  <li>Eget porttitor lorem</li>\n",
    "</ul>\n",
    "```"
   ]
  },
  {
   "cell_type": "markdown",
   "metadata": {},
   "source": [
    "### Ordered"
   ]
  },
  {
   "cell_type": "markdown",
   "metadata": {},
   "source": [
    "A list of items in which the order of items does explicitly matter."
   ]
  },
  {
   "cell_type": "markdown",
   "metadata": {},
   "source": [
    "``` markdown\n",
    "1. Lorem ipsum dolor sit amet\n",
    "2. Consectetur adipiscing elit\n",
    "3. Integer molestie lorem at massa\n",
    "4. Facilisis in pretium nisl aliquet\n",
    "5. Nulla volutpat aliquam velit\n",
    "6. Faucibus porta lacus fringilla vel\n",
    "7. Aenean sit amet erat nunc\n",
    "8. Eget porttitor lorem\n",
    "```"
   ]
  },
  {
   "cell_type": "markdown",
   "metadata": {},
   "source": [
    "Renders to:"
   ]
  },
  {
   "cell_type": "markdown",
   "metadata": {},
   "source": [
    "1. Lorem ipsum dolor sit amet\n",
    "2. Consectetur adipiscing elit\n",
    "3. Integer molestie lorem at massa\n",
    "4. Facilisis in pretium nisl aliquet\n",
    "5. Nulla volutpat aliquam velit\n",
    "6. Faucibus porta lacus fringilla vel\n",
    "7. Aenean sit amet erat nunc\n",
    "8. Eget porttitor lorem"
   ]
  },
  {
   "cell_type": "markdown",
   "metadata": {},
   "source": [
    "And this HTML:"
   ]
  },
  {
   "cell_type": "markdown",
   "metadata": {},
   "source": [
    "``` html\n",
    "<ol>\n",
    "  <li>Lorem ipsum dolor sit amet</li>\n",
    "  <li>Consectetur adipiscing elit</li>\n",
    "  <li>Integer molestie lorem at massa</li>\n",
    "  <li>Facilisis in pretium nisl aliquet</li>\n",
    "  <li>Nulla volutpat aliquam velit</li>\n",
    "  <li>Faucibus porta lacus fringilla vel</li>\n",
    "  <li>Aenean sit amet erat nunc</li>\n",
    "  <li>Eget porttitor lorem</li>\n",
    "</ol>\n",
    "```"
   ]
  },
  {
   "cell_type": "markdown",
   "metadata": {},
   "source": [
    "**TIP**: If you just use `1.` for each number, GitHub will automatically number each item. For example:"
   ]
  },
  {
   "cell_type": "markdown",
   "metadata": {},
   "source": [
    "``` markdown\n",
    "1. Lorem ipsum dolor sit amet\n",
    "1. Consectetur adipiscing elit\n",
    "1. Integer molestie lorem at massa\n",
    "1. Facilisis in pretium nisl aliquet\n",
    "1. Nulla volutpat aliquam velit\n",
    "1. Faucibus porta lacus fringilla vel\n",
    "1. Aenean sit amet erat nunc\n",
    "1. Eget porttitor lorem\n",
    "```"
   ]
  },
  {
   "cell_type": "markdown",
   "metadata": {},
   "source": [
    "Renders to:"
   ]
  },
  {
   "cell_type": "markdown",
   "metadata": {},
   "source": [
    "1. Lorem ipsum dolor sit amet\n",
    "2. Consectetur adipiscing elit\n",
    "3. Integer molestie lorem at massa\n",
    "4. Facilisis in pretium nisl aliquet\n",
    "5. Nulla volutpat aliquam velit\n",
    "6. Faucibus porta lacus fringilla vel\n",
    "7. Aenean sit amet erat nunc\n",
    "8. Eget porttitor lorem"
   ]
  },
  {
   "cell_type": "markdown",
   "metadata": {},
   "source": [
    "<br>\n",
    "<br>\n",
    "<br>\n"
   ]
  },
  {
   "cell_type": "markdown",
   "metadata": {},
   "source": [
    "## Tables <a id=\"chapter-7\"></a>"
   ]
  },
  {
   "cell_type": "markdown",
   "metadata": {},
   "source": [
    "Tables are created by adding pipes as dividers between each cell, and by adding a line of dashes (also separated by bars) beneath the header. Note that the pipes do not need to be vertically aligned."
   ]
  },
  {
   "cell_type": "markdown",
   "metadata": {},
   "source": [
    "``` markdown\n",
    "| Option | Description |\n",
    "| ------ | ----------- |\n",
    "| data   | path to data files to supply the data that will be passed into templates. |\n",
    "| engine | engine to be used for processing templates. Handlebars is the default. |\n",
    "| ext    | extension to be used for dest files. |\n",
    "```"
   ]
  },
  {
   "cell_type": "markdown",
   "metadata": {},
   "source": [
    "Renders to:"
   ]
  },
  {
   "cell_type": "markdown",
   "metadata": {},
   "source": [
    "| Option | Description |\n",
    "| ------ | ----------- |\n",
    "| data   | path to data files to supply the data that will be passed into templates. |\n",
    "| engine | engine to be used for processing templates. Handlebars is the default. |\n",
    "| ext    | extension to be used for dest files. |"
   ]
  },
  {
   "cell_type": "markdown",
   "metadata": {},
   "source": [
    "And this HTML:"
   ]
  },
  {
   "cell_type": "markdown",
   "metadata": {},
   "source": [
    "``` html\n",
    "<table>\n",
    "  <tr>\n",
    "    <th>Option</th>\n",
    "    <th>Description</th>\n",
    "  </tr>\n",
    "  <tr>\n",
    "    <td>data</td>\n",
    "    <td>path to data files to supply the data that will be passed into templates.</td>\n",
    "  </tr>\n",
    "  <tr>\n",
    "    <td>engine</td>\n",
    "    <td>engine to be used for processing templates. Handlebars is the default.</td>\n",
    "  </tr>\n",
    "  <tr>\n",
    "    <td>ext</td>\n",
    "    <td>extension to be used for dest files.</td>\n",
    "  </tr>\n",
    "</table>\n",
    "```"
   ]
  },
  {
   "cell_type": "markdown",
   "metadata": {},
   "source": [
    "### Right aligned text"
   ]
  },
  {
   "cell_type": "markdown",
   "metadata": {},
   "source": [
    "Adding a colon on the right side of the dashes below any heading will right align text for that column."
   ]
  },
  {
   "cell_type": "markdown",
   "metadata": {},
   "source": [
    "``` markdown\n",
    "| Option | Description |\n",
    "| ------:| -----------:|\n",
    "| data   | path to data files to supply the data that will be passed into templates. |\n",
    "| engine | engine to be used for processing templates. Handlebars is the default. |\n",
    "| ext    | extension to be used for dest files. |\n",
    "```"
   ]
  },
  {
   "cell_type": "markdown",
   "metadata": {},
   "source": [
    "| Option | Description |\n",
    "| ------:| -----------:|\n",
    "| data   | path to data files to supply the data that will be passed into templates. |\n",
    "| engine | engine to be used for processing templates. Handlebars is the default. |\n",
    "| ext    | extension to be used for dest files. |"
   ]
  },
  {
   "cell_type": "markdown",
   "metadata": {},
   "source": [
    "<br>\n",
    "<br>\n",
    "<br>"
   ]
  },
  {
   "cell_type": "markdown",
   "metadata": {},
   "source": [
    "## Links <a id=\"chapter-8\"></a>"
   ]
  },
  {
   "cell_type": "markdown",
   "metadata": {},
   "source": [
    "### Basic link"
   ]
  },
  {
   "cell_type": "markdown",
   "metadata": {},
   "source": [
    "``` markdown\n",
    "[Assemble](http://assemble.io)\n",
    "```"
   ]
  },
  {
   "cell_type": "markdown",
   "metadata": {},
   "source": [
    "Renders to (hover over the link, there is no tooltip):"
   ]
  },
  {
   "cell_type": "markdown",
   "metadata": {},
   "source": [
    "[Assemble](http://assemble.io)"
   ]
  },
  {
   "cell_type": "markdown",
   "metadata": {},
   "source": [
    "HTML:"
   ]
  },
  {
   "cell_type": "markdown",
   "metadata": {},
   "source": [
    "\n",
    "``` html\n",
    "<a href=\"http://assemble.io\">Assemble</a>\n",
    "```"
   ]
  },
  {
   "cell_type": "markdown",
   "metadata": {},
   "source": [
    "### Add a title"
   ]
  },
  {
   "cell_type": "markdown",
   "metadata": {},
   "source": [
    "``` markdown\n",
    "[Upstage](https://github.com/upstage/ \"Visit Upstage!\")\n",
    "```"
   ]
  },
  {
   "cell_type": "markdown",
   "metadata": {},
   "source": [
    "Renders to (hover over the link, there should be a tooltip):"
   ]
  },
  {
   "cell_type": "markdown",
   "metadata": {},
   "source": [
    "[Upstage](https://github.com/upstage/ \"Visit Upstage!\")"
   ]
  },
  {
   "cell_type": "markdown",
   "metadata": {},
   "source": [
    "HTML:"
   ]
  },
  {
   "cell_type": "markdown",
   "metadata": {},
   "source": [
    "``` html\n",
    "<a href=\"https://github.com/upstage/\" title=\"Visit Upstage!\">Upstage</a>\n",
    "```"
   ]
  },
  {
   "cell_type": "markdown",
   "metadata": {},
   "source": [
    "### Named Anchors"
   ]
  },
  {
   "cell_type": "markdown",
   "metadata": {},
   "source": [
    "Named anchors enable you to jump to the specified anchor point on the same page. For example, each of these chapters:"
   ]
  },
  {
   "cell_type": "markdown",
   "metadata": {},
   "source": [
    "```markdown\n",
    "# Table of Contents\n",
    "  * [Chapter 1](#chapter-1)\n",
    "  * [Chapter 2](#chapter-2)\n",
    "  * [Chapter 3](#chapter-3)\n",
    "```"
   ]
  },
  {
   "cell_type": "markdown",
   "metadata": {},
   "source": [
    "will jump to these sections:"
   ]
  },
  {
   "cell_type": "markdown",
   "metadata": {},
   "source": [
    "```markdown\n",
    "## Chapter 1 <a id=\"chapter-1\"></a>\n",
    "Content for chapter one.\n",
    "\n",
    "## Chapter 2 <a id=\"chapter-2\"></a>\n",
    "Content for chapter one.\n",
    "\n",
    "## Chapter 3 <a id=\"chapter-3\"></a>\n",
    "Content for chapter one.\n",
    "```"
   ]
  },
  {
   "cell_type": "markdown",
   "metadata": {
    "collapsed": true
   },
   "source": [
    "**NOTE** that specific placement of the anchor tag seems to be arbitrary. They are placed inline here since it seems to be unobtrusive, and it works."
   ]
  },
  {
   "cell_type": "markdown",
   "metadata": {
    "collapsed": true
   },
   "source": [
    "<br>\n",
    "<br>\n",
    "<br>"
   ]
  },
  {
   "cell_type": "markdown",
   "metadata": {
    "collapsed": true
   },
   "source": [
    "## Images <a id=\"chapter-9\"></a>"
   ]
  },
  {
   "cell_type": "markdown",
   "metadata": {
    "collapsed": true
   },
   "source": [
    "Images have a similar syntax to links but include a preceding exclamation point."
   ]
  },
  {
   "cell_type": "markdown",
   "metadata": {
    "collapsed": true
   },
   "source": [
    "``` markdown\n",
    "![Minion](http://octodex.github.com/images/minion.png)\n",
    "```\n",
    "![Minion](http://octodex.github.com/images/minion.png)"
   ]
  },
  {
   "cell_type": "markdown",
   "metadata": {
    "collapsed": true
   },
   "source": [
    "or"
   ]
  },
  {
   "cell_type": "markdown",
   "metadata": {},
   "source": [
    "``` markdown\n",
    "![Alt text](http://octodex.github.com/images/stormtroopocat.jpg \"The Stormtroopocat\")\n",
    "```\n",
    "![Alt text](http://octodex.github.com/images/stormtroopocat.jpg \"The Stormtroopocat\")"
   ]
  },
  {
   "cell_type": "markdown",
   "metadata": {
    "collapsed": true
   },
   "source": [
    "Like links, Images also have a footnote style syntax"
   ]
  },
  {
   "cell_type": "markdown",
   "metadata": {
    "collapsed": true
   },
   "source": [
    "``` markdown\n",
    "![Alt text][id]\n",
    "```\n",
    "![Alt text][id]"
   ]
  },
  {
   "cell_type": "markdown",
   "metadata": {
    "collapsed": true
   },
   "source": [
    "With a reference later in the document defining the URL location:\n",
    "\n",
    "[id]: http://octodex.github.com/images/dojocat.jpg  \"The Dojocat\"\n",
    "\n",
    "\n",
    "    [id]: http://octodex.github.com/images/dojocat.jpg  \"The Dojocat\""
   ]
  }
 ],
 "metadata": {
  "kernelspec": {
   "display_name": "Python 3",
   "language": "python",
   "name": "python3"
  },
  "language_info": {
   "codemirror_mode": {
    "name": "ipython",
    "version": 3
   },
   "file_extension": ".py",
   "mimetype": "text/x-python",
   "name": "python",
   "nbconvert_exporter": "python",
   "pygments_lexer": "ipython3",
   "version": "3.6.3"
  }
 },
 "nbformat": 4,
 "nbformat_minor": 2
}
