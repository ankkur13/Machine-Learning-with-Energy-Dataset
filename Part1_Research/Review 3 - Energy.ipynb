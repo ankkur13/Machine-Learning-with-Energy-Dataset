{
 "cells": [
  {
   "cell_type": "markdown",
   "metadata": {},
   "source": [
    "# Paper Review\n",
    ">**Title** - [Prediction of appliances energy use in smart homes](http://assemble.io)\n",
    "\n",
    ">**Authors** - [Nicoleta Arghira, Lamis Hawarah, Stephane Ploix, Mireille Jacomino](http://assemble.io)"
   ]
  },
  {
   "cell_type": "markdown",
   "metadata": {},
   "source": [
    "# **Summary Of Paper**"
   ]
  },
  {
   "cell_type": "markdown",
   "metadata": {},
   "source": [
    "As the title of this paper implies, it is a prospective study for predicting the energy consumption of different appliances in homes using historical data for next day. Paper is very well prepared and the language used is appropriate with no major errors. Author has also tried to decsribe the idea of the study using various plots which makes it precise and easy to understand."
   ]
  },
  {
   "cell_type": "markdown",
   "metadata": {},
   "source": [
    "# **Introduction**"
   ]
  },
  {
   "cell_type": "markdown",
   "metadata": {},
   "source": [
    "In this section along with the approach used for energy prediction, author has briefly described various methodologies for forecasting the energy consumption. "
   ]
  },
  {
   "cell_type": "markdown",
   "metadata": {},
   "source": [
    "# **Need for Energy Prediction**"
   ]
  },
  {
   "cell_type": "markdown",
   "metadata": {},
   "source": [
    "After briefly introducing the purpose of the paper author has directed his attention towards the \n",
    "importance and need of such concepts including smart grid and smart home which involves many policies for energy saving \n",
    "such as direct control and demand dispatch by relating energy consumption with demand, but author has failed to provide any relevant application or comparison of this concepts which would have made it more opportune."
   ]
  },
  {
   "cell_type": "markdown",
   "metadata": {},
   "source": [
    "# Methodologies"
   ]
  },
  {
   "cell_type": "markdown",
   "metadata": {},
   "source": [
    "The objective for using wide range of methods is to come up with an optimal energy saving plan, but the data considered for prediction is only of 100 households of a specific region. I am not convinced with implementation of such method because of  features like temparature, wind strength, humidity which might not cause much variations to the energy saving plan as such plans cannot be implemented to other regions with different climatic conditions. But on the contrary author has come up with various plots and graphs whcih makes it easy to compare prediction results for various methods."
   ]
  },
  {
   "cell_type": "markdown",
   "metadata": {},
   "source": [
    "# Predictor Performance"
   ]
  },
  {
   "cell_type": "markdown",
   "metadata": {},
   "source": [
    "Here author has categorised predictors in an unrealistic way by considering the probablity of the predictor which comes to be 0 or 1. This approach is not feasible as to get a precise result each and every point of energy consumption of an appliance should be considered. Along with this the formulaic approach to express precision of the predictor is not well explained and cannot be undertsand by a layman.\n"
   ]
  },
  {
   "cell_type": "markdown",
   "metadata": {},
   "source": [
    "# Improving Precision"
   ]
  },
  {
   "cell_type": "markdown",
   "metadata": {},
   "source": [
    "Author has productively represented the segmentation of data considering diffrent aspects like season, time etc, and the grouping of similar consumption days using K-means clustering is also unobjectionable. Also Obtaining different clusters for weekdays and weekends makes it more precise in terms of prediction whcih author has succesfully accomplished in this paper."
   ]
  },
  {
   "cell_type": "markdown",
   "metadata": {},
   "source": [
    "# Conclusion"
   ]
  },
  {
   "cell_type": "markdown",
   "metadata": {},
   "source": [
    "It is clear from the research reviewed that the prediction of energy consumption is sheerly dependent on the inhabitant's behavior. Along with this it is well concluded that deriving patterns in data using segmentation will result in a decisive predictor.\n"
   ]
  }
 ],
 "metadata": {
  "kernelspec": {
   "display_name": "Python 3",
   "language": "python",
   "name": "python3"
  },
  "language_info": {
   "codemirror_mode": {
    "name": "ipython",
    "version": 3
   },
   "file_extension": ".py",
   "mimetype": "text/x-python",
   "name": "python",
   "nbconvert_exporter": "python",
   "pygments_lexer": "ipython3",
   "version": "3.6.3"
  }
 },
 "nbformat": 4,
 "nbformat_minor": 2
}
