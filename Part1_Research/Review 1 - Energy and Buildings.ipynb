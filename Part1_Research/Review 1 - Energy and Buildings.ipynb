{
 "cells": [
  {
   "cell_type": "markdown",
   "metadata": {
    "collapsed": true
   },
   "source": [
    "# Paper Review 1\n",
    "> **Title** - &nbsp;&nbsp;&nbsp;&nbsp;&nbsp;&nbsp; <a href='https://www.sciencedirect.com/science/article/pii/S0378778816308970?via%3Dihub'> Data driven prediction models of energy use of appliances in a low-energy house </a> <br>\n",
    "> **Authors** - &nbsp;Luis M.Candanedo, VéroniqueFeldheim, DominiqueDeramaix\n"
   ]
  },
  {
   "cell_type": "markdown",
   "metadata": {},
   "source": [
    "---"
   ]
  },
  {
   "cell_type": "markdown",
   "metadata": {
    "collapsed": true
   },
   "source": [
    "### Ratings Of Paper\n",
    "A score between 0 to 5 with 0 being the least\n",
    "- Originality of the paper &nbsp; [5]\n",
    "- Technical soundness &nbsp;&nbsp;&nbsp;&nbsp; [5]\n",
    "- Significance &nbsp;&nbsp;&nbsp;&nbsp;&nbsp;&nbsp;&nbsp;&nbsp;&nbsp;&nbsp;&nbsp;&nbsp;&nbsp;&nbsp;&nbsp;&nbsp;&nbsp;&nbsp; [5]\n",
    "- Clarity of presentation &nbsp;&nbsp; [4]\n",
    "- Relevance &nbsp;&nbsp;&nbsp;&nbsp;&nbsp;&nbsp;&nbsp;&nbsp;&nbsp;&nbsp;&nbsp;&nbsp;&nbsp;&nbsp;&nbsp;&nbsp;&nbsp;&nbsp;&nbsp;&nbsp; [5]"
   ]
  },
  {
   "cell_type": "markdown",
   "metadata": {
    "collapsed": true
   },
   "source": [
    "### Title, Keywords, and Article History \n",
    "The title is perfectly matches with the summary of the article. And, also the keywords accurately reflected the content of the paper. The Article history is also in the chronological order. The overall language used in the article is simple and easy to understand; there are no grammatical errors and spelling mistakes; no punctuation errors."
   ]
  },
  {
   "cell_type": "markdown",
   "metadata": {},
   "source": [
    "---"
   ]
  },
  {
   "cell_type": "markdown",
   "metadata": {
    "collapsed": true
   },
   "source": [
    "## Abstract"
   ]
  },
  {
   "cell_type": "markdown",
   "metadata": {
    "collapsed": true
   },
   "source": [
    "The abstract of the article provides the summary of the paper. Though authors are really not sure whether atmospheric pressure should be included in energy prediction models. "
   ]
  },
  {
   "cell_type": "markdown",
   "metadata": {
    "collapsed": true
   },
   "source": [
    "## Introduction "
   ]
  },
  {
   "cell_type": "markdown",
   "metadata": {
    "collapsed": true
   },
   "source": [
    "This section is too big and unwanted information is presented. Like, there are no use of house pictures in the article. Similarly, author introduced the work presented in each research paper they referred. The author wrote 3 pages for introduction. This should be brief and easy to understand.  And, also the author used abbreviation form but the full form is not given for eg. HVAC. It makes too difficult for the lay man to understand these terminologies.On a positive note,\n",
    "the author used pie charts which is a best way to demonstrate the energy consumption."
   ]
  },
  {
   "cell_type": "markdown",
   "metadata": {
    "collapsed": true
   },
   "source": [
    "## House Description "
   ]
  },
  {
   "cell_type": "markdown",
   "metadata": {
    "collapsed": true
   },
   "source": [
    "After introduction, the paper focussed on the house description, they considered various parameters such as floor area, ventilation, windows, no of occupants etc. In this section, the author used some variables like T1, T2, T3...and RH1, RH2, RH3...Instead of these variables, the author could use auto-descriptive variables which would be easy to understand. Again, the author used a picture of one wireless sensor which I think of no or little use here. On the other side, the author perfectly described the house and its appliances. They also considered all the floors in the house."
   ]
  },
  {
   "cell_type": "markdown",
   "metadata": {
    "collapsed": true
   },
   "source": [
    "## Data and Description "
   ]
  },
  {
   "cell_type": "markdown",
   "metadata": {
    "collapsed": true
   },
   "source": [
    "The span of dataset used for analysis is only 4.5 months. I am not agree with this, because if author used the weather predictors like atmospheric pressure, temperature, and wind speed then author should gather at least one year of data in order to get the perfect result. Also the weather station is not near the house, it is 12 km far from the house. It means that the weather data collected may be vary and it could be different. On a positive side, author showed pairplot, boxplot, and correlation matrix to demonstrate the relationship among the predictors. "
   ]
  },
  {
   "cell_type": "markdown",
   "metadata": {},
   "source": [
    "## Performance of Regression Models and model selection "
   ]
  },
  {
   "cell_type": "markdown",
   "metadata": {},
   "source": [
    "Here, the author calculated the result with RMSE, R-square, MAE, MAPE for each one of the model and then considered the best prediction model based on the result of above calculations (lower RMSE and highest R-Square). In this section, the author breached  the consistency for eg.  the author mentioned R squared as R2 and R-Squared. This paper successfully achieved how to filter data to remove non-predictive parameters (feature selection)."
   ]
  },
  {
   "cell_type": "markdown",
   "metadata": {},
   "source": [
    "# Research Limitation "
   ]
  },
  {
   "cell_type": "markdown",
   "metadata": {},
   "source": [
    "There are various limitations in this article such as the author considered only one house for the study. It could be better if the author used several houses' data for study. As mentioned earlier, the weather station is 12 km far from the house, the data will not be accurate to study. Other things should be keep in mind such as occupants age, no of occupants. To improve the energy prediction, the better sensors accuracy could help. Also, the optimal location of wireless indoor sensors is not mentioned. Also, the occupant's activity information and the measurement of CO2 by wireless sensors could be useful to improve the prediction. The weather data such as solar radiation and precipitation could also be considered. "
   ]
  },
  {
   "cell_type": "markdown",
   "metadata": {},
   "source": [
    "# Conclusion "
   ]
  },
  {
   "cell_type": "markdown",
   "metadata": {},
   "source": [
    "In this section there is an error. RMSE mentioned as RSME. The author successfully reflected up on the aims. The author achieved the objective of the paper. This section also fairly concluded that the pressure also plays an important role in energy prediction using GBM model."
   ]
  }
 ],
 "metadata": {
  "kernelspec": {
   "display_name": "Python 3",
   "language": "python",
   "name": "python3"
  },
  "language_info": {
   "codemirror_mode": {
    "name": "ipython",
    "version": 3
   },
   "file_extension": ".py",
   "mimetype": "text/x-python",
   "name": "python",
   "nbconvert_exporter": "python",
   "pygments_lexer": "ipython3",
   "version": "3.6.1"
  }
 },
 "nbformat": 4,
 "nbformat_minor": 2
}
