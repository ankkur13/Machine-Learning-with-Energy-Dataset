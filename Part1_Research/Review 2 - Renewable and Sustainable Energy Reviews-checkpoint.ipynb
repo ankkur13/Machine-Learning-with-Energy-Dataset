{
 "cells": [
  {
   "cell_type": "markdown",
   "metadata": {
    "collapsed": true
   },
   "source": [
    "# Paper Review\n",
    "> **Title** - <a href='https://www.sciencedirect.com/science/article/pii/S1364032116307420'>A Review Of Artificial Intelligence Based Building Energy Use Prediction: Contrasting The Capabilities Of Single And Ensemble Prediction Models</a><br>\n",
    "> **Authors** - Zeyu Wang, Ravi S. Srinivasan\n"
   ]
  },
  {
   "cell_type": "markdown",
   "metadata": {},
   "source": [
    "---"
   ]
  },
  {
   "cell_type": "markdown",
   "metadata": {
    "collapsed": true
   },
   "source": [
    "### Ratings Of Paper\n",
    "A score between 0 to 5 with 0 being the least\n",
    "- Originality of the paper &nbsp; [5]\n",
    "- Technical soundness &nbsp;&nbsp;&nbsp;&nbsp; [4]\n",
    "- Significance &nbsp;&nbsp;&nbsp;&nbsp;&nbsp;&nbsp;&nbsp;&nbsp;&nbsp;&nbsp;&nbsp;&nbsp;&nbsp;&nbsp;&nbsp;&nbsp;&nbsp;&nbsp; [5]\n",
    "- Clarity of presentation &nbsp;&nbsp;&nbsp; [5]\n",
    "- Relevance &nbsp;&nbsp;&nbsp;&nbsp;&nbsp;&nbsp;&nbsp;&nbsp;&nbsp;&nbsp;&nbsp;&nbsp;&nbsp;&nbsp;&nbsp;&nbsp;&nbsp;&nbsp;&nbsp;&nbsp;&nbsp; [5]"
   ]
  },
  {
   "cell_type": "markdown",
   "metadata": {
    "collapsed": true
   },
   "source": [
    "### Length\n",
    "Relative to the useful contents of the paper\n",
    "- [X] &nbsp; About right\n",
    "- [  &nbsp;] &nbsp; Should be shortened\n",
    "- [  &nbsp;] &nbsp; Should be extended"
   ]
  },
  {
   "cell_type": "markdown",
   "metadata": {},
   "source": [
    "---"
   ]
  },
  {
   "cell_type": "markdown",
   "metadata": {
    "collapsed": true
   },
   "source": [
    "## Summary Of Paper"
   ]
  },
  {
   "cell_type": "markdown",
   "metadata": {
    "collapsed": true
   },
   "source": [
    "The paper focuses upon the importance of Building-Energy-Use prediction to promote developments in renewable and sustainable energy. It compared and showcased the dominant advantages of Artificial Intelligence (AI) based methods over engineering and hybrid methods. It discussed two AI based methods in detail, namely Single (Multiple Linear Regression, Artificial Neural Networks, Support Vector Regression), which is widely used, and Ensemble (Homogeneous and Heterogeneous), use of which commenced recently. The author has reviewed 35 and 12 journals to understand on current AI based approaches and applications of Ensemble model, respectively. Also, the paper has directed on ways to improve on these method’s accuracy in the near future."
   ]
  },
  {
   "cell_type": "markdown",
   "metadata": {
    "collapsed": true
   },
   "source": [
    "## Good Things About The Paper"
   ]
  },
  {
   "cell_type": "markdown",
   "metadata": {
    "collapsed": true
   },
   "source": [
    "The title and logical structure of the paper is in place and gives a good representation of its contents. The abstract summarizes the paper and includes conclusions as well as the statement of the original problem. Keywords accurately indicates the content of the paper and language used is simple and clear. The tables, graphs and pictorial representation of the data is commendable.\n"
   ]
  },
  {
   "cell_type": "markdown",
   "metadata": {
    "collapsed": true
   },
   "source": [
    "## Major Comments"
   ]
  },
  {
   "cell_type": "markdown",
   "metadata": {
    "collapsed": true
   },
   "source": [
    "**Section 1. Introduction** - It is briefly written and explained why the topic of discussion is important. But as the paper is published in the context of Renewable & Sustainable Energy, a brief and specific urgency to show the importance of predicting building-energy-use can be established. This will elevate the importance of an AI based approach and relate it to the sustainable world.\n",
    "\n",
    "**Section 2. Current Trends** - The table and pie charts presented in this section gives a very brief outline of a huge content of 35 journals discussed. Although, the pie charts can be reduced in size and an additional graph for ‘_Section 2.2. Prediction Method_’ can be added to bring a uniformity to this section.\n",
    "\n",
    "**Section 3. AI-based Prediction Models & Section 4. Discussion** - The body of the paper efficiently elaborates the keywords given. The start of this section has set a flow or an environment for a layman to understand the concept, until ‘_Section 3.1.3 Support Vector Regression_’ which sways towards more technical audience. I will recommend to take either side - technical or non-technical. Also, the definition of ‘_Ensemble_’ and ‘_Single_’ model is repetitive throughout the contents, which is not required.\n",
    "\n",
    "**Section 5. Conclusion** - It concisely follows from the body of the paper and reflected up on the aims. The author has achieved the objective of the paper.\n",
    "\n",
    "**Other** - '_Fig. 6_' and '_Fig. 7_' are not referred to in the text."
   ]
  },
  {
   "cell_type": "markdown",
   "metadata": {
    "collapsed": true
   },
   "source": [
    "## Minor Comments"
   ]
  },
  {
   "cell_type": "markdown",
   "metadata": {
    "collapsed": true
   },
   "source": [
    "**Table 1** - In ‘_Table 1_’ under ‘_Prediction time scale_’ - ‘_Other_’ column there is a lack of uniformity, for example ‘_15 min_’ and ‘_15 Mins_’. Also, a light weighted line separating two rows will help reader to trace through the row. And there is possibility to compress the table in one page, to save space and better representation.\n",
    "\n",
    "**Table 2** - Again, with alteration, it can be compressed into one page."
   ]
  }
 ],
 "metadata": {
  "kernelspec": {
   "display_name": "Python 3",
   "language": "python",
   "name": "python3"
  },
  "language_info": {
   "codemirror_mode": {
    "name": "ipython",
    "version": 3
   },
   "file_extension": ".py",
   "mimetype": "text/x-python",
   "name": "python",
   "nbconvert_exporter": "python",
   "pygments_lexer": "ipython3",
   "version": "3.6.3"
  }
 },
 "nbformat": 4,
 "nbformat_minor": 2
}
